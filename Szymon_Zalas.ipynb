{
 "cells": [
  {
   "cell_type": "markdown",
   "metadata": {},
   "source": [
    "# Analiza datasetu Gender, Mental Illness, and Crime in the United States, 2004 (ICPSR 27521)"
   ]
  },
  {
   "cell_type": "markdown",
   "metadata": {},
   "source": [
    "Szymon Zalas 147493\n",
    "\n",
    "Na podstawie https://put-jug.github.io/lab-ead/Lab%2010%20-%20Projekt%20blok2_2024.html"
   ]
  },
  {
   "cell_type": "code",
   "execution_count": 1,
   "metadata": {},
   "outputs": [],
   "source": [
    "import pandas as pd\n",
    "import seaborn as sns\n",
    "import matplotlib.pyplot as plt"
   ]
  },
  {
   "cell_type": "markdown",
   "metadata": {},
   "source": [
    "## 0) Omówienie Projektu"
   ]
  },
  {
   "cell_type": "markdown",
   "metadata": {},
   "source": [
    "### a) Opis próby"
   ]
  },
  {
   "cell_type": "markdown",
   "metadata": {},
   "source": [
    "Celem projetku jest znalezienie czynników odpowiedzialnych za depresję, tak żeby po ich określeniu można było dokonać oceny ryzyka depresji w danej grupie wiekowej na podstawie datasetu Gender, Mental Illness, and Crime in the United States, 2004 (ICPSR 27521). Próba obejmowała 67 760 osób, z czego plik zawiera 55 602 rekordów ze względu na resampling stosowany w procesie anonimizacji. Stratyfikacja próby jest wielopoziomowa, zaczynając od stanów, gdzie 8 jest uważanych za stany o dużej próbie i wnoszą ok. 3600 respondentów na stan. Reszta stanów obejmuje ok 900 respondentów. \n",
    "\n",
    " Próbkowanie obejmowało pięć grup wiekowych: \n",
    "- 12–17 lat,\n",
    "- 18–25 lat,\n",
    "- 26–34 lata,\n",
    "- 35–49 lat,\n",
    "- 50 lat i więcej.\n",
    "\n",
    "Projekt próby obejmował mniej więcej równą liczbę osób w grupach wiekowych:\n",
    "- 12–17 lat,\n",
    "- 18–25 lat,\n",
    "- 26 lat i starszych."
   ]
  },
  {
   "cell_type": "code",
   "execution_count": 2,
   "metadata": {},
   "outputs": [],
   "source": [
    "base_df=pd.read_csv('27521-0001-Data.tsv', sep='\\t',header=0)"
   ]
  },
  {
   "cell_type": "markdown",
   "metadata": {},
   "source": [
    "### b) Opis zmiennych"
   ]
  },
  {
   "cell_type": "code",
   "execution_count": 3,
   "metadata": {},
   "outputs": [],
   "source": [
    "extracted_variables=[]"
   ]
  },
  {
   "cell_type": "markdown",
   "metadata": {},
   "source": [
    "#### Wskaźniki depresji"
   ]
  },
  {
   "cell_type": "markdown",
   "metadata": {},
   "source": [
    "- DEPRESSIONINDEX - wskaźnik natężenia depresji w skali 0-9 dla grupy dorosłych i w wieku młodzieńczym (brak odpowiedzi = -9)\n",
    "- DEP_EPISODE - doświadczenie epizodu depresji w okresie całego zycia\n",
    "- MDELastYr - epizod depresji w ostatnim roku\n",
    "- ANYTXRXMDE - jakiklolwiek zdarzenie zawiązane z leczeniem depresji lub receptą na leki antydepresyjne w minionym roku"
   ]
  },
  {
   "cell_type": "code",
   "execution_count": 4,
   "metadata": {},
   "outputs": [],
   "source": [
    "extracted_variables.extend(['DEPRESSIONINDEX','DEP_EPISODE','MDELastYr','ANYTXRXMDE'])"
   ]
  },
  {
   "cell_type": "markdown",
   "metadata": {},
   "source": [
    "#### Wskaźniki wieku"
   ]
  },
  {
   "cell_type": "markdown",
   "metadata": {},
   "source": [
    "- CATAG2 - 3 grupy wiekowe: 12-17, 18-25, >25\n",
    "- CATAG3 - równoliczne 5 kategorii wiekowych\n",
    "- CATAG7 - równoliczne 7 kategorii wiekowych\n",
    "\n",
    "Grupa wiekowa (12-17 (youth)) ma w pewnych obszarach inne zestawy pytań niż grupy starsze (rozróżnienie jest kodowane w nazwach kolumn YOxxx lub ADxx)"
   ]
  },
  {
   "cell_type": "code",
   "execution_count": 5,
   "metadata": {},
   "outputs": [],
   "source": [
    "extracted_variables.extend(['CATAG2','CATAG3','CATAG7'])"
   ]
  },
  {
   "cell_type": "markdown",
   "metadata": {},
   "source": [
    "#### Wskaźnik płci"
   ]
  },
  {
   "cell_type": "markdown",
   "metadata": {},
   "source": [
    "- IRSEX - rozróżnia płeć biologiczną"
   ]
  },
  {
   "cell_type": "code",
   "execution_count": 6,
   "metadata": {},
   "outputs": [],
   "source": [
    "extracted_variables.extend('IRSEX')"
   ]
  },
  {
   "cell_type": "markdown",
   "metadata": {},
   "source": [
    "#### Wskaźnik rasy"
   ]
  },
  {
   "cell_type": "markdown",
   "metadata": {},
   "source": [
    "- NEWRACE2 (1-7)\n",
    "    1) NonHisp White\n",
    "    2) NonHisp Black/Afr\n",
    "    3) NonHisp Native Am/AK Native\n",
    "    4) NonHisp Native HI/Other Pac Isl\n",
    "    5) NonHisp Asian\n",
    "    6) NonHisp more than one race\n",
    "    7) Hispanic\n"
   ]
  },
  {
   "cell_type": "code",
   "execution_count": 7,
   "metadata": {},
   "outputs": [],
   "source": [
    "extracted_variables.extend('NEWRACE2')"
   ]
  },
  {
   "cell_type": "markdown",
   "metadata": {},
   "source": [
    "#### Wskaźnik uzależnienia od narkotyków i alkoholu"
   ]
  },
  {
   "cell_type": "markdown",
   "metadata": {},
   "source": [
    "- ANYINDEX - wskaźnik uzależnienia od dowolnego rodzaju narkotyków (boolean)\n",
    "- MJANDCOKE - marihuana lub kokaina (kiedykolwiek)\n",
    "- ILLICITDRUGUSE - nielegalny narkotyk (kiedykolwiek)\n",
    "- LSYRILLICIT - nielegalny narkotyk (ostatni rok)\n",
    "- COKECRACK - kokaina lub crack \n",
    "- OTHERILLICIT - inne nielegalne poza kokaina lub marihuaną (kiedykolwiek)\n",
    "- MARJLTYR - marihuana (ostatni rok)\n",
    "- MJCOKELY - marihuana, kokaina, crack (ostatni rok)\n",
    "- COCCRKLY - kokaina (ostatni rok)\n",
    "- MJGT12MO - marihuana (upłynęło więcej niż 12msc)\n",
    "- COCGT12MO - kokaina (upłynęło więcej niż 12msc)\n",
    "- ANYGT12MO - jakikolwiek narkotyck (upłynęło więcej niż 12msc)\n",
    "- ALCFMFPB - alkohol powodował problemy wśród rodziny/przyjaciół (ostatni rok)\n"
   ]
  },
  {
   "cell_type": "code",
   "execution_count": 8,
   "metadata": {},
   "outputs": [],
   "source": [
    "extracted_variables.extend(['ANYINDEX','MJANDCOKE', 'ILLICITDRUGUSE', 'LSYRILLICIT', 'COKECRACK', 'OTHERILLICIT','MARJLTYR', 'MJCOKELY', 'COCCRKLY','MJGT12MO', 'COCGT12MO', 'ANYGT12MO','ALCFMFPB'])"
   ]
  },
  {
   "cell_type": "markdown",
   "metadata": {},
   "source": [
    "#### Wskaźnik edukacji"
   ]
  },
  {
   "cell_type": "markdown",
   "metadata": {},
   "source": [
    "- IREDUC2 - wykształcenie\n",
    "- EDU_DUMMY - wykształcenie (średnie/niższe od średniego lub wyższe)"
   ]
  },
  {
   "cell_type": "code",
   "execution_count": 9,
   "metadata": {},
   "outputs": [],
   "source": [
    "extracted_variables.extend(['IREDUC2','EDU_DUMMY'])"
   ]
  },
  {
   "cell_type": "markdown",
   "metadata": {},
   "source": [
    "#### Wskaźniki ekonomiczne"
   ]
  },
  {
   "cell_type": "markdown",
   "metadata": {},
   "source": [
    "- INCOME - dochód rodziny\n",
    "- INCOME_R - dochód własny\n",
    "- POVERTY - dochód rodziny odniesiony do wskaźnika biedy\n",
    "- IRPRVHLT - prywatne ubezpieczenie zdrowotne\n",
    "- WORKFORCE - informacja czy osoba pracuje/pracowała\n",
    "- EMPSTAT4 - status zatrudnienia"
   ]
  },
  {
   "cell_type": "code",
   "execution_count": 10,
   "metadata": {},
   "outputs": [],
   "source": [
    "extracted_variables.extend(['INCOME','INCOME_R','POVERTY','IRPRVHLT','WORKFORCE','EMPSTAT4'])"
   ]
  },
  {
   "cell_type": "markdown",
   "metadata": {},
   "source": [
    "#### Wskaźniki warunków zamieszkania"
   ]
  },
  {
   "cell_type": "markdown",
   "metadata": {},
   "source": [
    "- REVERSEPOP - charakterystyka miejsca zamieszkania (gęstość zaludnienia)\n",
    "- MOVESPY2 - liczba przeprowadzek w okresie ostatnich 12 miesięcy\n",
    "- CACHAR, CATYPE - typ mieszkania"
   ]
  },
  {
   "cell_type": "code",
   "execution_count": 11,
   "metadata": {},
   "outputs": [],
   "source": [
    "extracted_variables.extend(['REVERSEPOP','MOVESPY2','CACHAR','CATYPE'])"
   ]
  },
  {
   "cell_type": "markdown",
   "metadata": {},
   "source": [
    "#### Wskaźnik konfliktów z prawem"
   ]
  },
  {
   "cell_type": "markdown",
   "metadata": {},
   "source": [
    "- CRIMEHIST - kiedykolwiek aresztowany\n",
    "- ANYSDRUG - sprzedarz narkotyków (ostatnie 12 msc)\n",
    "- ANYATTACK - atak na inną osobę (ostatnie 12 msc)\n",
    "- ANYTHEFT - kradzież przedmiotu o wartości min 50$ (ostatnie 12 msc)\n",
    "- NUMARREST - liczba aresztowań (ostatnie 12 msc)"
   ]
  },
  {
   "cell_type": "code",
   "execution_count": 12,
   "metadata": {},
   "outputs": [],
   "source": [
    "extracted_variables.extend(['CRIMEHIST','ANYSDRUG','ANYATTACK','ANYTHEFT','NUMARREST'])"
   ]
  },
  {
   "cell_type": "markdown",
   "metadata": {},
   "source": [
    "#### Stan zdrowia"
   ]
  },
  {
   "cell_type": "markdown",
   "metadata": {},
   "source": [
    "- HEALTH2 - stan zdrowia\n",
    "- SCHDSICK - liczba dni opuszczonych w szkole z uwagi choroby (dla uczniów)\n",
    "- SCHDSKIP - liczba dni opuszczony z powodu wagarów\n",
    "- TXLCAD - informacja o terapii uzależnień od narkotyków lub alkoholu\n",
    "- DSTNCALM - jak często nie mógł się uspokoić w najgorszych miesiącach\n",
    "- DSTTIRE - jak często był wycięczony w najgorszych miesiącach\n",
    "- DSTSITST - jak często nie mógł usiedzieć na miejscu w najgorszych miesiącach\n",
    "- DSTDEPRS - jak często miał poczucie depresji w najgorszych miesiącach\n",
    "- DSTCHEER - jak często nie mógł być pocieszony w najgorszych miesiącach\n",
    "- DSTNRVOS - jak często czuł stany nerwowe w najgorszych miesiącach\n",
    "- ADWRELES - mniejszy apetyt w najgorszych miesiącach\n",
    "- ADWRSMOR - problemy ze snem\n",
    "- ADWRSTHK - myśli samobójcze\n",
    "- YOWRSATP - próba samobójcza"
   ]
  },
  {
   "cell_type": "code",
   "execution_count": 13,
   "metadata": {},
   "outputs": [],
   "source": [
    "extracted_variables.extend(['HEALTH2', 'SCHDSICK', 'SCHDSKIP', 'TXLCAD', 'DSTNCALM', 'DSTTIRE', 'DSTSITST', 'DSTDEPRS', 'DSTCHEER', 'DSTNRVOS', 'ADWRELES', 'ADWRSMOR', 'ADWRSTHK', 'YOWRSATP'])"
   ]
  },
  {
   "cell_type": "markdown",
   "metadata": {},
   "source": [
    "#### Rodzina"
   ]
  },
  {
   "cell_type": "markdown",
   "metadata": {},
   "source": [
    "- IRMARIT - stan cywilny\n",
    "- NOMARR2 - liczba razy kiedy osoba wchodziła w związek małżeński\n",
    "- RKIDSHH - liczba dzieci respondent\n",
    "- MARRIED - aktualny stan cywilny\n",
    "- CHILDRENINHOME - czy ma dzieci (min 1)"
   ]
  },
  {
   "cell_type": "code",
   "execution_count": 14,
   "metadata": {},
   "outputs": [],
   "source": [
    "extracted_variables.extend(['IRMARIT','NOMARR2','RKIDSHH','MARRIED','CHILDRENINHOME'])"
   ]
  },
  {
   "cell_type": "markdown",
   "metadata": {},
   "source": [
    "## 1) FAZA 1 - Analiza czynnikowa "
   ]
  }
 ],
 "metadata": {
  "kernelspec": {
   "display_name": ".venv",
   "language": "python",
   "name": "python3"
  },
  "language_info": {
   "codemirror_mode": {
    "name": "ipython",
    "version": 3
   },
   "file_extension": ".py",
   "mimetype": "text/x-python",
   "name": "python",
   "nbconvert_exporter": "python",
   "pygments_lexer": "ipython3",
   "version": "3.12.7"
  }
 },
 "nbformat": 4,
 "nbformat_minor": 2
}
