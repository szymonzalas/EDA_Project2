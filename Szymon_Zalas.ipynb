{
 "cells": [
  {
   "cell_type": "markdown",
   "metadata": {},
   "source": [
    "# Analiza datasetu Gender, Mental Illness, and Crime in the United States, 2004 (ICPSR 27521)"
   ]
  },
  {
   "cell_type": "markdown",
   "metadata": {},
   "source": [
    "Szymon Zalas 147493\n",
    "\n",
    "Na podstawie https://put-jug.github.io/lab-ead/Lab%2010%20-%20Projekt%20blok2_2024.html"
   ]
  },
  {
   "cell_type": "code",
   "execution_count": 1,
   "metadata": {},
   "outputs": [],
   "source": [
    "import numpy as np\n",
    "import pandas as pd\n",
    "import seaborn as sns\n",
    "import matplotlib.pyplot as plt\n",
    "from statsmodels.formula.api import ols\n",
    "from scipy.stats import chi2_contingency\n",
    "import ppscore as pps"
   ]
  },
  {
   "cell_type": "markdown",
   "metadata": {},
   "source": [
    "## 0) Omówienie Projektu"
   ]
  },
  {
   "cell_type": "markdown",
   "metadata": {},
   "source": [
    "### a) Opis próby"
   ]
  },
  {
   "cell_type": "markdown",
   "metadata": {},
   "source": [
    "Celem projetku jest znalezienie czynników odpowiedzialnych za depresję, tak żeby po ich określeniu można było dokonać oceny ryzyka depresji w danej grupie wiekowej na podstawie datasetu Gender, Mental Illness, and Crime in the United States, 2004 (ICPSR 27521). Próba obejmowała 67 760 osób, z czego plik zawiera 55 602 rekordów ze względu na resampling stosowany w procesie anonimizacji. Stratyfikacja próby jest wielopoziomowa, zaczynając od stanów, gdzie 8 jest uważanych za stany o dużej próbie i wnoszą ok. 3600 respondentów na stan. Reszta stanów obejmuje ok 900 respondentów. \n",
    "\n",
    " Próbkowanie obejmowało pięć grup wiekowych: \n",
    "- 12–17 lat,\n",
    "- 18–25 lat,\n",
    "- 26–34 lata,\n",
    "- 35–49 lat,\n",
    "- 50 lat i więcej.\n",
    "\n",
    "Projekt próby obejmował mniej więcej równą liczbę osób w grupach wiekowych:\n",
    "- 12–17 lat,\n",
    "- 18–25 lat,\n",
    "- 26 lat i starszych."
   ]
  },
  {
   "cell_type": "code",
   "execution_count": 2,
   "metadata": {},
   "outputs": [],
   "source": [
    "base_df=pd.read_csv('27521-0001-Data.tsv', sep='\\t',header=0)"
   ]
  },
  {
   "cell_type": "markdown",
   "metadata": {},
   "source": [
    "### b) Opis zmiennych"
   ]
  },
  {
   "cell_type": "code",
   "execution_count": 3,
   "metadata": {},
   "outputs": [],
   "source": [
    "extracted_variables=[]"
   ]
  },
  {
   "cell_type": "markdown",
   "metadata": {},
   "source": [
    "#### Wskaźniki depresji"
   ]
  },
  {
   "cell_type": "markdown",
   "metadata": {},
   "source": [
    "- DEPRESSIONINDEX - wskaźnik natężenia depresji w skali 0-9 dla grupy dorosłych i w wieku młodzieńczym (brak odpowiedzi = -9)\n",
    "- DEPEPISODE - doświadczenie epizodu depresji w okresie całego zycia\n",
    "- MDELASTYR - epizod depresji w ostatnim roku\n",
    "- ANYTXRXMDE - jakiklolwiek zdarzenie zawiązane z leczeniem depresji lub receptą na leki antydepresyjne w minionym roku"
   ]
  },
  {
   "cell_type": "code",
   "execution_count": 4,
   "metadata": {},
   "outputs": [],
   "source": [
    "depression_variables=['DEPRESSIONINDEX','DEPEPISODE','MDELASTYR','ANYTXRXMDE']\n",
    "extracted_variables.extend(depression_variables)"
   ]
  },
  {
   "cell_type": "markdown",
   "metadata": {},
   "source": [
    "#### Wskaźniki wieku"
   ]
  },
  {
   "cell_type": "markdown",
   "metadata": {},
   "source": [
    "- CATAG2 - 3 grupy wiekowe: 12-17, 18-25, >25\n",
    "- CATAG3 - równoliczne 5 kategorii wiekowych\n",
    "- CATAG7 - równoliczne 7 kategorii wiekowych\n",
    "\n",
    "Grupa wiekowa (12-17 (youth)) ma w pewnych obszarach inne zestawy pytań niż grupy starsze (rozróżnienie jest kodowane w nazwach kolumn YOxxx lub ADxx)"
   ]
  },
  {
   "cell_type": "code",
   "execution_count": 5,
   "metadata": {},
   "outputs": [],
   "source": [
    "age_variables=['CATAG2','CATAG3','CATAG7']\n",
    "extracted_variables.extend(age_variables)"
   ]
  },
  {
   "cell_type": "markdown",
   "metadata": {},
   "source": [
    "#### Wskaźnik płci"
   ]
  },
  {
   "cell_type": "markdown",
   "metadata": {},
   "source": [
    "- IRSEX - rozróżnia płeć biologiczną"
   ]
  },
  {
   "cell_type": "code",
   "execution_count": 6,
   "metadata": {},
   "outputs": [],
   "source": [
    "sex_variables=['IRSEX']\n",
    "extracted_variables.extend(sex_variables)"
   ]
  },
  {
   "cell_type": "markdown",
   "metadata": {},
   "source": [
    "#### Wskaźnik rasy"
   ]
  },
  {
   "cell_type": "markdown",
   "metadata": {},
   "source": [
    "- NEWRACE2 (1-7)\n",
    "    1) NonHisp White\n",
    "    2) NonHisp Black/Afr\n",
    "    3) NonHisp Native Am/AK Native\n",
    "    4) NonHisp Native HI/Other Pac Isl\n",
    "    5) NonHisp Asian\n",
    "    6) NonHisp more than one race\n",
    "    7) Hispanic\n"
   ]
  },
  {
   "cell_type": "code",
   "execution_count": 7,
   "metadata": {},
   "outputs": [],
   "source": [
    "racial_variables=['NEWRACE2']\n",
    "extracted_variables.extend(racial_variables)"
   ]
  },
  {
   "cell_type": "markdown",
   "metadata": {},
   "source": [
    "#### Wskaźnik uzależnienia od narkotyków i alkoholu"
   ]
  },
  {
   "cell_type": "markdown",
   "metadata": {},
   "source": [
    "- ANYINDEX - wskaźnik uzależnienia od dowolnego rodzaju narkotyków (boolean)\n",
    "- MJANDCOKE - marihuana lub kokaina (kiedykolwiek)\n",
    "- ILLICITDRUGUSE - nielegalny narkotyk (kiedykolwiek)\n",
    "- LSYRILLICIT - nielegalny narkotyk (ostatni rok)\n",
    "- COKECRACK - kokaina lub crack \n",
    "- OTHERILLICIT - inne nielegalne poza kokaina lub marihuaną (kiedykolwiek)\n",
    "- MARJLTYR - marihuana (ostatni rok)\n",
    "- MJCOKELY - marihuana, kokaina, crack (ostatni rok)\n",
    "- COCCRKLY - kokaina (ostatni rok)\n",
    "- MJGT12MO - marihuana (upłynęło więcej niż 12msc)\n",
    "- COCGT12MO - kokaina (upłynęło więcej niż 12msc)\n",
    "- ANYGT12MO - jakikolwiek narkotyck (upłynęło więcej niż 12msc)\n",
    "- ALCFMFPB - alkohol powodował problemy wśród rodziny/przyjaciół (ostatni rok)\n"
   ]
  },
  {
   "cell_type": "code",
   "execution_count": 8,
   "metadata": {},
   "outputs": [],
   "source": [
    "drug_variables=['ANYINDEX','MJANDCOKE', 'ILLICITDRUGUSE', 'LSYRILLICIT', 'COKECRACK', 'OTHERILLICIT','MARJLTYR', 'MJCOKELY', 'COCCRKLY','MJGT12MO', 'COCGT12MO', 'ANYGT12MO','ALCFMFPB']\n",
    "extracted_variables.extend(drug_variables)"
   ]
  },
  {
   "cell_type": "markdown",
   "metadata": {},
   "source": [
    "#### Wskaźnik edukacji"
   ]
  },
  {
   "cell_type": "markdown",
   "metadata": {},
   "source": [
    "- IREDUC2 - wykształcenie\n",
    "- EDU_DUMMY - wykształcenie (średnie/niższe od średniego lub wyższe)"
   ]
  },
  {
   "cell_type": "code",
   "execution_count": 9,
   "metadata": {},
   "outputs": [],
   "source": [
    "education_variables=['IREDUC2','EDU_DUMMY']\n",
    "extracted_variables.extend(education_variables)"
   ]
  },
  {
   "cell_type": "markdown",
   "metadata": {},
   "source": [
    "#### Wskaźniki ekonomiczne"
   ]
  },
  {
   "cell_type": "markdown",
   "metadata": {},
   "source": [
    "- INCOME - dochód rodziny\n",
    "- INCOME_R - dochód własny\n",
    "- POVERTY - dochód rodziny odniesiony do wskaźnika biedy\n",
    "- IRPRVHLT - prywatne ubezpieczenie zdrowotne\n",
    "- WORKFORCE - informacja czy osoba pracuje/pracowała\n",
    "- EMPSTAT4 - status zatrudnienia"
   ]
  },
  {
   "cell_type": "code",
   "execution_count": 10,
   "metadata": {},
   "outputs": [],
   "source": [
    "economic_variables=['INCOME','INCOME_R','POVERTY','IRPRVHLT','WORKFORCE','EMPSTAT4']\n",
    "extracted_variables.extend(economic_variables)"
   ]
  },
  {
   "cell_type": "markdown",
   "metadata": {},
   "source": [
    "#### Wskaźniki warunków zamieszkania"
   ]
  },
  {
   "cell_type": "markdown",
   "metadata": {},
   "source": [
    "- REVERSEPOP - charakterystyka miejsca zamieszkania (gęstość zaludnienia)\n",
    "- MOVESPY2 - liczba przeprowadzek w okresie ostatnich 12 miesięcy\n",
    "- CACHAR, CATYPE - typ mieszkania"
   ]
  },
  {
   "cell_type": "code",
   "execution_count": 11,
   "metadata": {},
   "outputs": [],
   "source": [
    "accomodation_variables=['REVERSEPOP','MOVESPY2','CACHAR','CATYPE']\n",
    "extracted_variables.extend(accomodation_variables)"
   ]
  },
  {
   "cell_type": "markdown",
   "metadata": {},
   "source": [
    "#### Wskaźnik konfliktów z prawem"
   ]
  },
  {
   "cell_type": "markdown",
   "metadata": {},
   "source": [
    "- CRIMEHIST - kiedykolwiek aresztowany\n",
    "- ANYSDRUG - sprzedarz narkotyków (ostatnie 12 msc)\n",
    "- ANYATTACK - atak na inną osobę (ostatnie 12 msc)\n",
    "- ANYTHEFT - kradzież przedmiotu o wartości min 50$ (ostatnie 12 msc)\n",
    "- NUMARREST - liczba aresztowań (ostatnie 12 msc)"
   ]
  },
  {
   "cell_type": "code",
   "execution_count": 12,
   "metadata": {},
   "outputs": [],
   "source": [
    "law_problems_variables=['CRIMEHIST','ANYSDRUG','ANYATTACK','ANYTHEFT','NUMARREST']\n",
    "extracted_variables.extend(law_problems_variables)"
   ]
  },
  {
   "cell_type": "markdown",
   "metadata": {},
   "source": [
    "#### Stan zdrowia"
   ]
  },
  {
   "cell_type": "markdown",
   "metadata": {},
   "source": [
    "- HEALTH2 - stan zdrowia\n",
    "- SCHDSICK - liczba dni opuszczonych w szkole z uwagi choroby (dla uczniów)\n",
    "- SCHDSKIP - liczba dni opuszczony z powodu wagarów\n",
    "- TXLCAD - informacja o terapii uzależnień od narkotyków lub alkoholu\n",
    "- DSTNCALM - jak często nie mógł się uspokoić w najgorszych miesiącach\n",
    "- DSTTIRE - jak często był wycięczony w najgorszych miesiącach\n",
    "- DSTSITST - jak często nie mógł usiedzieć na miejscu w najgorszych miesiącach\n",
    "- DSTDEPRS - jak często miał poczucie depresji w najgorszych miesiącach\n",
    "- DSTCHEER - jak często nie mógł być pocieszony w najgorszych miesiącach\n",
    "- DSTNRVOS - jak często czuł stany nerwowe w najgorszych miesiącach\n",
    "- ADWRELES - mniejszy apetyt w najgorszych miesiącach\n",
    "- ADWRSMOR - problemy ze snem\n",
    "- ADWRSTHK - myśli samobójcze\n",
    "- YOWRSATP - próba samobójcza"
   ]
  },
  {
   "cell_type": "code",
   "execution_count": 13,
   "metadata": {},
   "outputs": [],
   "source": [
    "health_based_var=['HEALTH2', 'SCHDSICK', 'SCHDSKIP', 'TXLCAD', 'DSTNCALM', 'DSTTIRE', 'DSTSITST', 'DSTDEPRS', 'DSTCHEER', 'DSTNRVOS', 'ADWRELES', 'ADWRSMOR', 'ADWRSTHK', 'YOWRSATP']\n",
    "extracted_variables.extend(health_based_var)"
   ]
  },
  {
   "cell_type": "markdown",
   "metadata": {},
   "source": [
    "#### Rodzina"
   ]
  },
  {
   "cell_type": "markdown",
   "metadata": {},
   "source": [
    "- IRMARIT - stan cywilny\n",
    "- NOMARR2 - liczba razy kiedy osoba wchodziła w związek małżeński\n",
    "- RKIDSHH - liczba dzieci respondent\n",
    "- MARRIED - aktualny stan cywilny\n",
    "- CHILDRENINHOME - czy ma dzieci (min 1)"
   ]
  },
  {
   "cell_type": "code",
   "execution_count": 14,
   "metadata": {},
   "outputs": [],
   "source": [
    "family_variables=['IRMARIT','NOMARR2','RKIDSHH','MARRIED','CHILDRENINHOME']\n",
    "extracted_variables.extend(family_variables)"
   ]
  },
  {
   "cell_type": "code",
   "execution_count": 15,
   "metadata": {},
   "outputs": [
    {
     "data": {
      "text/html": [
       "<div>\n",
       "<style scoped>\n",
       "    .dataframe tbody tr th:only-of-type {\n",
       "        vertical-align: middle;\n",
       "    }\n",
       "\n",
       "    .dataframe tbody tr th {\n",
       "        vertical-align: top;\n",
       "    }\n",
       "\n",
       "    .dataframe thead th {\n",
       "        text-align: right;\n",
       "    }\n",
       "</style>\n",
       "<table border=\"1\" class=\"dataframe\">\n",
       "  <thead>\n",
       "    <tr style=\"text-align: right;\">\n",
       "      <th></th>\n",
       "      <th>DEPRESSIONINDEX</th>\n",
       "      <th>DEPEPISODE</th>\n",
       "      <th>MDELASTYR</th>\n",
       "      <th>ANYTXRXMDE</th>\n",
       "      <th>CATAG2</th>\n",
       "      <th>CATAG3</th>\n",
       "      <th>CATAG7</th>\n",
       "      <th>IRSEX</th>\n",
       "      <th>NEWRACE2</th>\n",
       "      <th>ANYINDEX</th>\n",
       "      <th>...</th>\n",
       "      <th>DSTNRVOS</th>\n",
       "      <th>ADWRELES</th>\n",
       "      <th>ADWRSMOR</th>\n",
       "      <th>ADWRSTHK</th>\n",
       "      <th>YOWRSATP</th>\n",
       "      <th>IRMARIT</th>\n",
       "      <th>NOMARR2</th>\n",
       "      <th>RKIDSHH</th>\n",
       "      <th>MARRIED</th>\n",
       "      <th>CHILDRENINHOME</th>\n",
       "    </tr>\n",
       "  </thead>\n",
       "  <tbody>\n",
       "    <tr>\n",
       "      <th>0</th>\n",
       "      <td>0</td>\n",
       "      <td>0</td>\n",
       "      <td>0</td>\n",
       "      <td>0</td>\n",
       "      <td>2</td>\n",
       "      <td>2</td>\n",
       "      <td>5</td>\n",
       "      <td>1</td>\n",
       "      <td>7</td>\n",
       "      <td>0.142857</td>\n",
       "      <td>...</td>\n",
       "      <td>4</td>\n",
       "      <td>99</td>\n",
       "      <td>99</td>\n",
       "      <td>99</td>\n",
       "      <td>99</td>\n",
       "      <td>4</td>\n",
       "      <td>99</td>\n",
       "      <td>0</td>\n",
       "      <td>0</td>\n",
       "      <td>0</td>\n",
       "    </tr>\n",
       "    <tr>\n",
       "      <th>1</th>\n",
       "      <td>0</td>\n",
       "      <td>0</td>\n",
       "      <td>0</td>\n",
       "      <td>0</td>\n",
       "      <td>2</td>\n",
       "      <td>2</td>\n",
       "      <td>4</td>\n",
       "      <td>1</td>\n",
       "      <td>1</td>\n",
       "      <td>0.142857</td>\n",
       "      <td>...</td>\n",
       "      <td>4</td>\n",
       "      <td>99</td>\n",
       "      <td>99</td>\n",
       "      <td>99</td>\n",
       "      <td>99</td>\n",
       "      <td>4</td>\n",
       "      <td>99</td>\n",
       "      <td>0</td>\n",
       "      <td>0</td>\n",
       "      <td>0</td>\n",
       "    </tr>\n",
       "    <tr>\n",
       "      <th>2</th>\n",
       "      <td>0</td>\n",
       "      <td>0</td>\n",
       "      <td>0</td>\n",
       "      <td>0</td>\n",
       "      <td>3</td>\n",
       "      <td>5</td>\n",
       "      <td>7</td>\n",
       "      <td>1</td>\n",
       "      <td>1</td>\n",
       "      <td>0.142857</td>\n",
       "      <td>...</td>\n",
       "      <td>5</td>\n",
       "      <td>99</td>\n",
       "      <td>99</td>\n",
       "      <td>99</td>\n",
       "      <td>99</td>\n",
       "      <td>1</td>\n",
       "      <td>1</td>\n",
       "      <td>0</td>\n",
       "      <td>1</td>\n",
       "      <td>0</td>\n",
       "    </tr>\n",
       "    <tr>\n",
       "      <th>3</th>\n",
       "      <td>0</td>\n",
       "      <td>0</td>\n",
       "      <td>0</td>\n",
       "      <td>0</td>\n",
       "      <td>2</td>\n",
       "      <td>2</td>\n",
       "      <td>5</td>\n",
       "      <td>1</td>\n",
       "      <td>1</td>\n",
       "      <td>0.500000</td>\n",
       "      <td>...</td>\n",
       "      <td>4</td>\n",
       "      <td>99</td>\n",
       "      <td>99</td>\n",
       "      <td>99</td>\n",
       "      <td>99</td>\n",
       "      <td>4</td>\n",
       "      <td>99</td>\n",
       "      <td>0</td>\n",
       "      <td>0</td>\n",
       "      <td>0</td>\n",
       "    </tr>\n",
       "    <tr>\n",
       "      <th>4</th>\n",
       "      <td>0</td>\n",
       "      <td>0</td>\n",
       "      <td>0</td>\n",
       "      <td>0</td>\n",
       "      <td>3</td>\n",
       "      <td>4</td>\n",
       "      <td>7</td>\n",
       "      <td>2</td>\n",
       "      <td>1</td>\n",
       "      <td>0.142857</td>\n",
       "      <td>...</td>\n",
       "      <td>3</td>\n",
       "      <td>99</td>\n",
       "      <td>99</td>\n",
       "      <td>99</td>\n",
       "      <td>99</td>\n",
       "      <td>1</td>\n",
       "      <td>1</td>\n",
       "      <td>1</td>\n",
       "      <td>1</td>\n",
       "      <td>1</td>\n",
       "    </tr>\n",
       "    <tr>\n",
       "      <th>...</th>\n",
       "      <td>...</td>\n",
       "      <td>...</td>\n",
       "      <td>...</td>\n",
       "      <td>...</td>\n",
       "      <td>...</td>\n",
       "      <td>...</td>\n",
       "      <td>...</td>\n",
       "      <td>...</td>\n",
       "      <td>...</td>\n",
       "      <td>...</td>\n",
       "      <td>...</td>\n",
       "      <td>...</td>\n",
       "      <td>...</td>\n",
       "      <td>...</td>\n",
       "      <td>...</td>\n",
       "      <td>...</td>\n",
       "      <td>...</td>\n",
       "      <td>...</td>\n",
       "      <td>...</td>\n",
       "      <td>...</td>\n",
       "      <td>...</td>\n",
       "    </tr>\n",
       "    <tr>\n",
       "      <th>55597</th>\n",
       "      <td>-9</td>\n",
       "      <td>-1</td>\n",
       "      <td>-1</td>\n",
       "      <td>-9</td>\n",
       "      <td>2</td>\n",
       "      <td>2</td>\n",
       "      <td>5</td>\n",
       "      <td>1</td>\n",
       "      <td>1</td>\n",
       "      <td>0.142857</td>\n",
       "      <td>...</td>\n",
       "      <td>5</td>\n",
       "      <td>99</td>\n",
       "      <td>99</td>\n",
       "      <td>99</td>\n",
       "      <td>99</td>\n",
       "      <td>4</td>\n",
       "      <td>99</td>\n",
       "      <td>0</td>\n",
       "      <td>0</td>\n",
       "      <td>0</td>\n",
       "    </tr>\n",
       "    <tr>\n",
       "      <th>55598</th>\n",
       "      <td>0</td>\n",
       "      <td>0</td>\n",
       "      <td>0</td>\n",
       "      <td>0</td>\n",
       "      <td>2</td>\n",
       "      <td>2</td>\n",
       "      <td>5</td>\n",
       "      <td>1</td>\n",
       "      <td>1</td>\n",
       "      <td>0.142857</td>\n",
       "      <td>...</td>\n",
       "      <td>4</td>\n",
       "      <td>99</td>\n",
       "      <td>99</td>\n",
       "      <td>99</td>\n",
       "      <td>99</td>\n",
       "      <td>1</td>\n",
       "      <td>1</td>\n",
       "      <td>1</td>\n",
       "      <td>1</td>\n",
       "      <td>1</td>\n",
       "    </tr>\n",
       "    <tr>\n",
       "      <th>55599</th>\n",
       "      <td>-9</td>\n",
       "      <td>-1</td>\n",
       "      <td>-1</td>\n",
       "      <td>-9</td>\n",
       "      <td>2</td>\n",
       "      <td>2</td>\n",
       "      <td>5</td>\n",
       "      <td>2</td>\n",
       "      <td>1</td>\n",
       "      <td>0.142857</td>\n",
       "      <td>...</td>\n",
       "      <td>5</td>\n",
       "      <td>99</td>\n",
       "      <td>99</td>\n",
       "      <td>99</td>\n",
       "      <td>99</td>\n",
       "      <td>1</td>\n",
       "      <td>1</td>\n",
       "      <td>1</td>\n",
       "      <td>1</td>\n",
       "      <td>1</td>\n",
       "    </tr>\n",
       "    <tr>\n",
       "      <th>55600</th>\n",
       "      <td>0</td>\n",
       "      <td>0</td>\n",
       "      <td>0</td>\n",
       "      <td>0</td>\n",
       "      <td>3</td>\n",
       "      <td>3</td>\n",
       "      <td>6</td>\n",
       "      <td>1</td>\n",
       "      <td>1</td>\n",
       "      <td>0.142857</td>\n",
       "      <td>...</td>\n",
       "      <td>3</td>\n",
       "      <td>99</td>\n",
       "      <td>99</td>\n",
       "      <td>99</td>\n",
       "      <td>99</td>\n",
       "      <td>1</td>\n",
       "      <td>1</td>\n",
       "      <td>0</td>\n",
       "      <td>1</td>\n",
       "      <td>0</td>\n",
       "    </tr>\n",
       "    <tr>\n",
       "      <th>55601</th>\n",
       "      <td>-9</td>\n",
       "      <td>-1</td>\n",
       "      <td>-1</td>\n",
       "      <td>-9</td>\n",
       "      <td>3</td>\n",
       "      <td>4</td>\n",
       "      <td>7</td>\n",
       "      <td>1</td>\n",
       "      <td>1</td>\n",
       "      <td>0.142857</td>\n",
       "      <td>...</td>\n",
       "      <td>5</td>\n",
       "      <td>99</td>\n",
       "      <td>99</td>\n",
       "      <td>99</td>\n",
       "      <td>99</td>\n",
       "      <td>1</td>\n",
       "      <td>1</td>\n",
       "      <td>1</td>\n",
       "      <td>1</td>\n",
       "      <td>1</td>\n",
       "    </tr>\n",
       "  </tbody>\n",
       "</table>\n",
       "<p>55602 rows × 58 columns</p>\n",
       "</div>"
      ],
      "text/plain": [
       "       DEPRESSIONINDEX  DEPEPISODE  MDELASTYR  ANYTXRXMDE  CATAG2  CATAG3  \\\n",
       "0                    0           0          0           0       2       2   \n",
       "1                    0           0          0           0       2       2   \n",
       "2                    0           0          0           0       3       5   \n",
       "3                    0           0          0           0       2       2   \n",
       "4                    0           0          0           0       3       4   \n",
       "...                ...         ...        ...         ...     ...     ...   \n",
       "55597               -9          -1         -1          -9       2       2   \n",
       "55598                0           0          0           0       2       2   \n",
       "55599               -9          -1         -1          -9       2       2   \n",
       "55600                0           0          0           0       3       3   \n",
       "55601               -9          -1         -1          -9       3       4   \n",
       "\n",
       "       CATAG7  IRSEX  NEWRACE2  ANYINDEX  ...  DSTNRVOS  ADWRELES  ADWRSMOR  \\\n",
       "0           5      1         7  0.142857  ...         4        99        99   \n",
       "1           4      1         1  0.142857  ...         4        99        99   \n",
       "2           7      1         1  0.142857  ...         5        99        99   \n",
       "3           5      1         1  0.500000  ...         4        99        99   \n",
       "4           7      2         1  0.142857  ...         3        99        99   \n",
       "...       ...    ...       ...       ...  ...       ...       ...       ...   \n",
       "55597       5      1         1  0.142857  ...         5        99        99   \n",
       "55598       5      1         1  0.142857  ...         4        99        99   \n",
       "55599       5      2         1  0.142857  ...         5        99        99   \n",
       "55600       6      1         1  0.142857  ...         3        99        99   \n",
       "55601       7      1         1  0.142857  ...         5        99        99   \n",
       "\n",
       "       ADWRSTHK  YOWRSATP  IRMARIT  NOMARR2  RKIDSHH  MARRIED  CHILDRENINHOME  \n",
       "0            99        99        4       99        0        0               0  \n",
       "1            99        99        4       99        0        0               0  \n",
       "2            99        99        1        1        0        1               0  \n",
       "3            99        99        4       99        0        0               0  \n",
       "4            99        99        1        1        1        1               1  \n",
       "...         ...       ...      ...      ...      ...      ...             ...  \n",
       "55597        99        99        4       99        0        0               0  \n",
       "55598        99        99        1        1        1        1               1  \n",
       "55599        99        99        1        1        1        1               1  \n",
       "55600        99        99        1        1        0        1               0  \n",
       "55601        99        99        1        1        1        1               1  \n",
       "\n",
       "[55602 rows x 58 columns]"
      ]
     },
     "execution_count": 15,
     "metadata": {},
     "output_type": "execute_result"
    }
   ],
   "source": [
    "main_df=base_df[extracted_variables] # extract the variables of interest\n",
    "main_df"
   ]
  },
  {
   "cell_type": "markdown",
   "metadata": {},
   "source": [
    "## 1) FAZA 1 - Czyszczenie danych i analiza czynnikowa "
   ]
  },
  {
   "cell_type": "markdown",
   "metadata": {},
   "source": [
    "### a) Czyszczenie danych"
   ]
  },
  {
   "cell_type": "code",
   "execution_count": 16,
   "metadata": {},
   "outputs": [
    {
     "data": {
      "text/plain": [
       "0"
      ]
     },
     "execution_count": 16,
     "metadata": {},
     "output_type": "execute_result"
    }
   ],
   "source": [
    "main_df.isna().sum().max()"
   ]
  },
  {
   "cell_type": "markdown",
   "metadata": {},
   "source": [
    "Dane zawarte w datasecie zostały już częściowo oczyszczone a w dokumencie opisującym, możemy znaleść dokładne oznaczenia powodów brakujących danych. Typowo, brakujące dane są oznaczane albo wartością ujemną albo bardzo wysoką (powyżej 80), przy czym wartość 99 oznacza uzasadnione pominięcie pytania."
   ]
  },
  {
   "cell_type": "code",
   "execution_count": 17,
   "metadata": {},
   "outputs": [
    {
     "name": "stdout",
     "output_type": "stream",
     "text": [
      "DEPRESSIONINDEX    18630\n",
      "DEPEPISODE         19019\n",
      "MDELASTYR          19070\n",
      "ANYTXRXMDE         18963\n",
      "ANYINDEX              35\n",
      "COKECRACK           1705\n",
      "MJGT12MO            1930\n",
      "COCGT12MO            781\n",
      "ANYGT12MO           2410\n",
      "ALCFMFPB           28140\n",
      "WORKFORCE             21\n",
      "CACHAR                 7\n",
      "CATYPE               121\n",
      "CRIMEHIST            159\n",
      "ANYSDRUG             167\n",
      "ANYATTACK            116\n",
      "ANYTHEFT             123\n",
      "NUMARREST            853\n",
      "HEALTH2               12\n",
      "SCHDSICK            3447\n",
      "SCHDSKIP              72\n",
      "TXLCAD             54622\n",
      "DSTNCALM             221\n",
      "DSTTIRE              163\n",
      "DSTSITST             174\n",
      "DSTDEPRS             143\n",
      "DSTCHEER             283\n",
      "DSTNRVOS             350\n",
      "ADWRELES             147\n",
      "ADWRSMOR             135\n",
      "ADWRSTHK             136\n",
      "YOWRSATP             227\n",
      "NOMARR2               13\n",
      "RKIDSHH               45\n",
      "dtype: int64\n"
     ]
    }
   ],
   "source": [
    "invalid_counts = main_df[(main_df < 0) | ((main_df > 80) & (main_df < 99))].count()[lambda x: x > 0]\n",
    "print(invalid_counts)"
   ]
  },
  {
   "cell_type": "code",
   "execution_count": 18,
   "metadata": {},
   "outputs": [
    {
     "name": "stdout",
     "output_type": "stream",
     "text": [
      "Aktualna liczba danych: 55602\n",
      "Najwyższa liczba nieprawidłowych wartości: 54622 dla zmiennej TXLCAD\n",
      "Najniższa liczba nieprawidłowych wartości: 7 dla zmiennej CACHAR\n"
     ]
    }
   ],
   "source": [
    "len_0=main_df.shape[0]\n",
    "print(f'Aktualna liczba danych: {len_0}')\n",
    "print(f'Najwyższa liczba nieprawidłowych wartości: {invalid_counts.max()} dla zmiennej {invalid_counts.idxmax()}')\n",
    "print(f'Najniższa liczba nieprawidłowych wartości: {invalid_counts.min()} dla zmiennej {invalid_counts.idxmin()}')"
   ]
  },
  {
   "cell_type": "markdown",
   "metadata": {},
   "source": [
    "#### Czyszczenie analityczne"
   ]
  },
  {
   "cell_type": "markdown",
   "metadata": {},
   "source": [
    "Początkowo pozbędziemy się wierszy w których wszystkie informacje dotyczące wystąpienia depresji są mniejsze od 0 - nie jesteśmy w stanie przewidzieć jaka jest tam prawdziwa odpowiedź"
   ]
  },
  {
   "cell_type": "code",
   "execution_count": 19,
   "metadata": {},
   "outputs": [],
   "source": [
    "columns_to_check = ['DEPRESSIONINDEX', 'DEPEPISODE', 'MDELASTYR', 'ANYTXRXMDE']\n",
    "mask = (main_df[columns_to_check] >= 0).all(axis=1)\n",
    "main_df = main_df[mask]"
   ]
  },
  {
   "cell_type": "code",
   "execution_count": 20,
   "metadata": {},
   "outputs": [
    {
     "name": "stdout",
     "output_type": "stream",
     "text": [
      "Aktualna liczba danych: 36505\n",
      "Najwyższa liczba nieprawidłowych wartości: 35899 dla zmiennej TXLCAD\n",
      "Najniższa liczba nieprawidłowych wartości: 4 dla zmiennej WORKFORCE\n"
     ]
    }
   ],
   "source": [
    "len_1=main_df.shape[0]\n",
    "print(f'Aktualna liczba danych: {len_1}')\n",
    "invalid_counts = main_df[(main_df < 0) | ((main_df > 80) & (main_df < 99))].count()[lambda x: x > 0]\n",
    "print(f'Najwyższa liczba nieprawidłowych wartości: {invalid_counts.max()} dla zmiennej {invalid_counts.idxmax()}')\n",
    "print(f'Najniższa liczba nieprawidłowych wartości: {invalid_counts.min()} dla zmiennej {invalid_counts.idxmin()}')"
   ]
  },
  {
   "cell_type": "markdown",
   "metadata": {},
   "source": [
    "Sprawdźmy rezultat"
   ]
  },
  {
   "cell_type": "code",
   "execution_count": 21,
   "metadata": {},
   "outputs": [
    {
     "name": "stdout",
     "output_type": "stream",
     "text": [
      "col_0  DEPRESSIONINDEX  DEPEPISODE  MDELASTYR  ANYTXRXMDE\n",
      "0                30076     30773.0    32999.0     34108.0\n",
      "1                  112      5732.0     3506.0      2397.0\n",
      "2                   71         NaN        NaN         NaN\n",
      "3                  170         NaN        NaN         NaN\n",
      "4                  344         NaN        NaN         NaN\n",
      "5                  599         NaN        NaN         NaN\n",
      "6                  954         NaN        NaN         NaN\n",
      "7                 1313         NaN        NaN         NaN\n",
      "8                 1543         NaN        NaN         NaN\n",
      "9                 1323         NaN        NaN         NaN\n",
      "Total            36505     36505.0    36505.0     36505.0\n"
     ]
    }
   ],
   "source": [
    "pivot_dfs = []\n",
    "\n",
    "for col in columns_to_check:\n",
    "    df_temp = pd.crosstab(index=main_df[col][main_df[col] >= 0], columns=col)\n",
    "    df_temp.loc['Total'] = df_temp.sum()\n",
    "    pivot_dfs.append(df_temp)\n",
    "\n",
    "result = pd.concat(pivot_dfs, axis=1)\n",
    "print(result)"
   ]
  },
  {
   "cell_type": "markdown",
   "metadata": {},
   "source": [
    "Poszukajmy kolumn w których ponad 90% wartości jest nieprawidłowa..."
   ]
  },
  {
   "cell_type": "code",
   "execution_count": 22,
   "metadata": {},
   "outputs": [
    {
     "name": "stdout",
     "output_type": "stream",
     "text": [
      "TXLCAD    35899\n",
      "dtype: int64\n"
     ]
    }
   ],
   "source": [
    "th_len=int(len_1*0.9)\n",
    "invalid_counts = main_df[(main_df < 0) | ((main_df > 80) & (main_df < 99))].count()[lambda x: x > th_len]\n",
    "print(invalid_counts)"
   ]
  },
  {
   "cell_type": "markdown",
   "metadata": {},
   "source": [
    "... a następnie je wyrzućmy."
   ]
  },
  {
   "cell_type": "code",
   "execution_count": 23,
   "metadata": {},
   "outputs": [],
   "source": [
    "main_df = main_df.drop(columns=invalid_counts.index)"
   ]
  },
  {
   "cell_type": "code",
   "execution_count": 24,
   "metadata": {},
   "outputs": [
    {
     "name": "stdout",
     "output_type": "stream",
     "text": [
      "Aktualna liczba danych: 36505\n",
      "Najwyższa liczba nieprawidłowych wartości: 21012 dla zmiennej ALCFMFPB\n",
      "Najniższa liczba nieprawidłowych wartości: 4 dla zmiennej WORKFORCE\n"
     ]
    }
   ],
   "source": [
    "len_2=main_df.shape[0]\n",
    "print(f'Aktualna liczba danych: {len_2}')\n",
    "invalid_counts = main_df[(main_df < 0) | ((main_df > 80) & (main_df < 99))].count()[lambda x: x > 0]\n",
    "print(f'Najwyższa liczba nieprawidłowych wartości: {invalid_counts.max()} dla zmiennej {invalid_counts.idxmax()}')\n",
    "print(f'Najniższa liczba nieprawidłowych wartości: {invalid_counts.min()} dla zmiennej {invalid_counts.idxmin()}')"
   ]
  },
  {
   "cell_type": "code",
   "execution_count": 25,
   "metadata": {},
   "outputs": [
    {
     "name": "stdout",
     "output_type": "stream",
     "text": [
      "ANYINDEX        24\n",
      "COKECRACK      924\n",
      "MJGT12MO      1606\n",
      "COCGT12MO      515\n",
      "ANYGT12MO     2010\n",
      "ALCFMFPB     21012\n",
      "WORKFORCE        4\n",
      "CACHAR           7\n",
      "CATYPE          79\n",
      "CRIMEHIST       74\n",
      "ANYSDRUG        76\n",
      "ANYATTACK       39\n",
      "ANYTHEFT        49\n",
      "NUMARREST      588\n",
      "HEALTH2         10\n",
      "SCHDSICK      2973\n",
      "SCHDSKIP        42\n",
      "DSTCHEER        66\n",
      "DSTNRVOS        96\n",
      "ADWRELES        16\n",
      "ADWRSMOR         4\n",
      "ADWRSTHK         8\n",
      "YOWRSATP        31\n",
      "NOMARR2         10\n",
      "RKIDSHH         15\n",
      "dtype: int64\n"
     ]
    }
   ],
   "source": [
    "print(invalid_counts)"
   ]
  },
  {
   "cell_type": "markdown",
   "metadata": {},
   "source": [
    "Brakujące wartości w ALCMFPB odnoszą się do problemów związanych z piciem alkoholu, i na podstawie [icpsr](https://www.icpsr.umich.edu/web/NACJD/studies/27521/datasets/0001/variables/ALCFMFPB?archive=nacjd) możemy założyć że:\n",
    "- wartości 83, 91, 93 raczej odnoszą się do braku problemów\n",
    "- wartości 94, 97, 98 mogą być próbą uniknięcia udzielenie odpowiedzi ze wstydu, zostaną uznane jako wystąpienie problemów"
   ]
  },
  {
   "cell_type": "code",
   "execution_count": 26,
   "metadata": {},
   "outputs": [],
   "source": [
    "value_map = {\n",
    "    93: 0,\n",
    "    91: 0,\n",
    "    83: 0,\n",
    "    94: 1,\n",
    "    97: 1,\n",
    "    98: 1\n",
    "}\n",
    "main_df['ALCFMFPB'] = main_df['ALCFMFPB'].replace(value_map)"
   ]
  },
  {
   "cell_type": "code",
   "execution_count": 27,
   "metadata": {},
   "outputs": [
    {
     "name": "stdout",
     "output_type": "stream",
     "text": [
      "Aktualna liczba danych: 36505\n",
      "Najwyższa liczba nieprawidłowych wartości: 2973 dla zmiennej SCHDSICK\n",
      "Najniższa liczba nieprawidłowych wartości: 4 dla zmiennej WORKFORCE\n"
     ]
    }
   ],
   "source": [
    "len_3=main_df.shape[0]\n",
    "print(f'Aktualna liczba danych: {len_3}')\n",
    "invalid_counts = main_df[(main_df < 0) | ((main_df > 80) & (main_df < 99))].count()[lambda x: x > 0]\n",
    "print(f'Najwyższa liczba nieprawidłowych wartości: {invalid_counts.max()} dla zmiennej {invalid_counts.idxmax()}')\n",
    "print(f'Najniższa liczba nieprawidłowych wartości: {invalid_counts.min()} dla zmiennej {invalid_counts.idxmin()}')"
   ]
  },
  {
   "cell_type": "code",
   "execution_count": 28,
   "metadata": {},
   "outputs": [
    {
     "name": "stdout",
     "output_type": "stream",
     "text": [
      "ANYINDEX       24\n",
      "COKECRACK     924\n",
      "MJGT12MO     1606\n",
      "COCGT12MO     515\n",
      "ANYGT12MO    2010\n",
      "WORKFORCE       4\n",
      "CACHAR          7\n",
      "CATYPE         79\n",
      "CRIMEHIST      74\n",
      "ANYSDRUG       76\n",
      "ANYATTACK      39\n",
      "ANYTHEFT       49\n",
      "NUMARREST     588\n",
      "HEALTH2        10\n",
      "SCHDSICK     2973\n",
      "SCHDSKIP       42\n",
      "DSTCHEER       66\n",
      "DSTNRVOS       96\n",
      "ADWRELES       16\n",
      "ADWRSMOR        4\n",
      "ADWRSTHK        8\n",
      "YOWRSATP       31\n",
      "NOMARR2        10\n",
      "RKIDSHH        15\n",
      "dtype: int64\n"
     ]
    }
   ],
   "source": [
    "print(invalid_counts)"
   ]
  },
  {
   "cell_type": "markdown",
   "metadata": {},
   "source": [
    "Przeanalizujmy jeszcze i wyczyśćmy kolumny dla których brakuje min. 500 pozycji"
   ]
  },
  {
   "cell_type": "code",
   "execution_count": 29,
   "metadata": {},
   "outputs": [
    {
     "name": "stdout",
     "output_type": "stream",
     "text": [
      "COKECRACK     924\n",
      "MJGT12MO     1606\n",
      "COCGT12MO     515\n",
      "ANYGT12MO    2010\n",
      "NUMARREST     588\n",
      "SCHDSICK     2973\n",
      "dtype: int64\n"
     ]
    }
   ],
   "source": [
    "print(invalid_counts[invalid_counts > 500])\n"
   ]
  },
  {
   "cell_type": "code",
   "execution_count": 30,
   "metadata": {},
   "outputs": [
    {
     "data": {
      "text/plain": [
       "Index(['COKECRACK', 'MJGT12MO', 'COCGT12MO', 'ANYGT12MO', 'NUMARREST',\n",
       "       'SCHDSICK'],\n",
       "      dtype='object')"
      ]
     },
     "execution_count": 30,
     "metadata": {},
     "output_type": "execute_result"
    }
   ],
   "source": [
    "remaining_columns = invalid_counts[invalid_counts > 500].index\n",
    "remaining_columns"
   ]
  },
  {
   "cell_type": "markdown",
   "metadata": {},
   "source": [
    "W przypadku zmiennych określających użycie narkotyków możemy założyć, że brak odpowiedzi oznacza, iż dana osoba brała dany narkotyk. Możemy to ustalić zakładając odwrotnie, że osoby które nie brały narkotyków chętniej zaznaczą że tego nie zrobiły."
   ]
  },
  {
   "cell_type": "code",
   "execution_count": 31,
   "metadata": {},
   "outputs": [
    {
     "data": {
      "text/plain": [
       "0    32871\n",
       "1     3634\n",
       "Name: COKECRACK, dtype: int64"
      ]
     },
     "execution_count": 31,
     "metadata": {},
     "output_type": "execute_result"
    }
   ],
   "source": [
    "value_map = {\n",
    "    -1:1\n",
    "}\n",
    "main_df['COKECRACK'] = main_df['COKECRACK'].replace(value_map)\n",
    "main_df['COKECRACK'].value_counts()"
   ]
  },
  {
   "cell_type": "markdown",
   "metadata": {},
   "source": [
    "Zamieniamy wartości MJGT12MO na 1 tam gdzie wcześniej wystąpił brak odpowiedzi (-9), a w kolumnie MJANDCOKE jest 1."
   ]
  },
  {
   "cell_type": "code",
   "execution_count": 32,
   "metadata": {},
   "outputs": [
    {
     "name": "stdout",
     "output_type": "stream",
     "text": [
      "MJANDCOKE==1 i MJGT12MO==-9: 1606\n",
      "\n",
      "Rzędy:\n",
      "       MJANDCOKE  MJGT12MO\n",
      "7              1        -9\n",
      "32             1        -9\n",
      "102            1        -9\n",
      "124            1        -9\n",
      "149            1        -9\n",
      "...          ...       ...\n",
      "55382          1        -9\n",
      "55519          1        -9\n",
      "55528          1        -9\n",
      "55535          1        -9\n",
      "55560          1        -9\n",
      "\n",
      "[1606 rows x 2 columns]\n"
     ]
    }
   ],
   "source": [
    "mask = (main_df['MJANDCOKE'] == 1) & (main_df['MJGT12MO'] == -9)\n",
    "filtered_rows = main_df[mask]\n",
    "print(f'MJANDCOKE==1 i MJGT12MO==-9: {mask.sum()}')\n",
    "print(\"\\nRzędy:\")\n",
    "print(filtered_rows[['MJANDCOKE', 'MJGT12MO']])"
   ]
  },
  {
   "cell_type": "code",
   "execution_count": 33,
   "metadata": {},
   "outputs": [
    {
     "name": "stdout",
     "output_type": "stream",
     "text": [
      "MJANDCOKE==1 i MJGT12MO==-9: 0\n",
      "\n",
      "Rzędy:\n",
      "Empty DataFrame\n",
      "Columns: [MJANDCOKE, MJGT12MO]\n",
      "Index: []\n"
     ]
    }
   ],
   "source": [
    "main_df.loc[mask, 'MJGT12MO'] = 1\n",
    "mask = (main_df['MJANDCOKE'] == 1) & (main_df['MJGT12MO'] == -9)\n",
    "filtered_rows = main_df[mask]\n",
    "print(f'MJANDCOKE==1 i MJGT12MO==-9: {mask.sum()}')\n",
    "print(\"\\nRzędy:\")\n",
    "print(filtered_rows[['MJANDCOKE', 'MJGT12MO']])"
   ]
  },
  {
   "cell_type": "markdown",
   "metadata": {},
   "source": [
    "To samo zrobimy dla COCGT12MO."
   ]
  },
  {
   "cell_type": "code",
   "execution_count": 34,
   "metadata": {},
   "outputs": [
    {
     "name": "stdout",
     "output_type": "stream",
     "text": [
      "MJANDCOKE==1 i COCGT12MO==-9: 515\n",
      "\n",
      "Rzędy:\n",
      "       MJANDCOKE  COCGT12MO\n",
      "107            1         -9\n",
      "125            1         -9\n",
      "179            1         -9\n",
      "281            1         -9\n",
      "305            1         -9\n",
      "...          ...        ...\n",
      "55011          1         -9\n",
      "55038          1         -9\n",
      "55090          1         -9\n",
      "55133          1         -9\n",
      "55587          1         -9\n",
      "\n",
      "[515 rows x 2 columns]\n"
     ]
    }
   ],
   "source": [
    "mask = (main_df['MJANDCOKE'] == 1) & (main_df['COCGT12MO'] == -9)\n",
    "filtered_rows = main_df[mask]\n",
    "print(f'MJANDCOKE==1 i COCGT12MO==-9: {mask.sum()}')\n",
    "print(\"\\nRzędy:\")\n",
    "print(filtered_rows[['MJANDCOKE', 'COCGT12MO']])"
   ]
  },
  {
   "cell_type": "code",
   "execution_count": 35,
   "metadata": {},
   "outputs": [
    {
     "name": "stdout",
     "output_type": "stream",
     "text": [
      "MJANDCOKE==1 i COCGT12MO==-9: 0\n",
      "\n",
      "Rzędy:\n",
      "Empty DataFrame\n",
      "Columns: [MJANDCOKE, COCGT12MO]\n",
      "Index: []\n"
     ]
    }
   ],
   "source": [
    "main_df.loc[mask, 'COCGT12MO'] = 1\n",
    "mask = (main_df['MJANDCOKE'] == 1) & (main_df['COCGT12MO'] == -9)\n",
    "filtered_rows = main_df[mask]\n",
    "print(f'MJANDCOKE==1 i COCGT12MO==-9: {mask.sum()}')\n",
    "print(\"\\nRzędy:\")\n",
    "print(filtered_rows[['MJANDCOKE', 'COCGT12MO']])"
   ]
  },
  {
   "cell_type": "markdown",
   "metadata": {},
   "source": [
    "Oraz dla ANYGT12MO z tym że porównujemy z OTHERILLICIT."
   ]
  },
  {
   "cell_type": "code",
   "execution_count": 36,
   "metadata": {},
   "outputs": [
    {
     "name": "stdout",
     "output_type": "stream",
     "text": [
      "OTHERILLICIT==1 i ANYGT12MO==-9: 1093\n",
      "\n",
      "Rzędy:\n",
      "       OTHERILLICIT  ANYGT12MO\n",
      "21                1         -9\n",
      "86                1         -9\n",
      "116               1         -9\n",
      "192               1         -9\n",
      "203               1         -9\n",
      "...             ...        ...\n",
      "55198             1         -9\n",
      "55307             1         -9\n",
      "55327             1         -9\n",
      "55420             1         -9\n",
      "55560             1         -9\n",
      "\n",
      "[1093 rows x 2 columns]\n"
     ]
    }
   ],
   "source": [
    "mask = (main_df['OTHERILLICIT'] == 1) & (main_df['ANYGT12MO'] == -9)\n",
    "filtered_rows = main_df[mask]\n",
    "print(f'OTHERILLICIT==1 i ANYGT12MO==-9: {mask.sum()}')\n",
    "print(\"\\nRzędy:\")\n",
    "print(filtered_rows[['OTHERILLICIT', 'ANYGT12MO']])"
   ]
  },
  {
   "cell_type": "code",
   "execution_count": 37,
   "metadata": {},
   "outputs": [
    {
     "name": "stdout",
     "output_type": "stream",
     "text": [
      "OTHERILLICIT==1 i ANYGT12MO==-9: 0\n",
      "\n",
      "Rzędy:\n",
      "Empty DataFrame\n",
      "Columns: [OTHERILLICIT, ANYGT12MO]\n",
      "Index: []\n"
     ]
    }
   ],
   "source": [
    "main_df.loc[mask, 'ANYGT12MO'] = 1\n",
    "mask = (main_df['OTHERILLICIT'] == 1) & (main_df['ANYGT12MO'] == -9)\n",
    "filtered_rows = main_df[mask]\n",
    "print(f'OTHERILLICIT==1 i ANYGT12MO==-9: {mask.sum()}')\n",
    "print(\"\\nRzędy:\")\n",
    "print(filtered_rows[['OTHERILLICIT', 'ANYGT12MO']])"
   ]
  },
  {
   "cell_type": "markdown",
   "metadata": {},
   "source": [
    "W przypadku NUMARREST ciężko jest określić ile razy dana osoba mogła być aresztowana, dlatego wyrzucimy rzędy z brakującymi wartościami."
   ]
  },
  {
   "cell_type": "code",
   "execution_count": 38,
   "metadata": {},
   "outputs": [
    {
     "name": "stdout",
     "output_type": "stream",
     "text": [
      "Usunięto 588 wierszy\n",
      "Pozostało 35917 wierszy\n"
     ]
    }
   ],
   "source": [
    "len_4 = len(main_df)\n",
    "main_df = main_df[main_df['NUMARREST'] != -9]\n",
    "len_5 = len(main_df)\n",
    "print(f'Usunięto {len_4 - len_5} wierszy')\n",
    "print(f'Pozostało {len_5} wierszy')\n"
   ]
  },
  {
   "cell_type": "markdown",
   "metadata": {},
   "source": [
    "SCHDSICK dotyczy jedynie młodzieży i nie jesteśmy w stanie dodać tej wartości dla dorosłych dlatego usuwamy kolumnę."
   ]
  },
  {
   "cell_type": "code",
   "execution_count": 39,
   "metadata": {},
   "outputs": [],
   "source": [
    "main_df = main_df.drop(columns='SCHDSICK')"
   ]
  },
  {
   "cell_type": "code",
   "execution_count": 40,
   "metadata": {},
   "outputs": [
    {
     "name": "stdout",
     "output_type": "stream",
     "text": [
      "Aktualna liczba danych: 35917\n",
      "Najwyższa liczba nieprawidłowych wartości: 895 dla zmiennej ANYGT12MO\n",
      "Najniższa liczba nieprawidłowych wartości: 4 dla zmiennej WORKFORCE\n"
     ]
    }
   ],
   "source": [
    "len_6=main_df.shape[0]\n",
    "print(f'Aktualna liczba danych: {len_6}')\n",
    "invalid_counts = main_df[(main_df < 0) | ((main_df > 80) & (main_df < 99))].count()[lambda x: x > 0]\n",
    "print(f'Najwyższa liczba nieprawidłowych wartości: {invalid_counts.max()} dla zmiennej {invalid_counts.idxmax()}')\n",
    "print(f'Najniższa liczba nieprawidłowych wartości: {invalid_counts.min()} dla zmiennej {invalid_counts.idxmin()}')"
   ]
  },
  {
   "cell_type": "code",
   "execution_count": 41,
   "metadata": {},
   "outputs": [
    {
     "name": "stdout",
     "output_type": "stream",
     "text": [
      "ANYINDEX      23\n",
      "ANYGT12MO    895\n",
      "WORKFORCE      4\n",
      "CACHAR         7\n",
      "CATYPE        79\n",
      "ANYSDRUG      69\n",
      "ANYATTACK     36\n",
      "ANYTHEFT      44\n",
      "HEALTH2       10\n",
      "SCHDSKIP      41\n",
      "DSTCHEER      63\n",
      "DSTNRVOS      91\n",
      "ADWRELES      16\n",
      "ADWRSMOR       4\n",
      "ADWRSTHK       8\n",
      "YOWRSATP      30\n",
      "NOMARR2        9\n",
      "RKIDSHH       13\n",
      "dtype: int64\n"
     ]
    }
   ],
   "source": [
    "print(invalid_counts)"
   ]
  },
  {
   "cell_type": "markdown",
   "metadata": {},
   "source": [
    "#### Masowe czyszczenie"
   ]
  },
  {
   "cell_type": "markdown",
   "metadata": {},
   "source": [
    "Usuwamy rzędy lub kolumny danych gdzie pozostały dodatkowe brakujące wartości."
   ]
  },
  {
   "cell_type": "code",
   "execution_count": 42,
   "metadata": {},
   "outputs": [
    {
     "name": "stdout",
     "output_type": "stream",
     "text": [
      "Aktualna liczba danych: 35917\n",
      "Najwyższa liczba nieprawidłowych wartości: 91 dla zmiennej DSTNRVOS\n"
     ]
    }
   ],
   "source": [
    "len_7=main_df.shape[0]\n",
    "print(f'Aktualna liczba danych: {len_7}')\n",
    "main_df = main_df[main_df['ANYGT12MO'] != -9]\n",
    "invalid_counts = main_df[(main_df < 0) | ((main_df > 80) & (main_df < 99))].count()[lambda x: x > 0]\n",
    "max_invalid = invalid_counts.max()\n",
    "max_invalid_column = invalid_counts[invalid_counts == max_invalid].index[0]\n",
    "print(f'Najwyższa liczba nieprawidłowych wartości: {max_invalid} dla zmiennej {max_invalid_column}')"
   ]
  },
  {
   "cell_type": "code",
   "execution_count": 43,
   "metadata": {},
   "outputs": [
    {
     "name": "stdout",
     "output_type": "stream",
     "text": [
      "1       763\n",
      "2      1872\n",
      "3      4508\n",
      "4      6375\n",
      "5      4468\n",
      "85        1\n",
      "94       57\n",
      "97       33\n",
      "99    16945\n",
      "Name: DSTNRVOS, dtype: int64\n"
     ]
    }
   ],
   "source": [
    "print(main_df['DSTNRVOS'].value_counts().sort_index())"
   ]
  },
  {
   "cell_type": "code",
   "execution_count": 44,
   "metadata": {},
   "outputs": [],
   "source": [
    "main_df = main_df.drop(columns='DSTNRVOS')"
   ]
  },
  {
   "cell_type": "code",
   "execution_count": 45,
   "metadata": {},
   "outputs": [
    {
     "name": "stdout",
     "output_type": "stream",
     "text": [
      "Najwyższa liczba nieprawidłowych wartości: 77 dla zmiennej CATYPE\n"
     ]
    }
   ],
   "source": [
    "invalid_counts = main_df[(main_df < 0) | ((main_df > 80) & (main_df < 99))].count()[lambda x: x > 0]\n",
    "max_invalid = invalid_counts.max()\n",
    "max_invalid_column = invalid_counts[invalid_counts == max_invalid].index[0]\n",
    "print(f'Najwyższa liczba nieprawidłowych wartości: {max_invalid} dla zmiennej {max_invalid_column}')"
   ]
  },
  {
   "cell_type": "code",
   "execution_count": 46,
   "metadata": {},
   "outputs": [
    {
     "name": "stdout",
     "output_type": "stream",
     "text": [
      "-9       77\n",
      " 1    30440\n",
      " 2      795\n",
      " 3      499\n",
      " 4     1103\n",
      " 5     1974\n",
      " 6      134\n",
      "Name: CATYPE, dtype: int64\n"
     ]
    }
   ],
   "source": [
    "print(main_df['CATYPE'].value_counts().sort_index())"
   ]
  },
  {
   "cell_type": "code",
   "execution_count": 47,
   "metadata": {},
   "outputs": [
    {
     "name": "stdout",
     "output_type": "stream",
     "text": [
      "Najwyższa liczba nieprawidłowych wartości: 68 dla zmiennej ANYSDRUG\n"
     ]
    }
   ],
   "source": [
    "main_df = main_df[main_df['CATYPE'] != -9]\n",
    "invalid_counts = main_df[(main_df < 0) | ((main_df > 80) & (main_df < 99))].count()[lambda x: x > 0]\n",
    "max_invalid = invalid_counts.max()\n",
    "max_invalid_column = invalid_counts[invalid_counts == max_invalid].index[0]\n",
    "print(f'Najwyższa liczba nieprawidłowych wartości: {max_invalid} dla zmiennej {max_invalid_column}')"
   ]
  },
  {
   "cell_type": "code",
   "execution_count": 48,
   "metadata": {},
   "outputs": [
    {
     "name": "stdout",
     "output_type": "stream",
     "text": [
      "-1       68\n",
      " 0    33638\n",
      " 1     1239\n",
      "Name: ANYSDRUG, dtype: int64\n"
     ]
    }
   ],
   "source": [
    "print(main_df['ANYSDRUG'].value_counts().sort_index())"
   ]
  },
  {
   "cell_type": "code",
   "execution_count": 49,
   "metadata": {},
   "outputs": [
    {
     "name": "stdout",
     "output_type": "stream",
     "text": [
      "Najwyższa liczba nieprawidłowych wartości: 57 dla zmiennej DSTCHEER\n"
     ]
    }
   ],
   "source": [
    "main_df = main_df[main_df['ANYSDRUG'] != -1]\n",
    "invalid_counts = main_df[(main_df < 0) | ((main_df > 80) & (main_df < 99))].count()[lambda x: x > 0]\n",
    "max_invalid = invalid_counts.max()\n",
    "max_invalid_column = invalid_counts[invalid_counts == max_invalid].index[0]\n",
    "print(f'Najwyższa liczba nieprawidłowych wartości: {max_invalid} dla zmiennej {max_invalid_column}')"
   ]
  },
  {
   "cell_type": "code",
   "execution_count": 50,
   "metadata": {},
   "outputs": [
    {
     "name": "stdout",
     "output_type": "stream",
     "text": [
      "1       722\n",
      "2      1503\n",
      "3      2801\n",
      "4      4167\n",
      "5      8740\n",
      "94       37\n",
      "97       20\n",
      "99    16887\n",
      "Name: DSTCHEER, dtype: int64\n"
     ]
    }
   ],
   "source": [
    "print(main_df['DSTCHEER'].value_counts().sort_index())"
   ]
  },
  {
   "cell_type": "code",
   "execution_count": 51,
   "metadata": {},
   "outputs": [
    {
     "data": {
      "text/plain": [
       "5    25684\n",
       "4     4167\n",
       "3     2801\n",
       "2     1503\n",
       "1      722\n",
       "Name: DSTCHEER, dtype: int64"
      ]
     },
     "execution_count": 51,
     "metadata": {},
     "output_type": "execute_result"
    }
   ],
   "source": [
    "value_map = {\n",
    "    94:5,\n",
    "    97:5,\n",
    "    99:5\n",
    "}\n",
    "main_df['DSTCHEER'] = main_df['DSTCHEER'].replace(value_map)\n",
    "main_df['DSTCHEER'].value_counts()"
   ]
  },
  {
   "cell_type": "code",
   "execution_count": 52,
   "metadata": {},
   "outputs": [
    {
     "name": "stdout",
     "output_type": "stream",
     "text": [
      "Najwyższa liczba nieprawidłowych wartości: 40 dla zmiennej SCHDSKIP\n"
     ]
    }
   ],
   "source": [
    "invalid_counts = main_df[(main_df < 0) | ((main_df > 80) & (main_df < 99))].count()[lambda x: x > 0]\n",
    "max_invalid = invalid_counts.max()\n",
    "max_invalid_column = invalid_counts[invalid_counts == max_invalid].index[0]\n",
    "print(f'Najwyższa liczba nieprawidłowych wartości: {max_invalid} dla zmiennej {max_invalid_column}')"
   ]
  },
  {
   "cell_type": "code",
   "execution_count": 53,
   "metadata": {},
   "outputs": [
    {
     "name": "stdout",
     "output_type": "stream",
     "text": [
      "0     14511\n",
      "1      1116\n",
      "2       683\n",
      "3       300\n",
      "4       164\n",
      "5       156\n",
      "6        48\n",
      "7        31\n",
      "8        22\n",
      "9         6\n",
      "10       42\n",
      "12        7\n",
      "13        3\n",
      "14        3\n",
      "15       11\n",
      "17        1\n",
      "20        9\n",
      "21        1\n",
      "25        3\n",
      "26        1\n",
      "29        1\n",
      "30        4\n",
      "94       20\n",
      "97        2\n",
      "98       18\n",
      "99    17714\n",
      "Name: SCHDSKIP, dtype: int64\n"
     ]
    }
   ],
   "source": [
    "print(main_df['SCHDSKIP'].value_counts().sort_index())"
   ]
  },
  {
   "cell_type": "code",
   "execution_count": 54,
   "metadata": {},
   "outputs": [],
   "source": [
    "main_df = main_df.drop(columns='SCHDSKIP')"
   ]
  },
  {
   "cell_type": "code",
   "execution_count": 55,
   "metadata": {},
   "outputs": [
    {
     "name": "stdout",
     "output_type": "stream",
     "text": [
      "Najwyższa liczba nieprawidłowych wartości: 26 dla zmiennej YOWRSATP\n"
     ]
    }
   ],
   "source": [
    "invalid_counts = main_df[(main_df < 0) | ((main_df > 80) & (main_df < 99))].count()[lambda x: x > 0]\n",
    "max_invalid = invalid_counts.max()\n",
    "max_invalid_column = invalid_counts[invalid_counts == max_invalid].index[0]\n",
    "print(f'Najwyższa liczba nieprawidłowych wartości: {max_invalid} dla zmiennej {max_invalid_column}')"
   ]
  },
  {
   "cell_type": "code",
   "execution_count": 56,
   "metadata": {},
   "outputs": [
    {
     "name": "stdout",
     "output_type": "stream",
     "text": [
      "1       502\n",
      "2       799\n",
      "94        1\n",
      "97        6\n",
      "98       19\n",
      "99    33550\n",
      "Name: YOWRSATP, dtype: int64\n"
     ]
    }
   ],
   "source": [
    "print(main_df['YOWRSATP'].value_counts().sort_index())"
   ]
  },
  {
   "cell_type": "code",
   "execution_count": 57,
   "metadata": {},
   "outputs": [
    {
     "data": {
      "text/plain": [
       "2    34349\n",
       "1      528\n",
       "Name: YOWRSATP, dtype: int64"
      ]
     },
     "execution_count": 57,
     "metadata": {},
     "output_type": "execute_result"
    }
   ],
   "source": [
    "value_map = {\n",
    "    94:1,\n",
    "    97:1,\n",
    "    98:1,\n",
    "    99:2\n",
    "}\n",
    "main_df['YOWRSATP'] = main_df['YOWRSATP'].replace(value_map)\n",
    "main_df['YOWRSATP'].value_counts()"
   ]
  },
  {
   "cell_type": "code",
   "execution_count": 58,
   "metadata": {},
   "outputs": [
    {
     "name": "stdout",
     "output_type": "stream",
     "text": [
      "Najwyższa liczba nieprawidłowych wartości: 21 dla zmiennej ANYINDEX\n"
     ]
    }
   ],
   "source": [
    "invalid_counts = main_df[(main_df < 0) | ((main_df > 80) & (main_df < 99))].count()[lambda x: x > 0]\n",
    "max_invalid = invalid_counts.max()\n",
    "max_invalid_column = invalid_counts[invalid_counts == max_invalid].index[0]\n",
    "print(f'Najwyższa liczba nieprawidłowych wartości: {max_invalid} dla zmiennej {max_invalid_column}')"
   ]
  },
  {
   "cell_type": "code",
   "execution_count": 59,
   "metadata": {},
   "outputs": [
    {
     "name": "stdout",
     "output_type": "stream",
     "text": [
      "-1.000000       21\n",
      " 0.142857    31752\n",
      " 0.166667     1010\n",
      " 0.285714      187\n",
      " 0.333333      753\n",
      " 0.428571      106\n",
      " 0.500000      392\n",
      " 0.571429      100\n",
      " 0.666667      224\n",
      " 0.714286       82\n",
      " 0.833333      119\n",
      " 0.857143       68\n",
      " 1.000000       63\n",
      "Name: ANYINDEX, dtype: int64\n"
     ]
    }
   ],
   "source": [
    "print(main_df['ANYINDEX'].value_counts().sort_index())"
   ]
  },
  {
   "cell_type": "code",
   "execution_count": 60,
   "metadata": {},
   "outputs": [
    {
     "name": "stdout",
     "output_type": "stream",
     "text": [
      "Najwyższa liczba nieprawidłowych wartości: 16 dla zmiennej ANYATTACK\n"
     ]
    }
   ],
   "source": [
    "main_df = main_df[main_df['ANYINDEX'] != -1.000000]\n",
    "invalid_counts = main_df[(main_df < 0) | ((main_df > 80) & (main_df < 99))].count()[lambda x: x > 0]\n",
    "max_invalid = invalid_counts.max()\n",
    "max_invalid_column = invalid_counts[invalid_counts == max_invalid].index[0]\n",
    "print(f'Najwyższa liczba nieprawidłowych wartości: {max_invalid} dla zmiennej {max_invalid_column}')"
   ]
  },
  {
   "cell_type": "code",
   "execution_count": 61,
   "metadata": {},
   "outputs": [
    {
     "name": "stdout",
     "output_type": "stream",
     "text": [
      "-1       16\n",
      " 0    32946\n",
      " 1     1894\n",
      "Name: ANYATTACK, dtype: int64\n"
     ]
    }
   ],
   "source": [
    "print(main_df['ANYATTACK'].value_counts().sort_index())"
   ]
  },
  {
   "cell_type": "code",
   "execution_count": 62,
   "metadata": {},
   "outputs": [
    {
     "name": "stdout",
     "output_type": "stream",
     "text": [
      "Najwyższa liczba nieprawidłowych wartości: 15 dla zmiennej ADWRELES\n"
     ]
    }
   ],
   "source": [
    "main_df = main_df[main_df['ANYATTACK'] != -1]\n",
    "invalid_counts = main_df[(main_df < 0) | ((main_df > 80) & (main_df < 99))].count()[lambda x: x > 0]\n",
    "max_invalid = invalid_counts.max()\n",
    "max_invalid_column = invalid_counts[invalid_counts == max_invalid].index[0]\n",
    "print(f'Najwyższa liczba nieprawidłowych wartości: {max_invalid} dla zmiennej {max_invalid_column}')"
   ]
  },
  {
   "cell_type": "code",
   "execution_count": 63,
   "metadata": {},
   "outputs": [
    {
     "name": "stdout",
     "output_type": "stream",
     "text": [
      "1      2070\n",
      "2      1307\n",
      "94       15\n",
      "99    31448\n",
      "Name: ADWRELES, dtype: int64\n"
     ]
    }
   ],
   "source": [
    "print(main_df['ADWRELES'].value_counts().sort_index())"
   ]
  },
  {
   "cell_type": "code",
   "execution_count": 64,
   "metadata": {},
   "outputs": [
    {
     "data": {
      "text/plain": [
       "2    32755\n",
       "1     2070\n",
       "Name: ADWRELES, dtype: int64"
      ]
     },
     "execution_count": 64,
     "metadata": {},
     "output_type": "execute_result"
    }
   ],
   "source": [
    "main_df = main_df[main_df['ADWRELES'] != 94]\n",
    "value_map = {\n",
    "    99:2\n",
    "}\n",
    "main_df['ADWRELES'] = main_df['ADWRELES'].replace(value_map)\n",
    "main_df['ADWRELES'].value_counts()"
   ]
  },
  {
   "cell_type": "code",
   "execution_count": 65,
   "metadata": {},
   "outputs": [
    {
     "name": "stdout",
     "output_type": "stream",
     "text": [
      "Najwyższa liczba nieprawidłowych wartości: 13 dla zmiennej RKIDSHH\n"
     ]
    }
   ],
   "source": [
    "invalid_counts = main_df[(main_df < 0) | ((main_df > 80) & (main_df < 99))].count()[lambda x: x > 0]\n",
    "max_invalid = invalid_counts.max()\n",
    "max_invalid_column = invalid_counts[invalid_counts == max_invalid].index[0]\n",
    "print(f'Najwyższa liczba nieprawidłowych wartości: {max_invalid} dla zmiennej {max_invalid_column}')"
   ]
  },
  {
   "cell_type": "code",
   "execution_count": 66,
   "metadata": {},
   "outputs": [
    {
     "name": "stdout",
     "output_type": "stream",
     "text": [
      "-1       13\n",
      " 0    28752\n",
      " 1     6060\n",
      "Name: RKIDSHH, dtype: int64\n"
     ]
    }
   ],
   "source": [
    "print(main_df['RKIDSHH'].value_counts().sort_index())"
   ]
  },
  {
   "cell_type": "code",
   "execution_count": 67,
   "metadata": {},
   "outputs": [],
   "source": [
    "main_df = main_df[main_df['RKIDSHH'] != -1]"
   ]
  },
  {
   "cell_type": "code",
   "execution_count": 68,
   "metadata": {},
   "outputs": [
    {
     "name": "stdout",
     "output_type": "stream",
     "text": [
      "Najwyższa liczba nieprawidłowych wartości: 12 dla zmiennej ANYTHEFT\n"
     ]
    }
   ],
   "source": [
    "invalid_counts = main_df[(main_df < 0) | ((main_df > 80) & (main_df < 99))].count()[lambda x: x > 0]\n",
    "max_invalid = invalid_counts.max()\n",
    "max_invalid_column = invalid_counts[invalid_counts == max_invalid].index[0]\n",
    "print(f'Najwyższa liczba nieprawidłowych wartości: {max_invalid} dla zmiennej {max_invalid_column}')"
   ]
  },
  {
   "cell_type": "code",
   "execution_count": 69,
   "metadata": {},
   "outputs": [
    {
     "name": "stdout",
     "output_type": "stream",
     "text": [
      "-1       12\n",
      " 0    33794\n",
      " 1     1006\n",
      "Name: ANYTHEFT, dtype: int64\n"
     ]
    }
   ],
   "source": [
    "print(main_df['ANYTHEFT'].value_counts().sort_index())"
   ]
  },
  {
   "cell_type": "code",
   "execution_count": 70,
   "metadata": {},
   "outputs": [],
   "source": [
    "main_df = main_df[main_df['ANYTHEFT'] != -1]"
   ]
  },
  {
   "cell_type": "code",
   "execution_count": 71,
   "metadata": {},
   "outputs": [
    {
     "name": "stdout",
     "output_type": "stream",
     "text": [
      "Najwyższa liczba nieprawidłowych wartości: 10 dla zmiennej HEALTH2\n"
     ]
    }
   ],
   "source": [
    "invalid_counts = main_df[(main_df < 0) | ((main_df > 80) & (main_df < 99))].count()[lambda x: x > 0]\n",
    "max_invalid = invalid_counts.max()\n",
    "max_invalid_column = invalid_counts[invalid_counts == max_invalid].index[0]\n",
    "print(f'Najwyższa liczba nieprawidłowych wartości: {max_invalid} dla zmiennej {max_invalid_column}')"
   ]
  },
  {
   "cell_type": "code",
   "execution_count": 72,
   "metadata": {},
   "outputs": [
    {
     "name": "stdout",
     "output_type": "stream",
     "text": [
      "-9       10\n",
      " 1    10746\n",
      " 2    13937\n",
      " 3     7962\n",
      " 4     2145\n",
      "Name: HEALTH2, dtype: int64\n"
     ]
    }
   ],
   "source": [
    "print(main_df['HEALTH2'].value_counts().sort_index())"
   ]
  },
  {
   "cell_type": "code",
   "execution_count": 73,
   "metadata": {},
   "outputs": [],
   "source": [
    "main_df = main_df[main_df['HEALTH2'] != -9]"
   ]
  },
  {
   "cell_type": "code",
   "execution_count": 74,
   "metadata": {},
   "outputs": [
    {
     "name": "stdout",
     "output_type": "stream",
     "text": [
      "Najwyższa liczba nieprawidłowych wartości: 8 dla zmiennej NOMARR2\n"
     ]
    }
   ],
   "source": [
    "invalid_counts = main_df[(main_df < 0) | ((main_df > 80) & (main_df < 99))].count()[lambda x: x > 0]\n",
    "max_invalid = invalid_counts.max()\n",
    "max_invalid_column = invalid_counts[invalid_counts == max_invalid].index[0]\n",
    "print(f'Najwyższa liczba nieprawidłowych wartości: {max_invalid} dla zmiennej {max_invalid_column}')"
   ]
  },
  {
   "cell_type": "code",
   "execution_count": 75,
   "metadata": {},
   "outputs": [
    {
     "name": "stdout",
     "output_type": "stream",
     "text": [
      "1      7269\n",
      "2      1843\n",
      "94        1\n",
      "97        7\n",
      "99    25670\n",
      "Name: NOMARR2, dtype: int64\n"
     ]
    }
   ],
   "source": [
    "print(main_df['NOMARR2'].value_counts().sort_index())"
   ]
  },
  {
   "cell_type": "code",
   "execution_count": 76,
   "metadata": {},
   "outputs": [],
   "source": [
    "main_df = main_df[main_df['NOMARR2'] != 94]\n",
    "main_df = main_df[main_df['NOMARR2'] != 97]"
   ]
  },
  {
   "cell_type": "code",
   "execution_count": 77,
   "metadata": {},
   "outputs": [
    {
     "name": "stdout",
     "output_type": "stream",
     "text": [
      "Najwyższa liczba nieprawidłowych wartości: 7 dla zmiennej CACHAR\n"
     ]
    }
   ],
   "source": [
    "invalid_counts = main_df[(main_df < 0) | ((main_df > 80) & (main_df < 99))].count()[lambda x: x > 0]\n",
    "max_invalid = invalid_counts.max()\n",
    "max_invalid_column = invalid_counts[invalid_counts == max_invalid].index[0]\n",
    "print(f'Najwyższa liczba nieprawidłowych wartości: {max_invalid} dla zmiennej {max_invalid_column}')"
   ]
  },
  {
   "cell_type": "code",
   "execution_count": 78,
   "metadata": {},
   "outputs": [
    {
     "name": "stdout",
     "output_type": "stream",
     "text": [
      "-9        7\n",
      " 1       55\n",
      " 2      612\n",
      " 3       93\n",
      " 4       88\n",
      " 5       54\n",
      " 6    26673\n",
      " 7     3725\n",
      " 8     1949\n",
      " 9     1526\n",
      "Name: CACHAR, dtype: int64\n"
     ]
    }
   ],
   "source": [
    "print(main_df['CACHAR'].value_counts().sort_index())"
   ]
  },
  {
   "cell_type": "code",
   "execution_count": 79,
   "metadata": {},
   "outputs": [],
   "source": [
    "main_df = main_df[main_df['CACHAR'] != -9]"
   ]
  },
  {
   "cell_type": "code",
   "execution_count": 80,
   "metadata": {},
   "outputs": [
    {
     "name": "stdout",
     "output_type": "stream",
     "text": [
      "Najwyższa liczba nieprawidłowych wartości: 7 dla zmiennej ADWRSTHK\n"
     ]
    }
   ],
   "source": [
    "invalid_counts = main_df[(main_df < 0) | ((main_df > 80) & (main_df < 99))].count()[lambda x: x > 0]\n",
    "max_invalid = invalid_counts.max()\n",
    "max_invalid_column = invalid_counts[invalid_counts == max_invalid].index[0]\n",
    "print(f'Najwyższa liczba nieprawidłowych wartości: {max_invalid} dla zmiennej {max_invalid_column}')"
   ]
  },
  {
   "cell_type": "code",
   "execution_count": 81,
   "metadata": {},
   "outputs": [
    {
     "name": "stdout",
     "output_type": "stream",
     "text": [
      "1      1300\n",
      "2      2065\n",
      "94        5\n",
      "97        2\n",
      "99    31403\n",
      "Name: ADWRSTHK, dtype: int64\n"
     ]
    }
   ],
   "source": [
    "print(main_df['ADWRSTHK'].value_counts().sort_index())"
   ]
  },
  {
   "cell_type": "code",
   "execution_count": 82,
   "metadata": {},
   "outputs": [
    {
     "data": {
      "text/plain": [
       "2    33468\n",
       "1     1307\n",
       "Name: ADWRSTHK, dtype: int64"
      ]
     },
     "execution_count": 82,
     "metadata": {},
     "output_type": "execute_result"
    }
   ],
   "source": [
    "value_map = {\n",
    "    94:1,\n",
    "    97:1,\n",
    "    99:2\n",
    "}\n",
    "main_df['ADWRSTHK'] = main_df['ADWRSTHK'].replace(value_map)\n",
    "main_df['ADWRSTHK'].value_counts()"
   ]
  },
  {
   "cell_type": "code",
   "execution_count": 83,
   "metadata": {},
   "outputs": [
    {
     "name": "stdout",
     "output_type": "stream",
     "text": [
      "Najwyższa liczba nieprawidłowych wartości: 2 dla zmiennej WORKFORCE\n"
     ]
    }
   ],
   "source": [
    "invalid_counts = main_df[(main_df < 0) | ((main_df > 80) & (main_df < 99))].count()[lambda x: x > 0]\n",
    "max_invalid = invalid_counts.max()\n",
    "max_invalid_column = invalid_counts[invalid_counts == max_invalid].index[0]\n",
    "print(f'Najwyższa liczba nieprawidłowych wartości: {max_invalid} dla zmiennej {max_invalid_column}')"
   ]
  },
  {
   "cell_type": "code",
   "execution_count": 84,
   "metadata": {},
   "outputs": [
    {
     "name": "stdout",
     "output_type": "stream",
     "text": [
      "-1        2\n",
      " 0    19074\n",
      " 1    15699\n",
      "Name: WORKFORCE, dtype: int64\n"
     ]
    }
   ],
   "source": [
    "print(main_df['WORKFORCE'].value_counts().sort_index())"
   ]
  },
  {
   "cell_type": "code",
   "execution_count": 85,
   "metadata": {},
   "outputs": [],
   "source": [
    "main_df = main_df[main_df['WORKFORCE'] != -1]"
   ]
  },
  {
   "cell_type": "code",
   "execution_count": 86,
   "metadata": {},
   "outputs": [
    {
     "name": "stdout",
     "output_type": "stream",
     "text": [
      "Najwyższa liczba nieprawidłowych wartości: 2 dla zmiennej ADWRSMOR\n"
     ]
    }
   ],
   "source": [
    "invalid_counts = main_df[(main_df < 0) | ((main_df > 80) & (main_df < 99))].count()[lambda x: x > 0]\n",
    "max_invalid = invalid_counts.max()\n",
    "max_invalid_column = invalid_counts[invalid_counts == max_invalid].index[0]\n",
    "print(f'Najwyższa liczba nieprawidłowych wartości: {max_invalid} dla zmiennej {max_invalid_column}')"
   ]
  },
  {
   "cell_type": "code",
   "execution_count": 87,
   "metadata": {},
   "outputs": [
    {
     "name": "stdout",
     "output_type": "stream",
     "text": [
      "1       375\n",
      "2       238\n",
      "94        2\n",
      "99    34158\n",
      "Name: ADWRSMOR, dtype: int64\n"
     ]
    }
   ],
   "source": [
    "print(main_df['ADWRSMOR'].value_counts().sort_index())"
   ]
  },
  {
   "cell_type": "code",
   "execution_count": 88,
   "metadata": {},
   "outputs": [],
   "source": [
    "main_df = main_df[main_df['ADWRSMOR'] != 94]"
   ]
  },
  {
   "cell_type": "code",
   "execution_count": 89,
   "metadata": {},
   "outputs": [
    {
     "name": "stdout",
     "output_type": "stream",
     "text": [
      "Brak nieprawidłowych wartości\n"
     ]
    }
   ],
   "source": [
    "try:\n",
    "    invalid_counts = main_df[(main_df < 0) | ((main_df > 80) & (main_df < 99))].count()[lambda x: x > 0]\n",
    "    max_invalid = invalid_counts.max()\n",
    "    max_invalid_column = invalid_counts[invalid_counts == max_invalid].index[0]\n",
    "    print(f'Najwyższa liczba nieprawidłowych wartości: {max_invalid} dla zmiennej {max_invalid_column}')\n",
    "except:\n",
    "    print('Brak nieprawidłowych wartości')"
   ]
  },
  {
   "cell_type": "markdown",
   "metadata": {},
   "source": [
    "#### Analiza wartości 99"
   ]
  },
  {
   "cell_type": "markdown",
   "metadata": {},
   "source": [
    "Przeanalizujmy jeszcze wartości 99 które oznaczają uzasadnione pominięcie pytania, i zmieńmy je na jedną z właściwych odpowiedzi"
   ]
  },
  {
   "cell_type": "code",
   "execution_count": 90,
   "metadata": {},
   "outputs": [
    {
     "name": "stdout",
     "output_type": "stream",
     "text": [
      "Najwyższa liczba nieprawidłowych wartości: 34771 dla zmiennej DSTNCALM\n",
      "EMPSTAT4    16846\n",
      "DSTNCALM    34771\n",
      "DSTTIRE     34771\n",
      "DSTSITST    34771\n",
      "DSTDEPRS    34771\n",
      "ADWRSMOR    34158\n",
      "IRMARIT      8649\n",
      "NOMARR2     25663\n",
      "dtype: int64\n"
     ]
    }
   ],
   "source": [
    "value_99 = main_df[(main_df == 99)].count()[lambda x: x > 0]\n",
    "max_invalid = value_99.max()\n",
    "max_invalid_column = value_99[value_99 == max_invalid].index[0]\n",
    "print(f'Najwyższa liczba nieprawidłowych wartości: {max_invalid} dla zmiennej {max_invalid_column}')\n",
    "print(value_99)"
   ]
  },
  {
   "cell_type": "code",
   "execution_count": 91,
   "metadata": {},
   "outputs": [
    {
     "name": "stdout",
     "output_type": "stream",
     "text": [
      "Aktualna liczba danych: 34771\n"
     ]
    }
   ],
   "source": [
    "print(f'Aktualna liczba danych: {main_df.shape[0]}')"
   ]
  },
  {
   "cell_type": "markdown",
   "metadata": {},
   "source": [
    "Dla EMPSTAT4 watość 99 oznacza nieletnich, więc przeniesiemy je do wartości 4 - \"nie są siłą roboczą\"\n",
    "\n",
    "Dla DSTNCALM, DSTTIRE, DSTSITST, DSTDEPRS wszystkie wartości są takie same, wywalamy kolumny.\n",
    "\n",
    "Dla wskaźnika dłuższych snów ADWRSMOR podmieniamy na 2 - brak dłuższych snów.\n",
    "\n",
    "Dla stanu cywilnego IRMARIT 99 oznacza nielenią osobę - zamieniamy na 4.\n",
    "\n",
    "NOMARR2 określa ile razy dana osobo się ożeniła, przy czym, wyróżniane są jedynie wartości 1 lub 2 i więcej. Ta sama informacja jest już zawarta pośrednio w IRMARIT więc wywalamy kolumnę NOMARR2."
   ]
  },
  {
   "cell_type": "code",
   "execution_count": 92,
   "metadata": {},
   "outputs": [
    {
     "name": "stdout",
     "output_type": "stream",
     "text": [
      "Przed\n",
      "\n",
      "99    16846\n",
      "1      9518\n",
      "4      4001\n",
      "2      3358\n",
      "3      1048\n",
      "Name: EMPSTAT4, dtype: int64\n",
      "\n",
      "\n",
      "Po\n"
     ]
    },
    {
     "data": {
      "text/plain": [
       "4    20847\n",
       "1     9518\n",
       "2     3358\n",
       "3     1048\n",
       "Name: EMPSTAT4, dtype: int64"
      ]
     },
     "execution_count": 92,
     "metadata": {},
     "output_type": "execute_result"
    }
   ],
   "source": [
    "print('Przed\\n')\n",
    "main_df['EMPSTAT4'].value_counts()\n",
    "print(main_df['EMPSTAT4'].value_counts())\n",
    "print('\\n\\nPo')\n",
    "value_map = {\n",
    "    99:4\n",
    "}\n",
    "main_df['EMPSTAT4'] = main_df['EMPSTAT4'].replace(value_map)\n",
    "main_df['EMPSTAT4'].value_counts()"
   ]
  },
  {
   "cell_type": "code",
   "execution_count": 93,
   "metadata": {},
   "outputs": [],
   "source": [
    "main_df = main_df.drop(columns=['DSTNCALM', 'DSTTIRE', 'DSTSITST', 'DSTDEPRS'])"
   ]
  },
  {
   "cell_type": "code",
   "execution_count": 94,
   "metadata": {},
   "outputs": [
    {
     "name": "stdout",
     "output_type": "stream",
     "text": [
      "Przed\n",
      "\n",
      "99    34158\n",
      "1       375\n",
      "2       238\n",
      "Name: ADWRSMOR, dtype: int64\n",
      "\n",
      "\n",
      "Po\n"
     ]
    },
    {
     "data": {
      "text/plain": [
       "2    34396\n",
       "1      375\n",
       "Name: ADWRSMOR, dtype: int64"
      ]
     },
     "execution_count": 94,
     "metadata": {},
     "output_type": "execute_result"
    }
   ],
   "source": [
    "print('Przed\\n')\n",
    "main_df['ADWRSMOR'].value_counts()\n",
    "print(main_df['ADWRSMOR'].value_counts())\n",
    "print('\\n\\nPo')\n",
    "value_map = {\n",
    "    99:2\n",
    "}\n",
    "main_df['ADWRSMOR'] = main_df['ADWRSMOR'].replace(value_map)\n",
    "main_df['ADWRSMOR'].value_counts()"
   ]
  },
  {
   "cell_type": "code",
   "execution_count": 95,
   "metadata": {},
   "outputs": [
    {
     "name": "stdout",
     "output_type": "stream",
     "text": [
      "Przed\n",
      "\n",
      "4     17014\n",
      "99     8649\n",
      "1      7044\n",
      "3      1644\n",
      "2       420\n",
      "Name: IRMARIT, dtype: int64\n",
      "\n",
      "\n",
      "Po\n"
     ]
    },
    {
     "data": {
      "text/plain": [
       "4    25663\n",
       "1     7044\n",
       "3     1644\n",
       "2      420\n",
       "Name: IRMARIT, dtype: int64"
      ]
     },
     "execution_count": 95,
     "metadata": {},
     "output_type": "execute_result"
    }
   ],
   "source": [
    "print('Przed\\n')\n",
    "main_df['IRMARIT'].value_counts()\n",
    "print(main_df['IRMARIT'].value_counts())\n",
    "print('\\n\\nPo')\n",
    "value_map = {\n",
    "    99:4\n",
    "}\n",
    "main_df['IRMARIT'] = main_df['IRMARIT'].replace(value_map)\n",
    "main_df['IRMARIT'].value_counts()"
   ]
  },
  {
   "cell_type": "code",
   "execution_count": 96,
   "metadata": {},
   "outputs": [],
   "source": [
    "main_df = main_df.drop(columns='NOMARR2')"
   ]
  },
  {
   "cell_type": "code",
   "execution_count": 97,
   "metadata": {},
   "outputs": [
    {
     "name": "stdout",
     "output_type": "stream",
     "text": [
      "Brak nieprawidłowych wartości\n"
     ]
    }
   ],
   "source": [
    "try:\n",
    "    value_99 = main_df[(main_df == 99)].count()[lambda x: x > 0]\n",
    "    max_invalid = value_99.max()\n",
    "    max_invalid_column = value_99[value_99 == max_invalid].index[0]\n",
    "    print(f'Najwyższa liczba nieprawidłowych wartości: {max_invalid} dla zmiennej {max_invalid_column}')\n",
    "    print(value_99)\n",
    "except:\n",
    "    print('Brak nieprawidłowych wartości')"
   ]
  },
  {
   "cell_type": "markdown",
   "metadata": {},
   "source": [
    "Sprawdźmy czy wszystkie dane zostały pokryte"
   ]
  },
  {
   "cell_type": "code",
   "execution_count": 98,
   "metadata": {},
   "outputs": [
    {
     "name": "stdout",
     "output_type": "stream",
     "text": [
      "Series([], dtype: int64)\n"
     ]
    }
   ],
   "source": [
    "invalid_counts = main_df[(main_df < 0) | ((main_df > 80) & (main_df < 99))].count()[lambda x: x > 0]\n",
    "print(invalid_counts)"
   ]
  },
  {
   "cell_type": "markdown",
   "metadata": {},
   "source": [
    "Możemy przejść do analizy czynnikowej"
   ]
  },
  {
   "cell_type": "markdown",
   "metadata": {},
   "source": [
    "### b) Analiza czynnikowa"
   ]
  },
  {
   "cell_type": "markdown",
   "metadata": {},
   "source": [
    "#### Dodanie kolumn"
   ]
  },
  {
   "cell_type": "markdown",
   "metadata": {},
   "source": [
    "Analiza ta ma na celu sprawdzenie które informacje najbardziej wpływają na wskaźniki depresji a które są niepotrzebne lub powodują przeciek informacji."
   ]
  },
  {
   "cell_type": "markdown",
   "metadata": {},
   "source": [
    "Na początku jednak dodajmy dodatkowe kolumny określające depresję. Na podstawie raportu WHO (2021 więc jest pewna rozbieżność w datach, ale załóżmy że wartości były podobne w 2004) ok 5-10% ludzi. Na potrzeby analizy załóżmy że jest to pomiędzy 8-17% w USA w 2004. Na podstawie [ICPSR](https://www.icpsr.umich.edu/web/NACJD/studies/27521/datasets/0001/variables/DEPRESSIONINDEX?archive=nacjd) załóżmy że DEPRESSIONINDEX pomiędzy wartościami 5-9 oznacza wystąpienie depresji."
   ]
  },
  {
   "cell_type": "code",
   "execution_count": 99,
   "metadata": {},
   "outputs": [
    {
     "data": {
      "text/plain": [
       "0    29327\n",
       "1     5444\n",
       "Name: DEPRESSION_BOOLEAN, dtype: int64"
      ]
     },
     "execution_count": 99,
     "metadata": {},
     "output_type": "execute_result"
    }
   ],
   "source": [
    "main_df['DEPRESSION_BOOLEAN'] = np.where(main_df['DEPRESSIONINDEX'] >= 5, 1, 0)\n",
    "main_df['DEPRESSION_BOOLEAN'].value_counts()"
   ]
  },
  {
   "cell_type": "code",
   "execution_count": 100,
   "metadata": {},
   "outputs": [
    {
     "name": "stdout",
     "output_type": "stream",
     "text": [
      "Procent przypadków depresji: 15.66%\n"
     ]
    }
   ],
   "source": [
    "depression_cases = (main_df['DEPRESSION_BOOLEAN'] == 1).sum()\n",
    "depression_percentage = (depression_cases / len(main_df)) * 100\n",
    "print(f'Procent przypadków depresji: {depression_percentage:.2f}%')"
   ]
  },
  {
   "cell_type": "markdown",
   "metadata": {},
   "source": [
    "Dodajmy jeszcze jedną kolumnę określającą depresję somatyczną, ta powinna się klasyfikować równoczesnym występowaniem zaburzeń apetytu, problemów ze snem oraz zmęczenia, ale nie mamy danych dot. zmęczenia, więc ją pominiemy i nazwiemy to pseudo somatyczną depresją"
   ]
  },
  {
   "cell_type": "code",
   "execution_count": 101,
   "metadata": {},
   "outputs": [
    {
     "data": {
      "text/plain": [
       "0    34607\n",
       "1      164\n",
       "Name: PSEUDO_SOMATIC_DEPRESSION, dtype: int64"
      ]
     },
     "execution_count": 101,
     "metadata": {},
     "output_type": "execute_result"
    }
   ],
   "source": [
    "main_df['PSEUDO_SOMATIC_DEPRESSION'] = np.where(\n",
    "    (main_df['DEPRESSION_BOOLEAN'] == 1) &  \n",
    "    (main_df['ADWRELES'] == 1) & \n",
    "    (main_df['ADWRSMOR'] == 1),\n",
    "    1, 0\n",
    ")\n",
    "main_df['PSEUDO_SOMATIC_DEPRESSION'].value_counts()"
   ]
  },
  {
   "cell_type": "markdown",
   "metadata": {},
   "source": [
    "#### Wstępna analiza korelacji"
   ]
  },
  {
   "cell_type": "code",
   "execution_count": 102,
   "metadata": {},
   "outputs": [],
   "source": [
    "remaining_data=main_df.columns.to_list()\n",
    "target_vars = ['DEPRESSION_BOOLEAN','DEPRESSIONINDEX', 'PSEUDO_SOMATIC_DEPRESSION']\n",
    "categories = {\n",
    "    'depression_v':list(set(depression_variables).intersection(remaining_data)-set(target_vars)),\n",
    "    'age_v': list(set(age_variables).intersection(remaining_data)-set(target_vars)),\n",
    "    'sex_v': list(set(sex_variables).intersection(remaining_data)-set(target_vars)),\n",
    "    'racial_v': list(set(racial_variables).intersection(remaining_data)-set(target_vars)),\n",
    "    'drug_v': list(set(drug_variables).intersection(remaining_data)-set(target_vars)),\n",
    "    'edu_v': list(set(education_variables).intersection(remaining_data)-set(target_vars)),\n",
    "    'economic_v': list(set(economic_variables).intersection(remaining_data)-set(target_vars)),\n",
    "    'accomodation_v': list(set(accomodation_variables).intersection(remaining_data)-set(target_vars)),\n",
    "    'law_v': list(set(law_problems_variables).intersection(remaining_data)-set(target_vars)),\n",
    "    'health_v': list(set(health_based_var).intersection(remaining_data)-set(target_vars)),\n",
    "    'family_v': list(set(family_variables)-set(depression_variables)-set(target_vars))\n",
    "}"
   ]
  },
  {
   "cell_type": "code",
   "execution_count": 103,
   "metadata": {},
   "outputs": [
    {
     "name": "stdout",
     "output_type": "stream",
     "text": [
      "\n",
      "DEPRESSION_V korelacje kategorii:\n",
      "            DEPRESSION_BOOLEAN  DEPRESSIONINDEX  PSEUDO_SOMATIC_DEPRESSION\n",
      "DEPEPISODE            1.000000         0.968840                   0.159777\n",
      "MDELASTYR             0.753091         0.757637                   0.074895\n",
      "ANYTXRXMDE            0.603343         0.614715                   0.085537\n",
      "\n",
      "AGE_V korelacje kategorii:\n",
      "        DEPRESSION_BOOLEAN  DEPRESSIONINDEX  PSEUDO_SOMATIC_DEPRESSION\n",
      "CATAG7            0.051716         0.051533                   0.050468\n",
      "CATAG2            0.029956         0.029494                   0.049746\n",
      "CATAG3            0.015745         0.013832                   0.034203\n",
      "\n",
      "SEX_V korelacje kategorii:\n",
      "       DEPRESSION_BOOLEAN  DEPRESSIONINDEX  PSEUDO_SOMATIC_DEPRESSION\n",
      "IRSEX            0.143309         0.146039                   0.032999\n",
      "\n",
      "RACIAL_V korelacje kategorii:\n",
      "          DEPRESSION_BOOLEAN  DEPRESSIONINDEX  PSEUDO_SOMATIC_DEPRESSION\n",
      "NEWRACE2             0.01016         0.008827                   0.014463\n",
      "\n",
      "DRUG_V korelacje kategorii:\n",
      "                DEPRESSION_BOOLEAN  DEPRESSIONINDEX  PSEUDO_SOMATIC_DEPRESSION\n",
      "OTHERILLICIT              0.182597         0.189816                   0.034880\n",
      "ANYGT12MO                 0.181046         0.188386                   0.047346\n",
      "ILLICITDRUGUSE            0.181046         0.188386                   0.047346\n",
      "MJANDCOKE                 0.147166         0.154519                   0.050457\n",
      "MJGT12MO                  0.146657         0.154061                   0.049957\n",
      "LSYRILLICIT               0.137242         0.144733                   0.023559\n",
      "ANYINDEX                  0.124696         0.132766                   0.014997\n",
      "COKECRACK                 0.105527         0.109977                   0.045281\n",
      "COCGT12MO                 0.105527         0.109977                   0.045281\n",
      "MJCOKELY                  0.103545         0.110165                   0.020631\n",
      "MARJLTYR                  0.100141         0.106712                   0.020374\n",
      "ALCFMFPB                  0.066903         0.069225                   0.026218\n",
      "COCCRKLY                  0.059303         0.063418                   0.019513\n",
      "\n",
      "EDU_V korelacje kategorii:\n",
      "           DEPRESSION_BOOLEAN  DEPRESSIONINDEX  PSEUDO_SOMATIC_DEPRESSION\n",
      "IREDUC2              0.074193         0.072769                   0.060760\n",
      "EDU_DUMMY            0.036705         0.031142                   0.058073\n",
      "\n",
      "ECONOMIC_V korelacje kategorii:\n",
      "           DEPRESSION_BOOLEAN  DEPRESSIONINDEX  PSEUDO_SOMATIC_DEPRESSION\n",
      "WORKFORCE            0.036954         0.037604                   0.042988\n",
      "INCOME               0.029383         0.034292                   0.023388\n",
      "IRPRVHLT             0.028379         0.033551                   0.009126\n",
      "EMPSTAT4             0.022886         0.022981                   0.054825\n",
      "POVERTY              0.018190         0.022382                   0.006545\n",
      "INCOME_R             0.007340         0.011303                   0.022945\n",
      "\n",
      "ACCOMODATION_V korelacje kategorii:\n",
      "            DEPRESSION_BOOLEAN  DEPRESSIONINDEX  PSEUDO_SOMATIC_DEPRESSION\n",
      "CACHAR                0.006447         0.008632                   0.007778\n",
      "CATYPE                0.004909         0.005309                   0.021059\n",
      "REVERSEPOP            0.003365         0.003675                   0.001407\n",
      "MOVESPY2              0.000955         0.000604                   0.000866\n",
      "\n",
      "LAW_V korelacje kategorii:\n",
      "           DEPRESSION_BOOLEAN  DEPRESSIONINDEX  PSEUDO_SOMATIC_DEPRESSION\n",
      "ANYATTACK            0.090247         0.098325                   0.003529\n",
      "CRIMEHIST            0.062032         0.065449                   0.023285\n",
      "ANYTHEFT             0.057466         0.061953                   0.004360\n",
      "ANYSDRUG             0.051847         0.055758                   0.001841\n",
      "NUMARREST            0.033408         0.036009                   0.000673\n",
      "\n",
      "HEALTH_V korelacje kategorii:\n",
      "          DEPRESSION_BOOLEAN  DEPRESSIONINDEX  PSEUDO_SOMATIC_DEPRESSION\n",
      "ADWRELES            0.551886         0.566736                   0.273894\n",
      "ADWRSTHK            0.443339         0.476517                   0.127753\n",
      "DSTCHEER            0.313361         0.325532                   0.095367\n",
      "YOWRSATP            0.278576         0.304582                   0.008532\n",
      "ADWRSMOR            0.210931         0.212101                   0.659293\n",
      "HEALTH2             0.107995         0.114200                   0.011826\n",
      "\n",
      "FAMILY_V korelacje kategorii:\n",
      "                DEPRESSION_BOOLEAN  DEPRESSIONINDEX  PSEUDO_SOMATIC_DEPRESSION\n",
      "RKIDSHH                   0.028795         0.029743                   0.021558\n",
      "MARRIED                   0.023011         0.026334                   0.006033\n",
      "CHILDRENINHOME            0.017382         0.016216                   0.053761\n",
      "IRMARIT                   0.009538         0.012643                   0.010296\n"
     ]
    }
   ],
   "source": [
    "results_corr = {}\n",
    "\n",
    "for category_name, category_vars in categories.items():\n",
    "    valid_vars = [var for var in category_vars if var in main_df.columns]\n",
    "    if not valid_vars:\n",
    "        continue\n",
    "    category_df = main_df[valid_vars + target_vars]\n",
    "    correlations = category_df.corr()[target_vars]\n",
    "    correlations = correlations.drop(target_vars, axis=0)\n",
    "    results_corr[category_name] = correlations.abs().sort_values(by=target_vars, ascending=False)\n",
    "\n",
    "for category, corr in results_corr.items():\n",
    "    print(f\"\\n{category.upper()} korelacje kategorii:\")\n",
    "    print(corr)"
   ]
  },
  {
   "cell_type": "code",
   "execution_count": 104,
   "metadata": {},
   "outputs": [
    {
     "data": {
      "image/png": "[encoded data removed]",
      "text/plain": [
       "<Figure size 1200x1200 with 1 Axes>"
      ]
     },
     "metadata": {},
     "output_type": "display_data"
    }
   ],
   "source": [
    "target='DEPRESSION_BOOLEAN'\n",
    "corr_list = []\n",
    "all_corr=None\n",
    "category_corr=None\n",
    "\n",
    "for category, corr_df in results_corr.items():\n",
    "    category_corr = corr_df[target]\n",
    "    category_corr.index = [f\"{idx} ({category})\" for idx in category_corr.index]\n",
    "    corr_list.append(category_corr)\n",
    "all_corr = pd.concat(corr_list)\n",
    "all_corr = all_corr.reindex(all_corr.abs().sort_values().index)\n",
    "\n",
    "plt.figure(figsize=(12, 12))\n",
    "colors = plt.cm.RdBu(np.linspace(0.1, 0.9, len(all_corr)))\n",
    "bars = plt.barh(range(len(all_corr)), all_corr, color=colors)\n",
    "\n",
    "plt.yticks(range(len(all_corr)), all_corr.index)\n",
    "plt.xlabel('Korelacja')\n",
    "plt.title(f'Korelacje pomiędzy zmiennymi a {target}')\n",
    "plt.axvline(x=0, color='black', linestyle='-', linewidth=0.5)\n",
    "\n",
    "for i, v in enumerate(all_corr):\n",
    "    plt.text(v + (0.01 if v >= 0 else -0.01), \n",
    "             i, \n",
    "             f'{v:.3f}', \n",
    "             va='center',\n",
    "             ha='left' if v >= 0 else 'right')\n",
    "plt.show()"
   ]
  },
  {
   "cell_type": "code",
   "execution_count": 105,
   "metadata": {},
   "outputs": [],
   "source": [
    "show=False\n",
    "if show:\n",
    "    target='DEPRESSIONINDEX'\n",
    "    corr_list = []\n",
    "    all_corr=None\n",
    "    category_corr=None\n",
    "\n",
    "    for category, corr_df in results_corr.items():\n",
    "        category_corr = corr_df[target]\n",
    "        category_corr.index = [f\"{idx} ({category})\" for idx in category_corr.index]\n",
    "        corr_list.append(category_corr)\n",
    "    all_corr = pd.concat(corr_list)\n",
    "    all_corr = all_corr.reindex(all_corr.abs().sort_values().index)\n",
    "\n",
    "    plt.figure(figsize=(12, 12))\n",
    "    colors = plt.cm.RdBu(np.linspace(0.1, 0.9, len(all_corr)))\n",
    "    bars = plt.barh(range(len(all_corr)), all_corr, color=colors)\n",
    "\n",
    "    plt.yticks(range(len(all_corr)), all_corr.index)\n",
    "    plt.xlabel('Korelacja')\n",
    "    plt.title(f'Korelacje pomiędzy zmiennymi a {target}')\n",
    "    plt.axvline(x=0, color='black', linestyle='-', linewidth=0.5)\n",
    "\n",
    "    for i, v in enumerate(all_corr):\n",
    "        plt.text(v + (0.01 if v >= 0 else -0.01), \n",
    "                i, \n",
    "                f'{v:.3f}', \n",
    "                va='center',\n",
    "                ha='left' if v >= 0 else 'right')\n",
    "    plt.show()"
   ]
  },
  {
   "cell_type": "code",
   "execution_count": 106,
   "metadata": {},
   "outputs": [],
   "source": [
    "show=False\n",
    "if show:\n",
    "    target='PSEUDO_SOMATIC_DEPRESSION'\n",
    "    corr_list = []\n",
    "    all_corr=None\n",
    "    category_corr=None\n",
    "\n",
    "    for category, corr_df in results_corr.items():\n",
    "        category_corr = corr_df[target]\n",
    "        category_corr.index = [f\"{idx} ({category})\" for idx in category_corr.index]\n",
    "        corr_list.append(category_corr)\n",
    "    all_corr = pd.concat(corr_list)\n",
    "    all_corr = all_corr.reindex(all_corr.abs().sort_values().index)\n",
    "\n",
    "    plt.figure(figsize=(12, 12))\n",
    "    colors = plt.cm.RdBu(np.linspace(0.1, 0.9, len(all_corr)))\n",
    "    bars = plt.barh(range(len(all_corr)), all_corr, color=colors)\n",
    "\n",
    "    plt.yticks(range(len(all_corr)), all_corr.index)\n",
    "    plt.xlabel('Korelacja')\n",
    "    plt.title(f'Korelacje pomiędzy zmiennymi a {target}')\n",
    "    plt.axvline(x=0, color='black', linestyle='-', linewidth=0.5)\n",
    "\n",
    "    for i, v in enumerate(all_corr):\n",
    "        plt.text(v + (0.01 if v >= 0 else -0.01), \n",
    "                i, \n",
    "                f'{v:.3f}', \n",
    "                va='center',\n",
    "                ha='left' if v >= 0 else 'right')\n",
    "    plt.show()"
   ]
  },
  {
   "cell_type": "markdown",
   "metadata": {},
   "source": [
    "Na podstawie analizy korelacyjnej możemy zauważyć że największe znaczenie na wskaźnik depresji ma... stwierdzenie wystąpienia depresji (niespodzianka!), oraz jej leczenie. Poza tymi znaczenie mają kolejno: zdrowie, używki, płeć (!) a w mniejszym stopniu konflikty z prawem czy edukacja."
   ]
  },
  {
   "cell_type": "markdown",
   "metadata": {},
   "source": [
    "#### Analiza Predictive Power Score"
   ]
  },
  {
   "cell_type": "code",
   "execution_count": 107,
   "metadata": {},
   "outputs": [
    {
     "name": "stdout",
     "output_type": "stream",
     "text": [
      "\n",
      "DEPRESSION_V PPS:\n",
      "           DEPRESSION_BOOLEAN DEPRESSIONINDEX PSEUDO_SOMATIC_DEPRESSION\n",
      "DEPEPISODE                1.0        0.769469                         0\n",
      "MDELASTYR            0.281061        0.203261                         0\n",
      "ANYTXRXMDE                  0               0                         0\n",
      "\n",
      "AGE_V PPS:\n",
      "       DEPRESSION_BOOLEAN DEPRESSIONINDEX PSEUDO_SOMATIC_DEPRESSION\n",
      "CATAG3                  0               0                         0\n",
      "CATAG2                  0               0                         0\n",
      "CATAG7                  0               0                         0\n",
      "\n",
      "SEX_V PPS:\n",
      "      DEPRESSION_BOOLEAN DEPRESSIONINDEX PSEUDO_SOMATIC_DEPRESSION\n",
      "IRSEX                  0               0                         0\n",
      "\n",
      "RACIAL_V PPS:\n",
      "         DEPRESSION_BOOLEAN DEPRESSIONINDEX PSEUDO_SOMATIC_DEPRESSION\n",
      "NEWRACE2                  0               0                         0\n",
      "\n",
      "DRUG_V PPS:\n",
      "               DEPRESSION_BOOLEAN DEPRESSIONINDEX PSEUDO_SOMATIC_DEPRESSION\n",
      "COCCRKLY                        0               0                         0\n",
      "MJCOKELY                        0               0                         0\n",
      "ANYGT12MO                       0               0                         0\n",
      "MJANDCOKE                       0               0                         0\n",
      "COKECRACK                       0               0                         0\n",
      "MARJLTYR                        0               0                         0\n",
      "MJGT12MO                        0               0                         0\n",
      "COCGT12MO                       0               0                         0\n",
      "ILLICITDRUGUSE                  0               0                         0\n",
      "ANYINDEX                        0               0                         0\n",
      "OTHERILLICIT                    0               0                         0\n",
      "ALCFMFPB                        0               0                         0\n",
      "LSYRILLICIT                     0               0                         0\n",
      "\n",
      "EDU_V PPS:\n",
      "          DEPRESSION_BOOLEAN DEPRESSIONINDEX PSEUDO_SOMATIC_DEPRESSION\n",
      "EDU_DUMMY                  0               0                         0\n",
      "IREDUC2                    0               0                         0\n",
      "\n",
      "ECONOMIC_V PPS:\n",
      "          DEPRESSION_BOOLEAN DEPRESSIONINDEX PSEUDO_SOMATIC_DEPRESSION\n",
      "INCOME                     0               0                         0\n",
      "INCOME_R                   0               0                         0\n",
      "IRPRVHLT                   0               0                         0\n",
      "WORKFORCE                  0               0                         0\n",
      "POVERTY                    0               0                         0\n",
      "EMPSTAT4                   0               0                         0\n",
      "\n",
      "ACCOMODATION_V PPS:\n",
      "           DEPRESSION_BOOLEAN DEPRESSIONINDEX PSEUDO_SOMATIC_DEPRESSION\n",
      "CATYPE                      0               0                         0\n",
      "REVERSEPOP                  0               0                         0\n",
      "CACHAR                      0               0                         0\n",
      "MOVESPY2                    0               0                         0\n",
      "\n",
      "LAW_V PPS:\n",
      "          DEPRESSION_BOOLEAN DEPRESSIONINDEX PSEUDO_SOMATIC_DEPRESSION\n",
      "CRIMEHIST                  0               0                         0\n",
      "ANYTHEFT                   0               0                         0\n",
      "NUMARREST                  0               0                         0\n",
      "ANYSDRUG                   0               0                         0\n",
      "ANYATTACK                  0               0                         0\n",
      "\n",
      "HEALTH_V PPS:\n",
      "         DEPRESSION_BOOLEAN DEPRESSIONINDEX PSEUDO_SOMATIC_DEPRESSION\n",
      "DSTCHEER                  0               0                         0\n",
      "ADWRSMOR                  0               0                         0\n",
      "ADWRSTHK                  0               0                         0\n",
      "ADWRELES                  0               0                         0\n",
      "HEALTH2                   0               0                         0\n",
      "YOWRSATP                  0               0                         0\n",
      "\n",
      "FAMILY_V PPS:\n",
      "               DEPRESSION_BOOLEAN DEPRESSIONINDEX PSEUDO_SOMATIC_DEPRESSION\n",
      "RKIDSHH                         0               0                         0\n",
      "CHILDRENINHOME                  0               0                         0\n",
      "MARRIED                         0               0                         0\n",
      "IRMARIT                         0               0                         0\n"
     ]
    }
   ],
   "source": [
    "results_pps = {}\n",
    "for category_name, category_vars in categories.items():\n",
    "    valid_vars = [var for var in category_vars if var in main_df.columns]\n",
    "    if not valid_vars:\n",
    "        continue\n",
    "    category_df = main_df[valid_vars + target_vars]\n",
    "    pps_matrix = pd.DataFrame(index=valid_vars, columns=target_vars)\n",
    "    for x in valid_vars:\n",
    "        for y in target_vars:\n",
    "            score = pps.score(category_df, x, y)\n",
    "            pps_matrix.loc[x, y] = pps.score(category_df, x, y)['ppscore']\n",
    "    results_pps[category_name] = pps_matrix.sort_values(by=target_vars, ascending=False)\n",
    "\n",
    "for category, scores in results_pps.items():\n",
    "    print(f\"\\n{category.upper()} PPS:\")\n",
    "    print(scores)"
   ]
  },
  {
   "cell_type": "code",
   "execution_count": 108,
   "metadata": {},
   "outputs": [
    {
     "data": {
      "image/png": "[encoded data removed]",
      "text/plain": [
       "<Figure size 1200x1200 with 1 Axes>"
      ]
     },
     "metadata": {},
     "output_type": "display_data"
    }
   ],
   "source": [
    "target='DEPRESSION_BOOLEAN'\n",
    "pps_list = []\n",
    "all_pps=None\n",
    "category_pps=None\n",
    "\n",
    "for category, pps_matrix in results_pps.items():\n",
    "    category_pps = pps_matrix[target]\n",
    "    category_pps.index = [f\"{idx} ({category})\" for idx in category_pps.index]\n",
    "    pps_list.append(category_pps)\n",
    "all_pps = pd.concat(pps_list)\n",
    "all_pps = all_pps.reindex(all_pps.abs().sort_values().index)\n",
    "\n",
    "plt.figure(figsize=(12, 12))\n",
    "colors = plt.cm.RdBu(np.linspace(0.1, 0.9, len(all_pps)))\n",
    "bars = plt.barh(range(len(all_pps)), all_pps, color=colors)\n",
    "\n",
    "plt.yticks(range(len(all_pps)), all_pps.index)\n",
    "plt.xlabel('PPS')\n",
    "plt.title(f'PPS pomiędzy zmiennymi a {target}')\n",
    "plt.axvline(x=0, color='black', linestyle='-', linewidth=0.5)\n",
    "\n",
    "for i, v in enumerate(all_pps):\n",
    "    plt.text(v + (0.01 if v >= 0 else -0.01), \n",
    "             i, \n",
    "             f'{v:.3f}', \n",
    "             va='center',\n",
    "             ha='left' if v >= 0 else 'right')\n",
    "plt.show()"
   ]
  },
  {
   "cell_type": "markdown",
   "metadata": {},
   "source": [
    "Według PPS jedyne znaczenie mają zmienne okreslające wystąpienie depresji."
   ]
  },
  {
   "cell_type": "markdown",
   "metadata": {},
   "source": [
    "#### Analiza Chi2"
   ]
  },
  {
   "cell_type": "code",
   "execution_count": 109,
   "metadata": {},
   "outputs": [
    {
     "name": "stdout",
     "output_type": "stream",
     "text": [
      "\n",
      "DEPRESSION_V CHI2:\n",
      "           DEPRESSION_BOOLEAN DEPRESSIONINDEX PSEUDO_SOMATIC_DEPRESSION\n",
      "DEPEPISODE        34763.42775         34771.0                881.254194\n",
      "MDELASTYR        19713.177643    20533.549021                191.331633\n",
      "ANYTXRXMDE       12650.699527     13377.26295                249.370663\n",
      "\n",
      "AGE_V CHI2:\n",
      "       DEPRESSION_BOOLEAN DEPRESSIONINDEX PSEUDO_SOMATIC_DEPRESSION\n",
      "CATAG7         272.748853      410.057391                187.917194\n",
      "CATAG3         131.677709      241.456561                182.580378\n",
      "CATAG2          58.217072      141.718309                175.445787\n",
      "\n",
      "SEX_V CHI2:\n",
      "      DEPRESSION_BOOLEAN DEPRESSIONINDEX PSEUDO_SOMATIC_DEPRESSION\n",
      "IRSEX         713.319982       770.47015                 36.905135\n",
      "\n",
      "RACIAL_V CHI2:\n",
      "         DEPRESSION_BOOLEAN DEPRESSIONINDEX PSEUDO_SOMATIC_DEPRESSION\n",
      "NEWRACE2          56.453993      133.604157                 12.178028\n",
      "\n",
      "DRUG_V CHI2:\n",
      "               DEPRESSION_BOOLEAN DEPRESSIONINDEX PSEUDO_SOMATIC_DEPRESSION\n",
      "OTHERILLICIT           1158.20816     1275.046711                 41.180362\n",
      "ANYGT12MO              1138.70539     1244.614557                  76.54893\n",
      "ILLICITDRUGUSE         1138.70539     1244.614557                  76.54893\n",
      "MJANDCOKE              752.209822      846.031559                  86.97275\n",
      "MJGT12MO               747.009509      841.072669                 85.240461\n",
      "LSYRILLICIT            653.986837      756.429982                 18.453847\n",
      "ANYINDEX                638.37159      977.866859                 31.801459\n",
      "COKECRACK              386.244517      456.987096                  69.11361\n",
      "COCGT12MO              386.244517      456.987096                  69.11361\n",
      "MJCOKELY               371.997322      447.351103                 13.967637\n",
      "ALCFMFPB               357.879531      433.540046                 31.104254\n",
      "MARJLTYR               347.908113      421.081647                 13.602654\n",
      "COCCRKLY               121.339135      173.448237                 11.635786\n",
      "\n",
      "EDU_V CHI2:\n",
      "          DEPRESSION_BOOLEAN DEPRESSIONINDEX PSEUDO_SOMATIC_DEPRESSION\n",
      "IREDUC2           339.055403      522.935706                164.467714\n",
      "EDU_DUMMY          46.611736      112.834344                115.315715\n",
      "\n",
      "ECONOMIC_V CHI2:\n",
      "          DEPRESSION_BOOLEAN DEPRESSIONINDEX PSEUDO_SOMATIC_DEPRESSION\n",
      "EMPSTAT4           53.270168      146.463208                115.141932\n",
      "WORKFORCE          47.279544        86.87412                 63.001014\n",
      "INCOME             31.181269       83.853124                 20.960693\n",
      "INCOME_R           28.546938      129.585175                 72.737096\n",
      "IRPRVHLT           27.837563       59.247069                  2.619246\n",
      "POVERTY            12.124709       61.247984                  1.637697\n",
      "\n",
      "ACCOMODATION_V CHI2:\n",
      "           DEPRESSION_BOOLEAN DEPRESSIONINDEX PSEUDO_SOMATIC_DEPRESSION\n",
      "MOVESPY2           115.202462      171.788676                 41.501942\n",
      "CACHAR              14.028523       72.643471                 46.616019\n",
      "CATYPE               3.901073       49.995767                 28.420406\n",
      "REVERSEPOP           3.083168       31.023615                  0.646169\n",
      "\n",
      "LAW_V CHI2:\n",
      "          DEPRESSION_BOOLEAN DEPRESSIONINDEX PSEUDO_SOMATIC_DEPRESSION\n",
      "ANYATTACK         282.097019      380.399282                  0.235481\n",
      "CRIMEHIST         133.290378      180.321799                  17.85569\n",
      "ANYTHEFT           113.88494      177.919822                    0.3357\n",
      "ANYSDRUG           92.696947      141.745826                  0.017318\n",
      "NUMARREST           43.65016       87.289681                  0.130989\n",
      "\n",
      "HEALTH_V CHI2:\n",
      "         DEPRESSION_BOOLEAN DEPRESSIONINDEX PSEUDO_SOMATIC_DEPRESSION\n",
      "ADWRELES        10584.06808     11194.31329               2591.557909\n",
      "ADWRSTHK        6827.810141     8663.892284                557.723032\n",
      "DSTCHEER        3789.859857     4557.360358                321.012985\n",
      "YOWRSATP        2692.106582     3717.275203                  1.613592\n",
      "ADWRSMOR        1541.415879     1997.450022              15020.784196\n",
      "HEALTH2           410.20334      556.407033                  5.576424\n",
      "\n",
      "FAMILY_V CHI2:\n",
      "               DEPRESSION_BOOLEAN DEPRESSIONINDEX PSEUDO_SOMATIC_DEPRESSION\n",
      "IRMARIT                198.687338      263.520017                 17.549254\n",
      "RKIDSHH                 28.621803       51.482996                 15.341034\n",
      "MARRIED                 18.253621       51.599524                  1.055858\n",
      "CHILDRENINHOME          10.399245        41.36937                 98.761571\n"
     ]
    }
   ],
   "source": [
    "results_chi = {}\n",
    "p_value={}\n",
    "\n",
    "for category_name, category_vars in categories.items():\n",
    "    valid_vars = [var for var in category_vars if var in main_df.columns]\n",
    "    if not valid_vars:\n",
    "        continue\n",
    "    category_df = main_df[valid_vars + target_vars]\n",
    "    chi2_matrix = pd.DataFrame(index=valid_vars, columns=target_vars)\n",
    "    p_value_matrix = pd.DataFrame(index=valid_vars, columns=target_vars)\n",
    "    for x in valid_vars:\n",
    "        for y in target_vars:\n",
    "            contingency = pd.crosstab(main_df[x], main_df[y])\n",
    "            chi2, p_val, _, _ = chi2_contingency(contingency)\n",
    "            chi2_matrix.loc[x, y] = chi2\n",
    "            p_value_matrix.loc[x, y] = p_val\n",
    "    results_chi[category_name] = chi2_matrix.sort_values(by=target_vars, ascending=False)\n",
    "    p_value[category_name] = p_value_matrix.sort_values(by=target_vars, ascending=False)\n",
    "\n",
    "for category, scores in results_chi.items():\n",
    "    print(f\"\\n{category.upper()} CHI2:\")\n",
    "    print(scores)"
   ]
  },
  {
   "cell_type": "code",
   "execution_count": 110,
   "metadata": {},
   "outputs": [
    {
     "name": "stdout",
     "output_type": "stream",
     "text": [
      "\n",
      "DEPRESSION_V P-Value:\n",
      "           DEPRESSION_BOOLEAN DEPRESSIONINDEX PSEUDO_SOMATIC_DEPRESSION\n",
      "MDELASTYR                 0.0             0.0                       0.0\n",
      "ANYTXRXMDE                0.0             0.0                       0.0\n",
      "DEPEPISODE                0.0             0.0                       0.0\n",
      "\n",
      "AGE_V P-Value:\n",
      "       DEPRESSION_BOOLEAN DEPRESSIONINDEX PSEUDO_SOMATIC_DEPRESSION\n",
      "CATAG2                0.0             0.0                       0.0\n",
      "CATAG3                0.0             0.0                       0.0\n",
      "CATAG7                0.0             0.0                       0.0\n",
      "\n",
      "SEX_V P-Value:\n",
      "      DEPRESSION_BOOLEAN DEPRESSIONINDEX PSEUDO_SOMATIC_DEPRESSION\n",
      "IRSEX                0.0             0.0                       0.0\n",
      "\n",
      "RACIAL_V P-Value:\n",
      "         DEPRESSION_BOOLEAN DEPRESSIONINDEX PSEUDO_SOMATIC_DEPRESSION\n",
      "NEWRACE2                0.0             0.0                  0.058113\n",
      "\n",
      "DRUG_V P-Value:\n",
      "               DEPRESSION_BOOLEAN DEPRESSIONINDEX PSEUDO_SOMATIC_DEPRESSION\n",
      "COCCRKLY                      0.0             0.0                  0.000647\n",
      "MARJLTYR                      0.0             0.0                  0.000226\n",
      "ALCFMFPB                      0.0             0.0                       0.0\n",
      "MJCOKELY                      0.0             0.0                  0.000186\n",
      "COKECRACK                     0.0             0.0                       0.0\n",
      "COCGT12MO                     0.0             0.0                       0.0\n",
      "ANYINDEX                      0.0             0.0                  0.000821\n",
      "LSYRILLICIT                   0.0             0.0                  0.000017\n",
      "MJGT12MO                      0.0             0.0                       0.0\n",
      "MJANDCOKE                     0.0             0.0                       0.0\n",
      "ANYGT12MO                     0.0             0.0                       0.0\n",
      "ILLICITDRUGUSE                0.0             0.0                       0.0\n",
      "OTHERILLICIT                  0.0             0.0                       0.0\n",
      "\n",
      "EDU_V P-Value:\n",
      "          DEPRESSION_BOOLEAN DEPRESSIONINDEX PSEUDO_SOMATIC_DEPRESSION\n",
      "EDU_DUMMY                0.0             0.0                       0.0\n",
      "IREDUC2                  0.0             0.0                       0.0\n",
      "\n",
      "ECONOMIC_V P-Value:\n",
      "          DEPRESSION_BOOLEAN DEPRESSIONINDEX PSEUDO_SOMATIC_DEPRESSION\n",
      "POVERTY             0.002329        0.000001                  0.440939\n",
      "INCOME_R            0.000074             0.0                       0.0\n",
      "INCOME              0.000001             0.0                  0.000107\n",
      "IRPRVHLT                 0.0             0.0                  0.105575\n",
      "EMPSTAT4                 0.0             0.0                       0.0\n",
      "WORKFORCE                0.0             0.0                       0.0\n",
      "\n",
      "ACCOMODATION_V P-Value:\n",
      "           DEPRESSION_BOOLEAN DEPRESSIONINDEX PSEUDO_SOMATIC_DEPRESSION\n",
      "CATYPE               0.563745         0.28163                   0.00003\n",
      "REVERSEPOP           0.214042        0.028607                  0.723913\n",
      "CACHAR               0.081025        0.456595                       0.0\n",
      "MOVESPY2                  0.0             0.0                       0.0\n",
      "\n",
      "LAW_V P-Value:\n",
      "          DEPRESSION_BOOLEAN DEPRESSIONINDEX PSEUDO_SOMATIC_DEPRESSION\n",
      "NUMARREST                0.0             0.0                  0.987875\n",
      "ANYSDRUG                 0.0             0.0                  0.895302\n",
      "ANYTHEFT                 0.0             0.0                  0.562322\n",
      "CRIMEHIST                0.0             0.0                  0.000024\n",
      "ANYATTACK                0.0             0.0                  0.627489\n",
      "\n",
      "HEALTH_V P-Value:\n",
      "         DEPRESSION_BOOLEAN DEPRESSIONINDEX PSEUDO_SOMATIC_DEPRESSION\n",
      "HEALTH2                 0.0             0.0                  0.134138\n",
      "YOWRSATP                0.0             0.0                  0.203988\n",
      "DSTCHEER                0.0             0.0                       0.0\n",
      "ADWRSTHK                0.0             0.0                       0.0\n",
      "ADWRSMOR                0.0             0.0                       0.0\n",
      "ADWRELES                0.0             0.0                       0.0\n",
      "\n",
      "FAMILY_V P-Value:\n",
      "               DEPRESSION_BOOLEAN DEPRESSIONINDEX PSEUDO_SOMATIC_DEPRESSION\n",
      "CHILDRENINHOME           0.001261        0.000004                       0.0\n",
      "MARRIED                  0.000019             0.0                  0.304162\n",
      "RKIDSHH                       0.0             0.0                   0.00009\n",
      "IRMARIT                       0.0             0.0                  0.000545\n"
     ]
    }
   ],
   "source": [
    "for category, p_vals in p_value.items():\n",
    "    print(f\"\\n{category.upper()} P-Value:\")\n",
    "    print(p_vals)"
   ]
  },
  {
   "cell_type": "code",
   "execution_count": null,
   "metadata": {},
   "outputs": [
    {
     "data": {
      "image/png": "[encoded data removed]",
      "text/plain": [
       "<Figure size 1200x1200 with 1 Axes>"
      ]
     },
     "metadata": {},
     "output_type": "display_data"
    }
   ],
   "source": [
    "target='DEPRESSION_BOOLEAN'\n",
    "pval_list = []\n",
    "all_pval=None\n",
    "category_pval=None\n",
    "\n",
    "for category, pval_matrix in p_value.items():\n",
    "    category_pval = pval_matrix[target]\n",
    "    category_pval.index = [f\"{idx} ({category})\" for idx in category_pval.index]\n",
    "    pval_list.append(category_pval)\n",
    "all_pval = pd.concat(pval_list)\n",
    "all_pval = all_pval.reindex(all_pval.abs().sort_values().index)\n",
    "\n",
    "plt.figure(figsize=(12, 12))\n",
    "colors = plt.cm.RdBu(np.linspace(0.1, 0.9, len(all_pval)))\n",
    "bars = plt.barh(range(len(all_pval)), all_pval, color=colors)\n",
    "\n",
    "plt.yticks(range(len(all_pval)), all_pval.index)\n",
    "plt.xlabel('pval')\n",
    "plt.title(f'Pval pomiędzy zmiennymi a {target}')\n",
    "plt.axvline(x=0, color='black', linestyle='-', linewidth=0.5)\n",
    "\n",
    "for i, v in enumerate(all_pval):\n",
    "    plt.text(v + (0.01 if v >= 0 else -0.01), \n",
    "             i, \n",
    "             f'{v:.3f}', \n",
    "             va='center',\n",
    "             ha='left' if v >= 0 else 'right')\n",
    "plt.show()"
   ]
  },
  {
   "cell_type": "markdown",
   "metadata": {},
   "source": [
    "Na podstawie analizy chi2 oraz pval mozemy stwierdzic ze zmienne dotyczace zamieszkania sa malo istotne."
   ]
  },
  {
   "cell_type": "markdown",
   "metadata": {},
   "source": []
  }
 ],
 "metadata": {
  "kernelspec": {
   "display_name": ".venv",
   "language": "python",
   "name": "python3"
  },
  "language_info": {
   "codemirror_mode": {
    "name": "ipython",
    "version": 3
   },
   "file_extension": ".py",
   "mimetype": "text/x-python",
   "name": "python",
   "nbconvert_exporter": "python",
   "pygments_lexer": "ipython3",
   "version": "3.12.7"
  }
 },
 "nbformat": 4,
 "nbformat_minor": 2
}
