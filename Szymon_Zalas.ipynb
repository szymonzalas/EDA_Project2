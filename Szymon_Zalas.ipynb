{
 "cells": [
  {
   "cell_type": "markdown",
   "metadata": {},
   "source": [
    "# Analiza datasetu Gender, Mental Illness, and Crime in the United States, 2004 (ICPSR 27521)"
   ]
  },
  {
   "cell_type": "markdown",
   "metadata": {},
   "source": [
    "Szymon Zalas 147493\n",
    "\n",
    "Na podstawie https://put-jug.github.io/lab-ead/Lab%2010%20-%20Projekt%20blok2_2024.html"
   ]
  },
  {
   "cell_type": "code",
   "execution_count": 38,
   "metadata": {},
   "outputs": [],
   "source": [
    "import pandas as pd\n",
    "import seaborn as sns\n",
    "import matplotlib.pyplot as plt"
   ]
  },
  {
   "cell_type": "markdown",
   "metadata": {},
   "source": [
    "## 0) Omówienie Projektu"
   ]
  },
  {
   "cell_type": "markdown",
   "metadata": {},
   "source": [
    "### a) Opis próby"
   ]
  },
  {
   "cell_type": "markdown",
   "metadata": {},
   "source": [
    "Celem projetku jest znalezienie czynników odpowiedzialnych za depresję, tak żeby po ich określeniu można było dokonać oceny ryzyka depresji w danej grupie wiekowej na podstawie datasetu Gender, Mental Illness, and Crime in the United States, 2004 (ICPSR 27521). Próba obejmowała 67 760 osób, z czego plik zawiera 55 602 rekordów ze względu na resampling stosowany w procesie anonimizacji. Stratyfikacja próby jest wielopoziomowa, zaczynając od stanów, gdzie 8 jest uważanych za stany o dużej próbie i wnoszą ok. 3600 respondentów na stan. Reszta stanów obejmuje ok 900 respondentów. \n",
    "\n",
    " Próbkowanie obejmowało pięć grup wiekowych: \n",
    "- 12–17 lat,\n",
    "- 18–25 lat,\n",
    "- 26–34 lata,\n",
    "- 35–49 lat,\n",
    "- 50 lat i więcej.\n",
    "\n",
    "Projekt próby obejmował mniej więcej równą liczbę osób w grupach wiekowych:\n",
    "- 12–17 lat,\n",
    "- 18–25 lat,\n",
    "- 26 lat i starszych."
   ]
  },
  {
   "cell_type": "code",
   "execution_count": 39,
   "metadata": {},
   "outputs": [],
   "source": [
    "base_df=pd.read_csv('27521-0001-Data.tsv', sep='\\t',header=0)"
   ]
  },
  {
   "cell_type": "markdown",
   "metadata": {},
   "source": [
    "### b) Opis zmiennych"
   ]
  },
  {
   "cell_type": "code",
   "execution_count": 40,
   "metadata": {},
   "outputs": [],
   "source": [
    "extracted_variables=[]"
   ]
  },
  {
   "cell_type": "markdown",
   "metadata": {},
   "source": [
    "#### Wskaźniki depresji"
   ]
  },
  {
   "cell_type": "markdown",
   "metadata": {},
   "source": [
    "- DEPRESSIONINDEX - wskaźnik natężenia depresji w skali 0-9 dla grupy dorosłych i w wieku młodzieńczym (brak odpowiedzi = -9)\n",
    "- DEPEPISODE - doświadczenie epizodu depresji w okresie całego zycia\n",
    "- MDELASTYR - epizod depresji w ostatnim roku\n",
    "- ANYTXRXMDE - jakiklolwiek zdarzenie zawiązane z leczeniem depresji lub receptą na leki antydepresyjne w minionym roku"
   ]
  },
  {
   "cell_type": "code",
   "execution_count": 41,
   "metadata": {},
   "outputs": [],
   "source": [
    "extracted_variables.extend(['DEPRESSIONINDEX','DEPEPISODE','MDELASTYR','ANYTXRXMDE'])"
   ]
  },
  {
   "cell_type": "markdown",
   "metadata": {},
   "source": [
    "#### Wskaźniki wieku"
   ]
  },
  {
   "cell_type": "markdown",
   "metadata": {},
   "source": [
    "- CATAG2 - 3 grupy wiekowe: 12-17, 18-25, >25\n",
    "- CATAG3 - równoliczne 5 kategorii wiekowych\n",
    "- CATAG7 - równoliczne 7 kategorii wiekowych\n",
    "\n",
    "Grupa wiekowa (12-17 (youth)) ma w pewnych obszarach inne zestawy pytań niż grupy starsze (rozróżnienie jest kodowane w nazwach kolumn YOxxx lub ADxx)"
   ]
  },
  {
   "cell_type": "code",
   "execution_count": 42,
   "metadata": {},
   "outputs": [],
   "source": [
    "extracted_variables.extend(['CATAG2','CATAG3','CATAG7'])"
   ]
  },
  {
   "cell_type": "markdown",
   "metadata": {},
   "source": [
    "#### Wskaźnik płci"
   ]
  },
  {
   "cell_type": "markdown",
   "metadata": {},
   "source": [
    "- IRSEX - rozróżnia płeć biologiczną"
   ]
  },
  {
   "cell_type": "code",
   "execution_count": 43,
   "metadata": {},
   "outputs": [],
   "source": [
    "extracted_variables.extend(['IRSEX'])"
   ]
  },
  {
   "cell_type": "markdown",
   "metadata": {},
   "source": [
    "#### Wskaźnik rasy"
   ]
  },
  {
   "cell_type": "markdown",
   "metadata": {},
   "source": [
    "- NEWRACE2 (1-7)\n",
    "    1) NonHisp White\n",
    "    2) NonHisp Black/Afr\n",
    "    3) NonHisp Native Am/AK Native\n",
    "    4) NonHisp Native HI/Other Pac Isl\n",
    "    5) NonHisp Asian\n",
    "    6) NonHisp more than one race\n",
    "    7) Hispanic\n"
   ]
  },
  {
   "cell_type": "code",
   "execution_count": 44,
   "metadata": {},
   "outputs": [],
   "source": [
    "extracted_variables.extend(['NEWRACE2'])"
   ]
  },
  {
   "cell_type": "markdown",
   "metadata": {},
   "source": [
    "#### Wskaźnik uzależnienia od narkotyków i alkoholu"
   ]
  },
  {
   "cell_type": "markdown",
   "metadata": {},
   "source": [
    "- ANYINDEX - wskaźnik uzależnienia od dowolnego rodzaju narkotyków (boolean)\n",
    "- MJANDCOKE - marihuana lub kokaina (kiedykolwiek)\n",
    "- ILLICITDRUGUSE - nielegalny narkotyk (kiedykolwiek)\n",
    "- LSYRILLICIT - nielegalny narkotyk (ostatni rok)\n",
    "- COKECRACK - kokaina lub crack \n",
    "- OTHERILLICIT - inne nielegalne poza kokaina lub marihuaną (kiedykolwiek)\n",
    "- MARJLTYR - marihuana (ostatni rok)\n",
    "- MJCOKELY - marihuana, kokaina, crack (ostatni rok)\n",
    "- COCCRKLY - kokaina (ostatni rok)\n",
    "- MJGT12MO - marihuana (upłynęło więcej niż 12msc)\n",
    "- COCGT12MO - kokaina (upłynęło więcej niż 12msc)\n",
    "- ANYGT12MO - jakikolwiek narkotyck (upłynęło więcej niż 12msc)\n",
    "- ALCFMFPB - alkohol powodował problemy wśród rodziny/przyjaciół (ostatni rok)\n"
   ]
  },
  {
   "cell_type": "code",
   "execution_count": 45,
   "metadata": {},
   "outputs": [],
   "source": [
    "extracted_variables.extend(['ANYINDEX','MJANDCOKE', 'ILLICITDRUGUSE', 'LSYRILLICIT', 'COKECRACK', 'OTHERILLICIT','MARJLTYR', 'MJCOKELY', 'COCCRKLY','MJGT12MO', 'COCGT12MO', 'ANYGT12MO','ALCFMFPB'])"
   ]
  },
  {
   "cell_type": "markdown",
   "metadata": {},
   "source": [
    "#### Wskaźnik edukacji"
   ]
  },
  {
   "cell_type": "markdown",
   "metadata": {},
   "source": [
    "- IREDUC2 - wykształcenie\n",
    "- EDU_DUMMY - wykształcenie (średnie/niższe od średniego lub wyższe)"
   ]
  },
  {
   "cell_type": "code",
   "execution_count": 46,
   "metadata": {},
   "outputs": [],
   "source": [
    "extracted_variables.extend(['IREDUC2','EDU_DUMMY'])"
   ]
  },
  {
   "cell_type": "markdown",
   "metadata": {},
   "source": [
    "#### Wskaźniki ekonomiczne"
   ]
  },
  {
   "cell_type": "markdown",
   "metadata": {},
   "source": [
    "- INCOME - dochód rodziny\n",
    "- INCOME_R - dochód własny\n",
    "- POVERTY - dochód rodziny odniesiony do wskaźnika biedy\n",
    "- IRPRVHLT - prywatne ubezpieczenie zdrowotne\n",
    "- WORKFORCE - informacja czy osoba pracuje/pracowała\n",
    "- EMPSTAT4 - status zatrudnienia"
   ]
  },
  {
   "cell_type": "code",
   "execution_count": 47,
   "metadata": {},
   "outputs": [],
   "source": [
    "extracted_variables.extend(['INCOME','INCOME_R','POVERTY','IRPRVHLT','WORKFORCE','EMPSTAT4'])"
   ]
  },
  {
   "cell_type": "markdown",
   "metadata": {},
   "source": [
    "#### Wskaźniki warunków zamieszkania"
   ]
  },
  {
   "cell_type": "markdown",
   "metadata": {},
   "source": [
    "- REVERSEPOP - charakterystyka miejsca zamieszkania (gęstość zaludnienia)\n",
    "- MOVESPY2 - liczba przeprowadzek w okresie ostatnich 12 miesięcy\n",
    "- CACHAR, CATYPE - typ mieszkania"
   ]
  },
  {
   "cell_type": "code",
   "execution_count": 48,
   "metadata": {},
   "outputs": [],
   "source": [
    "extracted_variables.extend(['REVERSEPOP','MOVESPY2','CACHAR','CATYPE'])"
   ]
  },
  {
   "cell_type": "markdown",
   "metadata": {},
   "source": [
    "#### Wskaźnik konfliktów z prawem"
   ]
  },
  {
   "cell_type": "markdown",
   "metadata": {},
   "source": [
    "- CRIMEHIST - kiedykolwiek aresztowany\n",
    "- ANYSDRUG - sprzedarz narkotyków (ostatnie 12 msc)\n",
    "- ANYATTACK - atak na inną osobę (ostatnie 12 msc)\n",
    "- ANYTHEFT - kradzież przedmiotu o wartości min 50$ (ostatnie 12 msc)\n",
    "- NUMARREST - liczba aresztowań (ostatnie 12 msc)"
   ]
  },
  {
   "cell_type": "code",
   "execution_count": 49,
   "metadata": {},
   "outputs": [],
   "source": [
    "extracted_variables.extend(['CRIMEHIST','ANYSDRUG','ANYATTACK','ANYTHEFT','NUMARREST'])"
   ]
  },
  {
   "cell_type": "markdown",
   "metadata": {},
   "source": [
    "#### Stan zdrowia"
   ]
  },
  {
   "cell_type": "markdown",
   "metadata": {},
   "source": [
    "- HEALTH2 - stan zdrowia\n",
    "- SCHDSICK - liczba dni opuszczonych w szkole z uwagi choroby (dla uczniów)\n",
    "- SCHDSKIP - liczba dni opuszczony z powodu wagarów\n",
    "- TXLCAD - informacja o terapii uzależnień od narkotyków lub alkoholu\n",
    "- DSTNCALM - jak często nie mógł się uspokoić w najgorszych miesiącach\n",
    "- DSTTIRE - jak często był wycięczony w najgorszych miesiącach\n",
    "- DSTSITST - jak często nie mógł usiedzieć na miejscu w najgorszych miesiącach\n",
    "- DSTDEPRS - jak często miał poczucie depresji w najgorszych miesiącach\n",
    "- DSTCHEER - jak często nie mógł być pocieszony w najgorszych miesiącach\n",
    "- DSTNRVOS - jak często czuł stany nerwowe w najgorszych miesiącach\n",
    "- ADWRELES - mniejszy apetyt w najgorszych miesiącach\n",
    "- ADWRSMOR - problemy ze snem\n",
    "- ADWRSTHK - myśli samobójcze\n",
    "- YOWRSATP - próba samobójcza"
   ]
  },
  {
   "cell_type": "code",
   "execution_count": 50,
   "metadata": {},
   "outputs": [],
   "source": [
    "extracted_variables.extend(['HEALTH2', 'SCHDSICK', 'SCHDSKIP', 'TXLCAD', 'DSTNCALM', 'DSTTIRE', 'DSTSITST', 'DSTDEPRS', 'DSTCHEER', 'DSTNRVOS', 'ADWRELES', 'ADWRSMOR', 'ADWRSTHK', 'YOWRSATP'])"
   ]
  },
  {
   "cell_type": "markdown",
   "metadata": {},
   "source": [
    "#### Rodzina"
   ]
  },
  {
   "cell_type": "markdown",
   "metadata": {},
   "source": [
    "- IRMARIT - stan cywilny\n",
    "- NOMARR2 - liczba razy kiedy osoba wchodziła w związek małżeński\n",
    "- RKIDSHH - liczba dzieci respondent\n",
    "- MARRIED - aktualny stan cywilny\n",
    "- CHILDRENINHOME - czy ma dzieci (min 1)"
   ]
  },
  {
   "cell_type": "code",
   "execution_count": 51,
   "metadata": {},
   "outputs": [],
   "source": [
    "extracted_variables.extend(['IRMARIT','NOMARR2','RKIDSHH','MARRIED','CHILDRENINHOME'])"
   ]
  },
  {
   "cell_type": "code",
   "execution_count": 52,
   "metadata": {},
   "outputs": [
    {
     "data": {
      "text/html": [
       "<div>\n",
       "<style scoped>\n",
       "    .dataframe tbody tr th:only-of-type {\n",
       "        vertical-align: middle;\n",
       "    }\n",
       "\n",
       "    .dataframe tbody tr th {\n",
       "        vertical-align: top;\n",
       "    }\n",
       "\n",
       "    .dataframe thead th {\n",
       "        text-align: right;\n",
       "    }\n",
       "</style>\n",
       "<table border=\"1\" class=\"dataframe\">\n",
       "  <thead>\n",
       "    <tr style=\"text-align: right;\">\n",
       "      <th></th>\n",
       "      <th>DEPRESSIONINDEX</th>\n",
       "      <th>DEPEPISODE</th>\n",
       "      <th>MDELASTYR</th>\n",
       "      <th>ANYTXRXMDE</th>\n",
       "      <th>CATAG2</th>\n",
       "      <th>CATAG3</th>\n",
       "      <th>CATAG7</th>\n",
       "      <th>IRSEX</th>\n",
       "      <th>NEWRACE2</th>\n",
       "      <th>ANYINDEX</th>\n",
       "      <th>...</th>\n",
       "      <th>DSTNRVOS</th>\n",
       "      <th>ADWRELES</th>\n",
       "      <th>ADWRSMOR</th>\n",
       "      <th>ADWRSTHK</th>\n",
       "      <th>YOWRSATP</th>\n",
       "      <th>IRMARIT</th>\n",
       "      <th>NOMARR2</th>\n",
       "      <th>RKIDSHH</th>\n",
       "      <th>MARRIED</th>\n",
       "      <th>CHILDRENINHOME</th>\n",
       "    </tr>\n",
       "  </thead>\n",
       "  <tbody>\n",
       "    <tr>\n",
       "      <th>0</th>\n",
       "      <td>0</td>\n",
       "      <td>0</td>\n",
       "      <td>0</td>\n",
       "      <td>0</td>\n",
       "      <td>2</td>\n",
       "      <td>2</td>\n",
       "      <td>5</td>\n",
       "      <td>1</td>\n",
       "      <td>7</td>\n",
       "      <td>0.142857</td>\n",
       "      <td>...</td>\n",
       "      <td>4</td>\n",
       "      <td>99</td>\n",
       "      <td>99</td>\n",
       "      <td>99</td>\n",
       "      <td>99</td>\n",
       "      <td>4</td>\n",
       "      <td>99</td>\n",
       "      <td>0</td>\n",
       "      <td>0</td>\n",
       "      <td>0</td>\n",
       "    </tr>\n",
       "    <tr>\n",
       "      <th>1</th>\n",
       "      <td>0</td>\n",
       "      <td>0</td>\n",
       "      <td>0</td>\n",
       "      <td>0</td>\n",
       "      <td>2</td>\n",
       "      <td>2</td>\n",
       "      <td>4</td>\n",
       "      <td>1</td>\n",
       "      <td>1</td>\n",
       "      <td>0.142857</td>\n",
       "      <td>...</td>\n",
       "      <td>4</td>\n",
       "      <td>99</td>\n",
       "      <td>99</td>\n",
       "      <td>99</td>\n",
       "      <td>99</td>\n",
       "      <td>4</td>\n",
       "      <td>99</td>\n",
       "      <td>0</td>\n",
       "      <td>0</td>\n",
       "      <td>0</td>\n",
       "    </tr>\n",
       "    <tr>\n",
       "      <th>2</th>\n",
       "      <td>0</td>\n",
       "      <td>0</td>\n",
       "      <td>0</td>\n",
       "      <td>0</td>\n",
       "      <td>3</td>\n",
       "      <td>5</td>\n",
       "      <td>7</td>\n",
       "      <td>1</td>\n",
       "      <td>1</td>\n",
       "      <td>0.142857</td>\n",
       "      <td>...</td>\n",
       "      <td>5</td>\n",
       "      <td>99</td>\n",
       "      <td>99</td>\n",
       "      <td>99</td>\n",
       "      <td>99</td>\n",
       "      <td>1</td>\n",
       "      <td>1</td>\n",
       "      <td>0</td>\n",
       "      <td>1</td>\n",
       "      <td>0</td>\n",
       "    </tr>\n",
       "    <tr>\n",
       "      <th>3</th>\n",
       "      <td>0</td>\n",
       "      <td>0</td>\n",
       "      <td>0</td>\n",
       "      <td>0</td>\n",
       "      <td>2</td>\n",
       "      <td>2</td>\n",
       "      <td>5</td>\n",
       "      <td>1</td>\n",
       "      <td>1</td>\n",
       "      <td>0.500000</td>\n",
       "      <td>...</td>\n",
       "      <td>4</td>\n",
       "      <td>99</td>\n",
       "      <td>99</td>\n",
       "      <td>99</td>\n",
       "      <td>99</td>\n",
       "      <td>4</td>\n",
       "      <td>99</td>\n",
       "      <td>0</td>\n",
       "      <td>0</td>\n",
       "      <td>0</td>\n",
       "    </tr>\n",
       "    <tr>\n",
       "      <th>4</th>\n",
       "      <td>0</td>\n",
       "      <td>0</td>\n",
       "      <td>0</td>\n",
       "      <td>0</td>\n",
       "      <td>3</td>\n",
       "      <td>4</td>\n",
       "      <td>7</td>\n",
       "      <td>2</td>\n",
       "      <td>1</td>\n",
       "      <td>0.142857</td>\n",
       "      <td>...</td>\n",
       "      <td>3</td>\n",
       "      <td>99</td>\n",
       "      <td>99</td>\n",
       "      <td>99</td>\n",
       "      <td>99</td>\n",
       "      <td>1</td>\n",
       "      <td>1</td>\n",
       "      <td>1</td>\n",
       "      <td>1</td>\n",
       "      <td>1</td>\n",
       "    </tr>\n",
       "    <tr>\n",
       "      <th>...</th>\n",
       "      <td>...</td>\n",
       "      <td>...</td>\n",
       "      <td>...</td>\n",
       "      <td>...</td>\n",
       "      <td>...</td>\n",
       "      <td>...</td>\n",
       "      <td>...</td>\n",
       "      <td>...</td>\n",
       "      <td>...</td>\n",
       "      <td>...</td>\n",
       "      <td>...</td>\n",
       "      <td>...</td>\n",
       "      <td>...</td>\n",
       "      <td>...</td>\n",
       "      <td>...</td>\n",
       "      <td>...</td>\n",
       "      <td>...</td>\n",
       "      <td>...</td>\n",
       "      <td>...</td>\n",
       "      <td>...</td>\n",
       "      <td>...</td>\n",
       "    </tr>\n",
       "    <tr>\n",
       "      <th>55597</th>\n",
       "      <td>-9</td>\n",
       "      <td>-1</td>\n",
       "      <td>-1</td>\n",
       "      <td>-9</td>\n",
       "      <td>2</td>\n",
       "      <td>2</td>\n",
       "      <td>5</td>\n",
       "      <td>1</td>\n",
       "      <td>1</td>\n",
       "      <td>0.142857</td>\n",
       "      <td>...</td>\n",
       "      <td>5</td>\n",
       "      <td>99</td>\n",
       "      <td>99</td>\n",
       "      <td>99</td>\n",
       "      <td>99</td>\n",
       "      <td>4</td>\n",
       "      <td>99</td>\n",
       "      <td>0</td>\n",
       "      <td>0</td>\n",
       "      <td>0</td>\n",
       "    </tr>\n",
       "    <tr>\n",
       "      <th>55598</th>\n",
       "      <td>0</td>\n",
       "      <td>0</td>\n",
       "      <td>0</td>\n",
       "      <td>0</td>\n",
       "      <td>2</td>\n",
       "      <td>2</td>\n",
       "      <td>5</td>\n",
       "      <td>1</td>\n",
       "      <td>1</td>\n",
       "      <td>0.142857</td>\n",
       "      <td>...</td>\n",
       "      <td>4</td>\n",
       "      <td>99</td>\n",
       "      <td>99</td>\n",
       "      <td>99</td>\n",
       "      <td>99</td>\n",
       "      <td>1</td>\n",
       "      <td>1</td>\n",
       "      <td>1</td>\n",
       "      <td>1</td>\n",
       "      <td>1</td>\n",
       "    </tr>\n",
       "    <tr>\n",
       "      <th>55599</th>\n",
       "      <td>-9</td>\n",
       "      <td>-1</td>\n",
       "      <td>-1</td>\n",
       "      <td>-9</td>\n",
       "      <td>2</td>\n",
       "      <td>2</td>\n",
       "      <td>5</td>\n",
       "      <td>2</td>\n",
       "      <td>1</td>\n",
       "      <td>0.142857</td>\n",
       "      <td>...</td>\n",
       "      <td>5</td>\n",
       "      <td>99</td>\n",
       "      <td>99</td>\n",
       "      <td>99</td>\n",
       "      <td>99</td>\n",
       "      <td>1</td>\n",
       "      <td>1</td>\n",
       "      <td>1</td>\n",
       "      <td>1</td>\n",
       "      <td>1</td>\n",
       "    </tr>\n",
       "    <tr>\n",
       "      <th>55600</th>\n",
       "      <td>0</td>\n",
       "      <td>0</td>\n",
       "      <td>0</td>\n",
       "      <td>0</td>\n",
       "      <td>3</td>\n",
       "      <td>3</td>\n",
       "      <td>6</td>\n",
       "      <td>1</td>\n",
       "      <td>1</td>\n",
       "      <td>0.142857</td>\n",
       "      <td>...</td>\n",
       "      <td>3</td>\n",
       "      <td>99</td>\n",
       "      <td>99</td>\n",
       "      <td>99</td>\n",
       "      <td>99</td>\n",
       "      <td>1</td>\n",
       "      <td>1</td>\n",
       "      <td>0</td>\n",
       "      <td>1</td>\n",
       "      <td>0</td>\n",
       "    </tr>\n",
       "    <tr>\n",
       "      <th>55601</th>\n",
       "      <td>-9</td>\n",
       "      <td>-1</td>\n",
       "      <td>-1</td>\n",
       "      <td>-9</td>\n",
       "      <td>3</td>\n",
       "      <td>4</td>\n",
       "      <td>7</td>\n",
       "      <td>1</td>\n",
       "      <td>1</td>\n",
       "      <td>0.142857</td>\n",
       "      <td>...</td>\n",
       "      <td>5</td>\n",
       "      <td>99</td>\n",
       "      <td>99</td>\n",
       "      <td>99</td>\n",
       "      <td>99</td>\n",
       "      <td>1</td>\n",
       "      <td>1</td>\n",
       "      <td>1</td>\n",
       "      <td>1</td>\n",
       "      <td>1</td>\n",
       "    </tr>\n",
       "  </tbody>\n",
       "</table>\n",
       "<p>55602 rows × 58 columns</p>\n",
       "</div>"
      ],
      "text/plain": [
       "       DEPRESSIONINDEX  DEPEPISODE  MDELASTYR  ANYTXRXMDE  CATAG2  CATAG3  \\\n",
       "0                    0           0          0           0       2       2   \n",
       "1                    0           0          0           0       2       2   \n",
       "2                    0           0          0           0       3       5   \n",
       "3                    0           0          0           0       2       2   \n",
       "4                    0           0          0           0       3       4   \n",
       "...                ...         ...        ...         ...     ...     ...   \n",
       "55597               -9          -1         -1          -9       2       2   \n",
       "55598                0           0          0           0       2       2   \n",
       "55599               -9          -1         -1          -9       2       2   \n",
       "55600                0           0          0           0       3       3   \n",
       "55601               -9          -1         -1          -9       3       4   \n",
       "\n",
       "       CATAG7  IRSEX  NEWRACE2  ANYINDEX  ...  DSTNRVOS  ADWRELES  ADWRSMOR  \\\n",
       "0           5      1         7  0.142857  ...         4        99        99   \n",
       "1           4      1         1  0.142857  ...         4        99        99   \n",
       "2           7      1         1  0.142857  ...         5        99        99   \n",
       "3           5      1         1  0.500000  ...         4        99        99   \n",
       "4           7      2         1  0.142857  ...         3        99        99   \n",
       "...       ...    ...       ...       ...  ...       ...       ...       ...   \n",
       "55597       5      1         1  0.142857  ...         5        99        99   \n",
       "55598       5      1         1  0.142857  ...         4        99        99   \n",
       "55599       5      2         1  0.142857  ...         5        99        99   \n",
       "55600       6      1         1  0.142857  ...         3        99        99   \n",
       "55601       7      1         1  0.142857  ...         5        99        99   \n",
       "\n",
       "       ADWRSTHK  YOWRSATP  IRMARIT  NOMARR2  RKIDSHH  MARRIED  CHILDRENINHOME  \n",
       "0            99        99        4       99        0        0               0  \n",
       "1            99        99        4       99        0        0               0  \n",
       "2            99        99        1        1        0        1               0  \n",
       "3            99        99        4       99        0        0               0  \n",
       "4            99        99        1        1        1        1               1  \n",
       "...         ...       ...      ...      ...      ...      ...             ...  \n",
       "55597        99        99        4       99        0        0               0  \n",
       "55598        99        99        1        1        1        1               1  \n",
       "55599        99        99        1        1        1        1               1  \n",
       "55600        99        99        1        1        0        1               0  \n",
       "55601        99        99        1        1        1        1               1  \n",
       "\n",
       "[55602 rows x 58 columns]"
      ]
     },
     "execution_count": 52,
     "metadata": {},
     "output_type": "execute_result"
    }
   ],
   "source": [
    "main_df=base_df[extracted_variables] # extract the variables of interest\n",
    "main_df"
   ]
  },
  {
   "cell_type": "markdown",
   "metadata": {},
   "source": [
    "## 1) FAZA 1 - Czyszczenie danych i analiza czynnikowa "
   ]
  },
  {
   "cell_type": "markdown",
   "metadata": {},
   "source": [
    "### a) Czyszczenie danych"
   ]
  },
  {
   "cell_type": "code",
   "execution_count": 53,
   "metadata": {},
   "outputs": [
    {
     "data": {
      "text/plain": [
       "np.int64(0)"
      ]
     },
     "execution_count": 53,
     "metadata": {},
     "output_type": "execute_result"
    }
   ],
   "source": [
    "main_df.isna().sum().max()"
   ]
  },
  {
   "cell_type": "markdown",
   "metadata": {},
   "source": [
    "Dane zawarte w datasecie zostały już częściowo oczyszczone a w dokumencie opisującym, możemy znaleść dokładne oznaczenia powodów brakujących danych. Typowo, brakujące dane są oznaczane albo wartością ujemną albo bardzo wysoką (powyżej 90), przy czym wartość 99 oznacza uzasadnione pominięcie pytania."
   ]
  },
  {
   "cell_type": "code",
   "execution_count": 54,
   "metadata": {},
   "outputs": [
    {
     "name": "stdout",
     "output_type": "stream",
     "text": [
      "DEPRESSIONINDEX    18630\n",
      "DEPEPISODE         19019\n",
      "MDELASTYR          19070\n",
      "ANYTXRXMDE         18963\n",
      "ANYINDEX              35\n",
      "COKECRACK           1705\n",
      "MJGT12MO            1930\n",
      "COCGT12MO            781\n",
      "ANYGT12MO           2410\n",
      "ALCFMFPB           28140\n",
      "WORKFORCE             21\n",
      "CACHAR                 7\n",
      "CATYPE               121\n",
      "CRIMEHIST            159\n",
      "ANYSDRUG             167\n",
      "ANYATTACK            116\n",
      "ANYTHEFT             123\n",
      "NUMARREST            853\n",
      "HEALTH2               12\n",
      "SCHDSICK            3447\n",
      "SCHDSKIP              72\n",
      "TXLCAD             54622\n",
      "DSTNCALM             221\n",
      "DSTTIRE              163\n",
      "DSTSITST             174\n",
      "DSTDEPRS             143\n",
      "DSTCHEER             283\n",
      "DSTNRVOS             350\n",
      "ADWRELES             147\n",
      "ADWRSMOR             135\n",
      "ADWRSTHK             136\n",
      "YOWRSATP             227\n",
      "NOMARR2               13\n",
      "RKIDSHH               45\n",
      "dtype: int64\n"
     ]
    }
   ],
   "source": [
    "invalid_counts = main_df[(main_df < 0) | ((main_df > 80) & (main_df < 99))].count()[lambda x: x > 0]\n",
    "print(invalid_counts)"
   ]
  },
  {
   "cell_type": "code",
   "execution_count": 55,
   "metadata": {},
   "outputs": [
    {
     "name": "stdout",
     "output_type": "stream",
     "text": [
      "Aktualna liczba danych: 55602\n",
      "Najwyższa liczba nieprawidłowych wartości: 54622 dla zmiennej TXLCAD\n",
      "Najniższa liczba nieprawidłowych wartości: 7 dla zmiennej CACHAR\n"
     ]
    }
   ],
   "source": [
    "len_0=main_df.shape[0]\n",
    "print(f'Aktualna liczba danych: {len_0}')\n",
    "print(f'Najwyższa liczba nieprawidłowych wartości: {invalid_counts.max()} dla zmiennej {invalid_counts.idxmax()}')\n",
    "print(f'Najniższa liczba nieprawidłowych wartości: {invalid_counts.min()} dla zmiennej {invalid_counts.idxmin()}')"
   ]
  },
  {
   "cell_type": "markdown",
   "metadata": {},
   "source": [
    "Początkowo pozbędziemy się wierszy w których wszystkie informacje dotyczące wystąpienia depresji są mniejsze od 0 - nie jesteśmy w stanie przewidzieć jaka jest tam prawdziwa odpowiedź"
   ]
  },
  {
   "cell_type": "code",
   "execution_count": 56,
   "metadata": {},
   "outputs": [],
   "source": [
    "columns_to_check = ['DEPRESSIONINDEX', 'DEPEPISODE', 'MDELASTYR', 'ANYTXRXMDE']\n",
    "mask = (main_df[columns_to_check] >= 0).all(axis=1)\n",
    "main_df = main_df[mask]"
   ]
  },
  {
   "cell_type": "code",
   "execution_count": 57,
   "metadata": {},
   "outputs": [
    {
     "name": "stdout",
     "output_type": "stream",
     "text": [
      "Aktualna liczba danych: 36505\n",
      "Najwyższa liczba nieprawidłowych wartości: 35899 dla zmiennej TXLCAD\n",
      "Najniższa liczba nieprawidłowych wartości: 4 dla zmiennej WORKFORCE\n"
     ]
    }
   ],
   "source": [
    "len_1=main_df.shape[0]\n",
    "print(f'Aktualna liczba danych: {len_1}')\n",
    "invalid_counts = main_df[(main_df < 0) | ((main_df > 80) & (main_df < 99))].count()[lambda x: x > 0]\n",
    "print(f'Najwyższa liczba nieprawidłowych wartości: {invalid_counts.max()} dla zmiennej {invalid_counts.idxmax()}')\n",
    "print(f'Najniższa liczba nieprawidłowych wartości: {invalid_counts.min()} dla zmiennej {invalid_counts.idxmin()}')"
   ]
  },
  {
   "cell_type": "markdown",
   "metadata": {},
   "source": [
    "Sprawdźmy rezultat"
   ]
  },
  {
   "cell_type": "code",
   "execution_count": 58,
   "metadata": {},
   "outputs": [
    {
     "name": "stdout",
     "output_type": "stream",
     "text": [
      "col_0  DEPRESSIONINDEX  DEPEPISODE  MDELASTYR  ANYTXRXMDE\n",
      "0                30076     30773.0    32999.0     34108.0\n",
      "1                  112      5732.0     3506.0      2397.0\n",
      "2                   71         NaN        NaN         NaN\n",
      "3                  170         NaN        NaN         NaN\n",
      "4                  344         NaN        NaN         NaN\n",
      "5                  599         NaN        NaN         NaN\n",
      "6                  954         NaN        NaN         NaN\n",
      "7                 1313         NaN        NaN         NaN\n",
      "8                 1543         NaN        NaN         NaN\n",
      "9                 1323         NaN        NaN         NaN\n",
      "Total            36505     36505.0    36505.0     36505.0\n"
     ]
    }
   ],
   "source": [
    "pivot_dfs = []\n",
    "\n",
    "for col in columns_to_check:\n",
    "    df_temp = pd.crosstab(index=main_df[col][main_df[col] >= 0], columns=col)\n",
    "    df_temp.loc['Total'] = df_temp.sum()\n",
    "    pivot_dfs.append(df_temp)\n",
    "\n",
    "result = pd.concat(pivot_dfs, axis=1)\n",
    "print(result)"
   ]
  },
  {
   "cell_type": "markdown",
   "metadata": {},
   "source": [
    "Poszukajmy kolumn w których ponad 90% wartości jest nieprawidłowa..."
   ]
  },
  {
   "cell_type": "code",
   "execution_count": 60,
   "metadata": {},
   "outputs": [
    {
     "name": "stdout",
     "output_type": "stream",
     "text": [
      "TXLCAD    35899\n",
      "dtype: int64\n"
     ]
    }
   ],
   "source": [
    "th_len=int(len_1*0.9)\n",
    "invalid_counts = main_df[(main_df < 0) | ((main_df > 80) & (main_df < 99))].count()[lambda x: x > th_len]\n",
    "print(invalid_counts)"
   ]
  },
  {
   "cell_type": "markdown",
   "metadata": {},
   "source": [
    "... a następnie je wyrzućmy."
   ]
  },
  {
   "cell_type": "code",
   "execution_count": null,
   "metadata": {},
   "outputs": [],
   "source": [
    "main_df = main_df.drop(columns=invalid_counts.index)"
   ]
  },
  {
   "cell_type": "code",
   "execution_count": 63,
   "metadata": {},
   "outputs": [
    {
     "name": "stdout",
     "output_type": "stream",
     "text": [
      "Aktualna liczba danych: 36505\n",
      "Najwyższa liczba nieprawidłowych wartości: 21012 dla zmiennej ALCFMFPB\n",
      "Najniższa liczba nieprawidłowych wartości: 4 dla zmiennej WORKFORCE\n"
     ]
    }
   ],
   "source": [
    "len_2=main_df.shape[0]\n",
    "print(f'Aktualna liczba danych: {len_2}')\n",
    "invalid_counts = main_df[(main_df < 0) | ((main_df > 80) & (main_df < 99))].count()[lambda x: x > 0]\n",
    "print(f'Najwyższa liczba nieprawidłowych wartości: {invalid_counts.max()} dla zmiennej {invalid_counts.idxmax()}')\n",
    "print(f'Najniższa liczba nieprawidłowych wartości: {invalid_counts.min()} dla zmiennej {invalid_counts.idxmin()}')"
   ]
  },
  {
   "cell_type": "code",
   "execution_count": 64,
   "metadata": {},
   "outputs": [
    {
     "name": "stdout",
     "output_type": "stream",
     "text": [
      "ANYINDEX        24\n",
      "COKECRACK      924\n",
      "MJGT12MO      1606\n",
      "COCGT12MO      515\n",
      "ANYGT12MO     2010\n",
      "ALCFMFPB     21012\n",
      "WORKFORCE        4\n",
      "CACHAR           7\n",
      "CATYPE          79\n",
      "CRIMEHIST       74\n",
      "ANYSDRUG        76\n",
      "ANYATTACK       39\n",
      "ANYTHEFT        49\n",
      "NUMARREST      588\n",
      "HEALTH2         10\n",
      "SCHDSICK      2973\n",
      "SCHDSKIP        42\n",
      "DSTCHEER        66\n",
      "DSTNRVOS        96\n",
      "ADWRELES        16\n",
      "ADWRSMOR         4\n",
      "ADWRSTHK         8\n",
      "YOWRSATP        31\n",
      "NOMARR2         10\n",
      "RKIDSHH         15\n",
      "dtype: int64\n"
     ]
    }
   ],
   "source": [
    "print(invalid_counts)"
   ]
  },
  {
   "cell_type": "markdown",
   "metadata": {},
   "source": [
    "Brakujące wartości w ALCMFPB odnoszą się do problemów związanych z piciem alkoholu, i na podstawie [icpsr](https://www.icpsr.umich.edu/web/NACJD/studies/27521/datasets/0001/variables/ALCFMFPB?archive=nacjd) możemy założyć że:\n",
    "- wartości 83, 91, 93 raczej odnoszą się do braku problemów\n",
    "- wartości 94, 97, 98 mogą być próbą uniknięcia udzielenie odpowiedzi ze wstydu, zostaną uznane jako wystąpienie problemów"
   ]
  },
  {
   "cell_type": "code",
   "execution_count": 65,
   "metadata": {},
   "outputs": [],
   "source": [
    "value_map = {\n",
    "    93: 0,\n",
    "    91: 0,\n",
    "    83: 0,\n",
    "    94: 1,\n",
    "    97: 1,\n",
    "    98: 1\n",
    "}\n",
    "main_df['ALCFMFPB'] = main_df['ALCFMFPB'].replace(value_map)"
   ]
  },
  {
   "cell_type": "code",
   "execution_count": 66,
   "metadata": {},
   "outputs": [
    {
     "name": "stdout",
     "output_type": "stream",
     "text": [
      "Aktualna liczba danych: 36505\n",
      "Najwyższa liczba nieprawidłowych wartości: 2973 dla zmiennej SCHDSICK\n",
      "Najniższa liczba nieprawidłowych wartości: 4 dla zmiennej WORKFORCE\n"
     ]
    }
   ],
   "source": [
    "len_3=main_df.shape[0]\n",
    "print(f'Aktualna liczba danych: {len_3}')\n",
    "invalid_counts = main_df[(main_df < 0) | ((main_df > 80) & (main_df < 99))].count()[lambda x: x > 0]\n",
    "print(f'Najwyższa liczba nieprawidłowych wartości: {invalid_counts.max()} dla zmiennej {invalid_counts.idxmax()}')\n",
    "print(f'Najniższa liczba nieprawidłowych wartości: {invalid_counts.min()} dla zmiennej {invalid_counts.idxmin()}')"
   ]
  },
  {
   "cell_type": "code",
   "execution_count": 67,
   "metadata": {},
   "outputs": [
    {
     "name": "stdout",
     "output_type": "stream",
     "text": [
      "ANYINDEX       24\n",
      "COKECRACK     924\n",
      "MJGT12MO     1606\n",
      "COCGT12MO     515\n",
      "ANYGT12MO    2010\n",
      "WORKFORCE       4\n",
      "CACHAR          7\n",
      "CATYPE         79\n",
      "CRIMEHIST      74\n",
      "ANYSDRUG       76\n",
      "ANYATTACK      39\n",
      "ANYTHEFT       49\n",
      "NUMARREST     588\n",
      "HEALTH2        10\n",
      "SCHDSICK     2973\n",
      "SCHDSKIP       42\n",
      "DSTCHEER       66\n",
      "DSTNRVOS       96\n",
      "ADWRELES       16\n",
      "ADWRSMOR        4\n",
      "ADWRSTHK        8\n",
      "YOWRSATP       31\n",
      "NOMARR2        10\n",
      "RKIDSHH        15\n",
      "dtype: int64\n"
     ]
    }
   ],
   "source": [
    "print(invalid_counts)"
   ]
  },
  {
   "cell_type": "markdown",
   "metadata": {},
   "source": [
    "Przeanalizujmy jeszcze i wyczyśćmy kolumny dla których brakuje min. 500 pozycji"
   ]
  },
  {
   "cell_type": "code",
   "execution_count": 70,
   "metadata": {},
   "outputs": [
    {
     "name": "stdout",
     "output_type": "stream",
     "text": [
      "COKECRACK     924\n",
      "MJGT12MO     1606\n",
      "COCGT12MO     515\n",
      "ANYGT12MO    2010\n",
      "NUMARREST     588\n",
      "SCHDSICK     2973\n",
      "dtype: int64\n"
     ]
    }
   ],
   "source": [
    "print(invalid_counts[invalid_counts > 500])\n"
   ]
  },
  {
   "cell_type": "code",
   "execution_count": 71,
   "metadata": {},
   "outputs": [
    {
     "data": {
      "text/plain": [
       "Index(['ANYINDEX', 'WORKFORCE', 'CACHAR', 'CATYPE', 'CRIMEHIST', 'ANYSDRUG',\n",
       "       'ANYATTACK', 'ANYTHEFT', 'HEALTH2', 'SCHDSKIP', 'DSTCHEER', 'DSTNRVOS',\n",
       "       'ADWRELES', 'ADWRSMOR', 'ADWRSTHK', 'YOWRSATP', 'NOMARR2', 'RKIDSHH'],\n",
       "      dtype='object')"
      ]
     },
     "execution_count": 71,
     "metadata": {},
     "output_type": "execute_result"
    }
   ],
   "source": [
    "remaining_columns = invalid_counts[invalid_counts <= 500].index\n",
    "remaining_columns"
   ]
  }
 ],
 "metadata": {
  "kernelspec": {
   "display_name": ".venv",
   "language": "python",
   "name": "python3"
  },
  "language_info": {
   "codemirror_mode": {
    "name": "ipython",
    "version": 3
   },
   "file_extension": ".py",
   "mimetype": "text/x-python",
   "name": "python",
   "nbconvert_exporter": "python",
   "pygments_lexer": "ipython3",
   "version": "3.12.7"
  }
 },
 "nbformat": 4,
 "nbformat_minor": 2
}
