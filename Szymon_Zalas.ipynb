{
 "cells": [
  {
   "cell_type": "markdown",
   "metadata": {},
   "source": [
    "# Analiza datasetu Gender, Mental Illness, and Crime in the United States, 2004 (ICPSR 27521)"
   ]
  },
  {
   "cell_type": "markdown",
   "metadata": {},
   "source": [
    "Szymon Zalas 147493\n",
    "\n",
    "Na podstawie https://put-jug.github.io/lab-ead/Lab%2010%20-%20Projekt%20blok2_2024.html"
   ]
  },
  {
   "cell_type": "code",
   "execution_count": 1,
   "metadata": {},
   "outputs": [],
   "source": [
    "import pandas as pd\n",
    "import seaborn as sns\n",
    "import matplotlib.pyplot as plt"
   ]
  },
  {
   "cell_type": "markdown",
   "metadata": {},
   "source": [
    "## 0) Omówienie Projektu"
   ]
  },
  {
   "cell_type": "markdown",
   "metadata": {},
   "source": [
    "### a) Opis próby"
   ]
  },
  {
   "cell_type": "markdown",
   "metadata": {},
   "source": [
    "Celem projetku jest znalezienie czynników odpowiedzialnych za depresję, tak żeby po ich określeniu można było dokonać oceny ryzyka depresji w danej grupie wiekowej na podstawie datasetu Gender, Mental Illness, and Crime in the United States, 2004 (ICPSR 27521). Próba obejmowała 67 760 osób, z czego plik zawiera 55 602 rekordów ze względu na resampling stosowany w procesie anonimizacji. Stratyfikacja próby jest wielopoziomowa, zaczynając od stanów, gdzie 8 jest uważanych za stany o dużej próbie i wnoszą ok. 3600 respondentów na stan. Reszta stanów obejmuje ok 900 respondentów. \n",
    "\n",
    " Próbkowanie obejmowało pięć grup wiekowych: \n",
    "- 12–17 lat,\n",
    "- 18–25 lat,\n",
    "- 26–34 lata,\n",
    "- 35–49 lat,\n",
    "- 50 lat i więcej.\n",
    "\n",
    "Projekt próby obejmował mniej więcej równą liczbę osób w grupach wiekowych:\n",
    "- 12–17 lat,\n",
    "- 18–25 lat,\n",
    "- 26 lat i starszych."
   ]
  },
  {
   "cell_type": "code",
   "execution_count": 2,
   "metadata": {},
   "outputs": [],
   "source": [
    "base_df=pd.read_csv('27521-0001-Data.tsv', sep='\\t',header=0)"
   ]
  },
  {
   "cell_type": "markdown",
   "metadata": {},
   "source": [
    "### b) Opis zmiennych"
   ]
  },
  {
   "cell_type": "code",
   "execution_count": 3,
   "metadata": {},
   "outputs": [],
   "source": [
    "extracted_variables=[]"
   ]
  },
  {
   "cell_type": "markdown",
   "metadata": {},
   "source": [
    "#### Wskaźniki depresji"
   ]
  },
  {
   "cell_type": "markdown",
   "metadata": {},
   "source": [
    "- DEPRESSIONINDEX - wskaźnik natężenia depresji w skali 0-9 dla grupy dorosłych i w wieku młodzieńczym (brak odpowiedzi = -9)\n",
    "- DEPEPISODE - doświadczenie epizodu depresji w okresie całego zycia\n",
    "- MDELASTYR - epizod depresji w ostatnim roku\n",
    "- ANYTXRXMDE - jakiklolwiek zdarzenie zawiązane z leczeniem depresji lub receptą na leki antydepresyjne w minionym roku"
   ]
  },
  {
   "cell_type": "code",
   "execution_count": 4,
   "metadata": {},
   "outputs": [],
   "source": [
    "extracted_variables.extend(['DEPRESSIONINDEX','DEPEPISODE','MDELASTYR','ANYTXRXMDE'])"
   ]
  },
  {
   "cell_type": "markdown",
   "metadata": {},
   "source": [
    "#### Wskaźniki wieku"
   ]
  },
  {
   "cell_type": "markdown",
   "metadata": {},
   "source": [
    "- CATAG2 - 3 grupy wiekowe: 12-17, 18-25, >25\n",
    "- CATAG3 - równoliczne 5 kategorii wiekowych\n",
    "- CATAG7 - równoliczne 7 kategorii wiekowych\n",
    "\n",
    "Grupa wiekowa (12-17 (youth)) ma w pewnych obszarach inne zestawy pytań niż grupy starsze (rozróżnienie jest kodowane w nazwach kolumn YOxxx lub ADxx)"
   ]
  },
  {
   "cell_type": "code",
   "execution_count": 5,
   "metadata": {},
   "outputs": [],
   "source": [
    "extracted_variables.extend(['CATAG2','CATAG3','CATAG7'])"
   ]
  },
  {
   "cell_type": "markdown",
   "metadata": {},
   "source": [
    "#### Wskaźnik płci"
   ]
  },
  {
   "cell_type": "markdown",
   "metadata": {},
   "source": [
    "- IRSEX - rozróżnia płeć biologiczną"
   ]
  },
  {
   "cell_type": "code",
   "execution_count": 6,
   "metadata": {},
   "outputs": [],
   "source": [
    "extracted_variables.extend(['IRSEX'])"
   ]
  },
  {
   "cell_type": "markdown",
   "metadata": {},
   "source": [
    "#### Wskaźnik rasy"
   ]
  },
  {
   "cell_type": "markdown",
   "metadata": {},
   "source": [
    "- NEWRACE2 (1-7)\n",
    "    1) NonHisp White\n",
    "    2) NonHisp Black/Afr\n",
    "    3) NonHisp Native Am/AK Native\n",
    "    4) NonHisp Native HI/Other Pac Isl\n",
    "    5) NonHisp Asian\n",
    "    6) NonHisp more than one race\n",
    "    7) Hispanic\n"
   ]
  },
  {
   "cell_type": "code",
   "execution_count": 7,
   "metadata": {},
   "outputs": [],
   "source": [
    "extracted_variables.extend(['NEWRACE2'])"
   ]
  },
  {
   "cell_type": "markdown",
   "metadata": {},
   "source": [
    "#### Wskaźnik uzależnienia od narkotyków i alkoholu"
   ]
  },
  {
   "cell_type": "markdown",
   "metadata": {},
   "source": [
    "- ANYINDEX - wskaźnik uzależnienia od dowolnego rodzaju narkotyków (boolean)\n",
    "- MJANDCOKE - marihuana lub kokaina (kiedykolwiek)\n",
    "- ILLICITDRUGUSE - nielegalny narkotyk (kiedykolwiek)\n",
    "- LSYRILLICIT - nielegalny narkotyk (ostatni rok)\n",
    "- COKECRACK - kokaina lub crack \n",
    "- OTHERILLICIT - inne nielegalne poza kokaina lub marihuaną (kiedykolwiek)\n",
    "- MARJLTYR - marihuana (ostatni rok)\n",
    "- MJCOKELY - marihuana, kokaina, crack (ostatni rok)\n",
    "- COCCRKLY - kokaina (ostatni rok)\n",
    "- MJGT12MO - marihuana (upłynęło więcej niż 12msc)\n",
    "- COCGT12MO - kokaina (upłynęło więcej niż 12msc)\n",
    "- ANYGT12MO - jakikolwiek narkotyck (upłynęło więcej niż 12msc)\n",
    "- ALCFMFPB - alkohol powodował problemy wśród rodziny/przyjaciół (ostatni rok)\n"
   ]
  },
  {
   "cell_type": "code",
   "execution_count": 8,
   "metadata": {},
   "outputs": [],
   "source": [
    "extracted_variables.extend(['ANYINDEX','MJANDCOKE', 'ILLICITDRUGUSE', 'LSYRILLICIT', 'COKECRACK', 'OTHERILLICIT','MARJLTYR', 'MJCOKELY', 'COCCRKLY','MJGT12MO', 'COCGT12MO', 'ANYGT12MO','ALCFMFPB'])"
   ]
  },
  {
   "cell_type": "markdown",
   "metadata": {},
   "source": [
    "#### Wskaźnik edukacji"
   ]
  },
  {
   "cell_type": "markdown",
   "metadata": {},
   "source": [
    "- IREDUC2 - wykształcenie\n",
    "- EDU_DUMMY - wykształcenie (średnie/niższe od średniego lub wyższe)"
   ]
  },
  {
   "cell_type": "code",
   "execution_count": 9,
   "metadata": {},
   "outputs": [],
   "source": [
    "extracted_variables.extend(['IREDUC2','EDU_DUMMY'])"
   ]
  },
  {
   "cell_type": "markdown",
   "metadata": {},
   "source": [
    "#### Wskaźniki ekonomiczne"
   ]
  },
  {
   "cell_type": "markdown",
   "metadata": {},
   "source": [
    "- INCOME - dochód rodziny\n",
    "- INCOME_R - dochód własny\n",
    "- POVERTY - dochód rodziny odniesiony do wskaźnika biedy\n",
    "- IRPRVHLT - prywatne ubezpieczenie zdrowotne\n",
    "- WORKFORCE - informacja czy osoba pracuje/pracowała\n",
    "- EMPSTAT4 - status zatrudnienia"
   ]
  },
  {
   "cell_type": "code",
   "execution_count": 10,
   "metadata": {},
   "outputs": [],
   "source": [
    "extracted_variables.extend(['INCOME','INCOME_R','POVERTY','IRPRVHLT','WORKFORCE','EMPSTAT4'])"
   ]
  },
  {
   "cell_type": "markdown",
   "metadata": {},
   "source": [
    "#### Wskaźniki warunków zamieszkania"
   ]
  },
  {
   "cell_type": "markdown",
   "metadata": {},
   "source": [
    "- REVERSEPOP - charakterystyka miejsca zamieszkania (gęstość zaludnienia)\n",
    "- MOVESPY2 - liczba przeprowadzek w okresie ostatnich 12 miesięcy\n",
    "- CACHAR, CATYPE - typ mieszkania"
   ]
  },
  {
   "cell_type": "code",
   "execution_count": 11,
   "metadata": {},
   "outputs": [],
   "source": [
    "extracted_variables.extend(['REVERSEPOP','MOVESPY2','CACHAR','CATYPE'])"
   ]
  },
  {
   "cell_type": "markdown",
   "metadata": {},
   "source": [
    "#### Wskaźnik konfliktów z prawem"
   ]
  },
  {
   "cell_type": "markdown",
   "metadata": {},
   "source": [
    "- CRIMEHIST - kiedykolwiek aresztowany\n",
    "- ANYSDRUG - sprzedarz narkotyków (ostatnie 12 msc)\n",
    "- ANYATTACK - atak na inną osobę (ostatnie 12 msc)\n",
    "- ANYTHEFT - kradzież przedmiotu o wartości min 50$ (ostatnie 12 msc)\n",
    "- NUMARREST - liczba aresztowań (ostatnie 12 msc)"
   ]
  },
  {
   "cell_type": "code",
   "execution_count": 12,
   "metadata": {},
   "outputs": [],
   "source": [
    "extracted_variables.extend(['CRIMEHIST','ANYSDRUG','ANYATTACK','ANYTHEFT','NUMARREST'])"
   ]
  },
  {
   "cell_type": "markdown",
   "metadata": {},
   "source": [
    "#### Stan zdrowia"
   ]
  },
  {
   "cell_type": "markdown",
   "metadata": {},
   "source": [
    "- HEALTH2 - stan zdrowia\n",
    "- SCHDSICK - liczba dni opuszczonych w szkole z uwagi choroby (dla uczniów)\n",
    "- SCHDSKIP - liczba dni opuszczony z powodu wagarów\n",
    "- TXLCAD - informacja o terapii uzależnień od narkotyków lub alkoholu\n",
    "- DSTNCALM - jak często nie mógł się uspokoić w najgorszych miesiącach\n",
    "- DSTTIRE - jak często był wycięczony w najgorszych miesiącach\n",
    "- DSTSITST - jak często nie mógł usiedzieć na miejscu w najgorszych miesiącach\n",
    "- DSTDEPRS - jak często miał poczucie depresji w najgorszych miesiącach\n",
    "- DSTCHEER - jak często nie mógł być pocieszony w najgorszych miesiącach\n",
    "- DSTNRVOS - jak często czuł stany nerwowe w najgorszych miesiącach\n",
    "- ADWRELES - mniejszy apetyt w najgorszych miesiącach\n",
    "- ADWRSMOR - problemy ze snem\n",
    "- ADWRSTHK - myśli samobójcze\n",
    "- YOWRSATP - próba samobójcza"
   ]
  },
  {
   "cell_type": "code",
   "execution_count": 13,
   "metadata": {},
   "outputs": [],
   "source": [
    "extracted_variables.extend(['HEALTH2', 'SCHDSICK', 'SCHDSKIP', 'TXLCAD', 'DSTNCALM', 'DSTTIRE', 'DSTSITST', 'DSTDEPRS', 'DSTCHEER', 'DSTNRVOS', 'ADWRELES', 'ADWRSMOR', 'ADWRSTHK', 'YOWRSATP'])"
   ]
  },
  {
   "cell_type": "markdown",
   "metadata": {},
   "source": [
    "#### Rodzina"
   ]
  },
  {
   "cell_type": "markdown",
   "metadata": {},
   "source": [
    "- IRMARIT - stan cywilny\n",
    "- NOMARR2 - liczba razy kiedy osoba wchodziła w związek małżeński\n",
    "- RKIDSHH - liczba dzieci respondent\n",
    "- MARRIED - aktualny stan cywilny\n",
    "- CHILDRENINHOME - czy ma dzieci (min 1)"
   ]
  },
  {
   "cell_type": "code",
   "execution_count": 14,
   "metadata": {},
   "outputs": [],
   "source": [
    "extracted_variables.extend(['IRMARIT','NOMARR2','RKIDSHH','MARRIED','CHILDRENINHOME'])"
   ]
  },
  {
   "cell_type": "code",
   "execution_count": 15,
   "metadata": {},
   "outputs": [
    {
     "data": {
      "text/html": [
       "<div>\n",
       "<style scoped>\n",
       "    .dataframe tbody tr th:only-of-type {\n",
       "        vertical-align: middle;\n",
       "    }\n",
       "\n",
       "    .dataframe tbody tr th {\n",
       "        vertical-align: top;\n",
       "    }\n",
       "\n",
       "    .dataframe thead th {\n",
       "        text-align: right;\n",
       "    }\n",
       "</style>\n",
       "<table border=\"1\" class=\"dataframe\">\n",
       "  <thead>\n",
       "    <tr style=\"text-align: right;\">\n",
       "      <th></th>\n",
       "      <th>DEPRESSIONINDEX</th>\n",
       "      <th>DEPEPISODE</th>\n",
       "      <th>MDELASTYR</th>\n",
       "      <th>ANYTXRXMDE</th>\n",
       "      <th>CATAG2</th>\n",
       "      <th>CATAG3</th>\n",
       "      <th>CATAG7</th>\n",
       "      <th>IRSEX</th>\n",
       "      <th>NEWRACE2</th>\n",
       "      <th>ANYINDEX</th>\n",
       "      <th>...</th>\n",
       "      <th>DSTNRVOS</th>\n",
       "      <th>ADWRELES</th>\n",
       "      <th>ADWRSMOR</th>\n",
       "      <th>ADWRSTHK</th>\n",
       "      <th>YOWRSATP</th>\n",
       "      <th>IRMARIT</th>\n",
       "      <th>NOMARR2</th>\n",
       "      <th>RKIDSHH</th>\n",
       "      <th>MARRIED</th>\n",
       "      <th>CHILDRENINHOME</th>\n",
       "    </tr>\n",
       "  </thead>\n",
       "  <tbody>\n",
       "    <tr>\n",
       "      <th>0</th>\n",
       "      <td>0</td>\n",
       "      <td>0</td>\n",
       "      <td>0</td>\n",
       "      <td>0</td>\n",
       "      <td>2</td>\n",
       "      <td>2</td>\n",
       "      <td>5</td>\n",
       "      <td>1</td>\n",
       "      <td>7</td>\n",
       "      <td>0.142857</td>\n",
       "      <td>...</td>\n",
       "      <td>4</td>\n",
       "      <td>99</td>\n",
       "      <td>99</td>\n",
       "      <td>99</td>\n",
       "      <td>99</td>\n",
       "      <td>4</td>\n",
       "      <td>99</td>\n",
       "      <td>0</td>\n",
       "      <td>0</td>\n",
       "      <td>0</td>\n",
       "    </tr>\n",
       "    <tr>\n",
       "      <th>1</th>\n",
       "      <td>0</td>\n",
       "      <td>0</td>\n",
       "      <td>0</td>\n",
       "      <td>0</td>\n",
       "      <td>2</td>\n",
       "      <td>2</td>\n",
       "      <td>4</td>\n",
       "      <td>1</td>\n",
       "      <td>1</td>\n",
       "      <td>0.142857</td>\n",
       "      <td>...</td>\n",
       "      <td>4</td>\n",
       "      <td>99</td>\n",
       "      <td>99</td>\n",
       "      <td>99</td>\n",
       "      <td>99</td>\n",
       "      <td>4</td>\n",
       "      <td>99</td>\n",
       "      <td>0</td>\n",
       "      <td>0</td>\n",
       "      <td>0</td>\n",
       "    </tr>\n",
       "    <tr>\n",
       "      <th>2</th>\n",
       "      <td>0</td>\n",
       "      <td>0</td>\n",
       "      <td>0</td>\n",
       "      <td>0</td>\n",
       "      <td>3</td>\n",
       "      <td>5</td>\n",
       "      <td>7</td>\n",
       "      <td>1</td>\n",
       "      <td>1</td>\n",
       "      <td>0.142857</td>\n",
       "      <td>...</td>\n",
       "      <td>5</td>\n",
       "      <td>99</td>\n",
       "      <td>99</td>\n",
       "      <td>99</td>\n",
       "      <td>99</td>\n",
       "      <td>1</td>\n",
       "      <td>1</td>\n",
       "      <td>0</td>\n",
       "      <td>1</td>\n",
       "      <td>0</td>\n",
       "    </tr>\n",
       "    <tr>\n",
       "      <th>3</th>\n",
       "      <td>0</td>\n",
       "      <td>0</td>\n",
       "      <td>0</td>\n",
       "      <td>0</td>\n",
       "      <td>2</td>\n",
       "      <td>2</td>\n",
       "      <td>5</td>\n",
       "      <td>1</td>\n",
       "      <td>1</td>\n",
       "      <td>0.500000</td>\n",
       "      <td>...</td>\n",
       "      <td>4</td>\n",
       "      <td>99</td>\n",
       "      <td>99</td>\n",
       "      <td>99</td>\n",
       "      <td>99</td>\n",
       "      <td>4</td>\n",
       "      <td>99</td>\n",
       "      <td>0</td>\n",
       "      <td>0</td>\n",
       "      <td>0</td>\n",
       "    </tr>\n",
       "    <tr>\n",
       "      <th>4</th>\n",
       "      <td>0</td>\n",
       "      <td>0</td>\n",
       "      <td>0</td>\n",
       "      <td>0</td>\n",
       "      <td>3</td>\n",
       "      <td>4</td>\n",
       "      <td>7</td>\n",
       "      <td>2</td>\n",
       "      <td>1</td>\n",
       "      <td>0.142857</td>\n",
       "      <td>...</td>\n",
       "      <td>3</td>\n",
       "      <td>99</td>\n",
       "      <td>99</td>\n",
       "      <td>99</td>\n",
       "      <td>99</td>\n",
       "      <td>1</td>\n",
       "      <td>1</td>\n",
       "      <td>1</td>\n",
       "      <td>1</td>\n",
       "      <td>1</td>\n",
       "    </tr>\n",
       "    <tr>\n",
       "      <th>...</th>\n",
       "      <td>...</td>\n",
       "      <td>...</td>\n",
       "      <td>...</td>\n",
       "      <td>...</td>\n",
       "      <td>...</td>\n",
       "      <td>...</td>\n",
       "      <td>...</td>\n",
       "      <td>...</td>\n",
       "      <td>...</td>\n",
       "      <td>...</td>\n",
       "      <td>...</td>\n",
       "      <td>...</td>\n",
       "      <td>...</td>\n",
       "      <td>...</td>\n",
       "      <td>...</td>\n",
       "      <td>...</td>\n",
       "      <td>...</td>\n",
       "      <td>...</td>\n",
       "      <td>...</td>\n",
       "      <td>...</td>\n",
       "      <td>...</td>\n",
       "    </tr>\n",
       "    <tr>\n",
       "      <th>55597</th>\n",
       "      <td>-9</td>\n",
       "      <td>-1</td>\n",
       "      <td>-1</td>\n",
       "      <td>-9</td>\n",
       "      <td>2</td>\n",
       "      <td>2</td>\n",
       "      <td>5</td>\n",
       "      <td>1</td>\n",
       "      <td>1</td>\n",
       "      <td>0.142857</td>\n",
       "      <td>...</td>\n",
       "      <td>5</td>\n",
       "      <td>99</td>\n",
       "      <td>99</td>\n",
       "      <td>99</td>\n",
       "      <td>99</td>\n",
       "      <td>4</td>\n",
       "      <td>99</td>\n",
       "      <td>0</td>\n",
       "      <td>0</td>\n",
       "      <td>0</td>\n",
       "    </tr>\n",
       "    <tr>\n",
       "      <th>55598</th>\n",
       "      <td>0</td>\n",
       "      <td>0</td>\n",
       "      <td>0</td>\n",
       "      <td>0</td>\n",
       "      <td>2</td>\n",
       "      <td>2</td>\n",
       "      <td>5</td>\n",
       "      <td>1</td>\n",
       "      <td>1</td>\n",
       "      <td>0.142857</td>\n",
       "      <td>...</td>\n",
       "      <td>4</td>\n",
       "      <td>99</td>\n",
       "      <td>99</td>\n",
       "      <td>99</td>\n",
       "      <td>99</td>\n",
       "      <td>1</td>\n",
       "      <td>1</td>\n",
       "      <td>1</td>\n",
       "      <td>1</td>\n",
       "      <td>1</td>\n",
       "    </tr>\n",
       "    <tr>\n",
       "      <th>55599</th>\n",
       "      <td>-9</td>\n",
       "      <td>-1</td>\n",
       "      <td>-1</td>\n",
       "      <td>-9</td>\n",
       "      <td>2</td>\n",
       "      <td>2</td>\n",
       "      <td>5</td>\n",
       "      <td>2</td>\n",
       "      <td>1</td>\n",
       "      <td>0.142857</td>\n",
       "      <td>...</td>\n",
       "      <td>5</td>\n",
       "      <td>99</td>\n",
       "      <td>99</td>\n",
       "      <td>99</td>\n",
       "      <td>99</td>\n",
       "      <td>1</td>\n",
       "      <td>1</td>\n",
       "      <td>1</td>\n",
       "      <td>1</td>\n",
       "      <td>1</td>\n",
       "    </tr>\n",
       "    <tr>\n",
       "      <th>55600</th>\n",
       "      <td>0</td>\n",
       "      <td>0</td>\n",
       "      <td>0</td>\n",
       "      <td>0</td>\n",
       "      <td>3</td>\n",
       "      <td>3</td>\n",
       "      <td>6</td>\n",
       "      <td>1</td>\n",
       "      <td>1</td>\n",
       "      <td>0.142857</td>\n",
       "      <td>...</td>\n",
       "      <td>3</td>\n",
       "      <td>99</td>\n",
       "      <td>99</td>\n",
       "      <td>99</td>\n",
       "      <td>99</td>\n",
       "      <td>1</td>\n",
       "      <td>1</td>\n",
       "      <td>0</td>\n",
       "      <td>1</td>\n",
       "      <td>0</td>\n",
       "    </tr>\n",
       "    <tr>\n",
       "      <th>55601</th>\n",
       "      <td>-9</td>\n",
       "      <td>-1</td>\n",
       "      <td>-1</td>\n",
       "      <td>-9</td>\n",
       "      <td>3</td>\n",
       "      <td>4</td>\n",
       "      <td>7</td>\n",
       "      <td>1</td>\n",
       "      <td>1</td>\n",
       "      <td>0.142857</td>\n",
       "      <td>...</td>\n",
       "      <td>5</td>\n",
       "      <td>99</td>\n",
       "      <td>99</td>\n",
       "      <td>99</td>\n",
       "      <td>99</td>\n",
       "      <td>1</td>\n",
       "      <td>1</td>\n",
       "      <td>1</td>\n",
       "      <td>1</td>\n",
       "      <td>1</td>\n",
       "    </tr>\n",
       "  </tbody>\n",
       "</table>\n",
       "<p>55602 rows × 58 columns</p>\n",
       "</div>"
      ],
      "text/plain": [
       "       DEPRESSIONINDEX  DEPEPISODE  MDELASTYR  ANYTXRXMDE  CATAG2  CATAG3  \\\n",
       "0                    0           0          0           0       2       2   \n",
       "1                    0           0          0           0       2       2   \n",
       "2                    0           0          0           0       3       5   \n",
       "3                    0           0          0           0       2       2   \n",
       "4                    0           0          0           0       3       4   \n",
       "...                ...         ...        ...         ...     ...     ...   \n",
       "55597               -9          -1         -1          -9       2       2   \n",
       "55598                0           0          0           0       2       2   \n",
       "55599               -9          -1         -1          -9       2       2   \n",
       "55600                0           0          0           0       3       3   \n",
       "55601               -9          -1         -1          -9       3       4   \n",
       "\n",
       "       CATAG7  IRSEX  NEWRACE2  ANYINDEX  ...  DSTNRVOS  ADWRELES  ADWRSMOR  \\\n",
       "0           5      1         7  0.142857  ...         4        99        99   \n",
       "1           4      1         1  0.142857  ...         4        99        99   \n",
       "2           7      1         1  0.142857  ...         5        99        99   \n",
       "3           5      1         1  0.500000  ...         4        99        99   \n",
       "4           7      2         1  0.142857  ...         3        99        99   \n",
       "...       ...    ...       ...       ...  ...       ...       ...       ...   \n",
       "55597       5      1         1  0.142857  ...         5        99        99   \n",
       "55598       5      1         1  0.142857  ...         4        99        99   \n",
       "55599       5      2         1  0.142857  ...         5        99        99   \n",
       "55600       6      1         1  0.142857  ...         3        99        99   \n",
       "55601       7      1         1  0.142857  ...         5        99        99   \n",
       "\n",
       "       ADWRSTHK  YOWRSATP  IRMARIT  NOMARR2  RKIDSHH  MARRIED  CHILDRENINHOME  \n",
       "0            99        99        4       99        0        0               0  \n",
       "1            99        99        4       99        0        0               0  \n",
       "2            99        99        1        1        0        1               0  \n",
       "3            99        99        4       99        0        0               0  \n",
       "4            99        99        1        1        1        1               1  \n",
       "...         ...       ...      ...      ...      ...      ...             ...  \n",
       "55597        99        99        4       99        0        0               0  \n",
       "55598        99        99        1        1        1        1               1  \n",
       "55599        99        99        1        1        1        1               1  \n",
       "55600        99        99        1        1        0        1               0  \n",
       "55601        99        99        1        1        1        1               1  \n",
       "\n",
       "[55602 rows x 58 columns]"
      ]
     },
     "execution_count": 15,
     "metadata": {},
     "output_type": "execute_result"
    }
   ],
   "source": [
    "main_df=base_df[extracted_variables] # extract the variables of interest\n",
    "main_df"
   ]
  },
  {
   "cell_type": "markdown",
   "metadata": {},
   "source": [
    "## 1) FAZA 1 - Czyszczenie danych i analiza czynnikowa "
   ]
  },
  {
   "cell_type": "markdown",
   "metadata": {},
   "source": [
    "### a) Czyszczenie danych"
   ]
  },
  {
   "cell_type": "code",
   "execution_count": 16,
   "metadata": {},
   "outputs": [
    {
     "data": {
      "text/plain": [
       "np.int64(0)"
      ]
     },
     "execution_count": 16,
     "metadata": {},
     "output_type": "execute_result"
    }
   ],
   "source": [
    "main_df.isna().sum().max()"
   ]
  },
  {
   "cell_type": "markdown",
   "metadata": {},
   "source": [
    "Dane zawarte w datasecie zostały już częściowo oczyszczone a w dokumencie opisującym, możemy znaleść dokładne oznaczenia powodów brakujących danych. Typowo, brakujące dane są oznaczane albo wartością ujemną albo bardzo wysoką (powyżej 90), przy czym wartość 99 oznacza uzasadnione pominięcie pytania."
   ]
  },
  {
   "cell_type": "code",
   "execution_count": 17,
   "metadata": {},
   "outputs": [
    {
     "name": "stdout",
     "output_type": "stream",
     "text": [
      "DEPRESSIONINDEX    18630\n",
      "DEPEPISODE         19019\n",
      "MDELASTYR          19070\n",
      "ANYTXRXMDE         18963\n",
      "ANYINDEX              35\n",
      "COKECRACK           1705\n",
      "MJGT12MO            1930\n",
      "COCGT12MO            781\n",
      "ANYGT12MO           2410\n",
      "ALCFMFPB           28140\n",
      "WORKFORCE             21\n",
      "CACHAR                 7\n",
      "CATYPE               121\n",
      "CRIMEHIST            159\n",
      "ANYSDRUG             167\n",
      "ANYATTACK            116\n",
      "ANYTHEFT             123\n",
      "NUMARREST            853\n",
      "HEALTH2               12\n",
      "SCHDSICK            3447\n",
      "SCHDSKIP              72\n",
      "TXLCAD             54622\n",
      "DSTNCALM             221\n",
      "DSTTIRE              163\n",
      "DSTSITST             174\n",
      "DSTDEPRS             143\n",
      "DSTCHEER             283\n",
      "DSTNRVOS             350\n",
      "ADWRELES             147\n",
      "ADWRSMOR             135\n",
      "ADWRSTHK             136\n",
      "YOWRSATP             227\n",
      "NOMARR2               13\n",
      "RKIDSHH               45\n",
      "dtype: int64\n"
     ]
    }
   ],
   "source": [
    "invalid_counts = main_df[(main_df < 0) | ((main_df > 80) & (main_df < 99))].count()[lambda x: x > 0]\n",
    "print(invalid_counts)"
   ]
  },
  {
   "cell_type": "code",
   "execution_count": 18,
   "metadata": {},
   "outputs": [
    {
     "name": "stdout",
     "output_type": "stream",
     "text": [
      "Aktualna liczba danych: 55602\n",
      "Najwyższa liczba nieprawidłowych wartości: 54622 dla zmiennej TXLCAD\n",
      "Najniższa liczba nieprawidłowych wartości: 7 dla zmiennej CACHAR\n"
     ]
    }
   ],
   "source": [
    "len_0=main_df.shape[0]\n",
    "print(f'Aktualna liczba danych: {len_0}')\n",
    "print(f'Najwyższa liczba nieprawidłowych wartości: {invalid_counts.max()} dla zmiennej {invalid_counts.idxmax()}')\n",
    "print(f'Najniższa liczba nieprawidłowych wartości: {invalid_counts.min()} dla zmiennej {invalid_counts.idxmin()}')"
   ]
  },
  {
   "cell_type": "markdown",
   "metadata": {},
   "source": [
    "#### Czyszczenie analityczne"
   ]
  },
  {
   "cell_type": "markdown",
   "metadata": {},
   "source": [
    "Początkowo pozbędziemy się wierszy w których wszystkie informacje dotyczące wystąpienia depresji są mniejsze od 0 - nie jesteśmy w stanie przewidzieć jaka jest tam prawdziwa odpowiedź"
   ]
  },
  {
   "cell_type": "code",
   "execution_count": 19,
   "metadata": {},
   "outputs": [],
   "source": [
    "columns_to_check = ['DEPRESSIONINDEX', 'DEPEPISODE', 'MDELASTYR', 'ANYTXRXMDE']\n",
    "mask = (main_df[columns_to_check] >= 0).all(axis=1)\n",
    "main_df = main_df[mask]"
   ]
  },
  {
   "cell_type": "code",
   "execution_count": 20,
   "metadata": {},
   "outputs": [
    {
     "name": "stdout",
     "output_type": "stream",
     "text": [
      "Aktualna liczba danych: 36505\n",
      "Najwyższa liczba nieprawidłowych wartości: 35899 dla zmiennej TXLCAD\n",
      "Najniższa liczba nieprawidłowych wartości: 4 dla zmiennej WORKFORCE\n"
     ]
    }
   ],
   "source": [
    "len_1=main_df.shape[0]\n",
    "print(f'Aktualna liczba danych: {len_1}')\n",
    "invalid_counts = main_df[(main_df < 0) | ((main_df > 80) & (main_df < 99))].count()[lambda x: x > 0]\n",
    "print(f'Najwyższa liczba nieprawidłowych wartości: {invalid_counts.max()} dla zmiennej {invalid_counts.idxmax()}')\n",
    "print(f'Najniższa liczba nieprawidłowych wartości: {invalid_counts.min()} dla zmiennej {invalid_counts.idxmin()}')"
   ]
  },
  {
   "cell_type": "markdown",
   "metadata": {},
   "source": [
    "Sprawdźmy rezultat"
   ]
  },
  {
   "cell_type": "code",
   "execution_count": 21,
   "metadata": {},
   "outputs": [
    {
     "name": "stdout",
     "output_type": "stream",
     "text": [
      "col_0  DEPRESSIONINDEX  DEPEPISODE  MDELASTYR  ANYTXRXMDE\n",
      "0                30076     30773.0    32999.0     34108.0\n",
      "1                  112      5732.0     3506.0      2397.0\n",
      "2                   71         NaN        NaN         NaN\n",
      "3                  170         NaN        NaN         NaN\n",
      "4                  344         NaN        NaN         NaN\n",
      "5                  599         NaN        NaN         NaN\n",
      "6                  954         NaN        NaN         NaN\n",
      "7                 1313         NaN        NaN         NaN\n",
      "8                 1543         NaN        NaN         NaN\n",
      "9                 1323         NaN        NaN         NaN\n",
      "Total            36505     36505.0    36505.0     36505.0\n"
     ]
    }
   ],
   "source": [
    "pivot_dfs = []\n",
    "\n",
    "for col in columns_to_check:\n",
    "    df_temp = pd.crosstab(index=main_df[col][main_df[col] >= 0], columns=col)\n",
    "    df_temp.loc['Total'] = df_temp.sum()\n",
    "    pivot_dfs.append(df_temp)\n",
    "\n",
    "result = pd.concat(pivot_dfs, axis=1)\n",
    "print(result)"
   ]
  },
  {
   "cell_type": "markdown",
   "metadata": {},
   "source": [
    "Poszukajmy kolumn w których ponad 90% wartości jest nieprawidłowa..."
   ]
  },
  {
   "cell_type": "code",
   "execution_count": 22,
   "metadata": {},
   "outputs": [
    {
     "name": "stdout",
     "output_type": "stream",
     "text": [
      "TXLCAD    35899\n",
      "dtype: int64\n"
     ]
    }
   ],
   "source": [
    "th_len=int(len_1*0.9)\n",
    "invalid_counts = main_df[(main_df < 0) | ((main_df > 80) & (main_df < 99))].count()[lambda x: x > th_len]\n",
    "print(invalid_counts)"
   ]
  },
  {
   "cell_type": "markdown",
   "metadata": {},
   "source": [
    "... a następnie je wyrzućmy."
   ]
  },
  {
   "cell_type": "code",
   "execution_count": 23,
   "metadata": {},
   "outputs": [],
   "source": [
    "main_df = main_df.drop(columns=invalid_counts.index)"
   ]
  },
  {
   "cell_type": "code",
   "execution_count": 24,
   "metadata": {},
   "outputs": [
    {
     "name": "stdout",
     "output_type": "stream",
     "text": [
      "Aktualna liczba danych: 36505\n",
      "Najwyższa liczba nieprawidłowych wartości: 21012 dla zmiennej ALCFMFPB\n",
      "Najniższa liczba nieprawidłowych wartości: 4 dla zmiennej WORKFORCE\n"
     ]
    }
   ],
   "source": [
    "len_2=main_df.shape[0]\n",
    "print(f'Aktualna liczba danych: {len_2}')\n",
    "invalid_counts = main_df[(main_df < 0) | ((main_df > 80) & (main_df < 99))].count()[lambda x: x > 0]\n",
    "print(f'Najwyższa liczba nieprawidłowych wartości: {invalid_counts.max()} dla zmiennej {invalid_counts.idxmax()}')\n",
    "print(f'Najniższa liczba nieprawidłowych wartości: {invalid_counts.min()} dla zmiennej {invalid_counts.idxmin()}')"
   ]
  },
  {
   "cell_type": "code",
   "execution_count": 25,
   "metadata": {},
   "outputs": [
    {
     "name": "stdout",
     "output_type": "stream",
     "text": [
      "ANYINDEX        24\n",
      "COKECRACK      924\n",
      "MJGT12MO      1606\n",
      "COCGT12MO      515\n",
      "ANYGT12MO     2010\n",
      "ALCFMFPB     21012\n",
      "WORKFORCE        4\n",
      "CACHAR           7\n",
      "CATYPE          79\n",
      "CRIMEHIST       74\n",
      "ANYSDRUG        76\n",
      "ANYATTACK       39\n",
      "ANYTHEFT        49\n",
      "NUMARREST      588\n",
      "HEALTH2         10\n",
      "SCHDSICK      2973\n",
      "SCHDSKIP        42\n",
      "DSTCHEER        66\n",
      "DSTNRVOS        96\n",
      "ADWRELES        16\n",
      "ADWRSMOR         4\n",
      "ADWRSTHK         8\n",
      "YOWRSATP        31\n",
      "NOMARR2         10\n",
      "RKIDSHH         15\n",
      "dtype: int64\n"
     ]
    }
   ],
   "source": [
    "print(invalid_counts)"
   ]
  },
  {
   "cell_type": "markdown",
   "metadata": {},
   "source": [
    "Brakujące wartości w ALCMFPB odnoszą się do problemów związanych z piciem alkoholu, i na podstawie [icpsr](https://www.icpsr.umich.edu/web/NACJD/studies/27521/datasets/0001/variables/ALCFMFPB?archive=nacjd) możemy założyć że:\n",
    "- wartości 83, 91, 93 raczej odnoszą się do braku problemów\n",
    "- wartości 94, 97, 98 mogą być próbą uniknięcia udzielenie odpowiedzi ze wstydu, zostaną uznane jako wystąpienie problemów"
   ]
  },
  {
   "cell_type": "code",
   "execution_count": 26,
   "metadata": {},
   "outputs": [],
   "source": [
    "value_map = {\n",
    "    93: 0,\n",
    "    91: 0,\n",
    "    83: 0,\n",
    "    94: 1,\n",
    "    97: 1,\n",
    "    98: 1\n",
    "}\n",
    "main_df['ALCFMFPB'] = main_df['ALCFMFPB'].replace(value_map)"
   ]
  },
  {
   "cell_type": "code",
   "execution_count": 27,
   "metadata": {},
   "outputs": [
    {
     "name": "stdout",
     "output_type": "stream",
     "text": [
      "Aktualna liczba danych: 36505\n",
      "Najwyższa liczba nieprawidłowych wartości: 2973 dla zmiennej SCHDSICK\n",
      "Najniższa liczba nieprawidłowych wartości: 4 dla zmiennej WORKFORCE\n"
     ]
    }
   ],
   "source": [
    "len_3=main_df.shape[0]\n",
    "print(f'Aktualna liczba danych: {len_3}')\n",
    "invalid_counts = main_df[(main_df < 0) | ((main_df > 80) & (main_df < 99))].count()[lambda x: x > 0]\n",
    "print(f'Najwyższa liczba nieprawidłowych wartości: {invalid_counts.max()} dla zmiennej {invalid_counts.idxmax()}')\n",
    "print(f'Najniższa liczba nieprawidłowych wartości: {invalid_counts.min()} dla zmiennej {invalid_counts.idxmin()}')"
   ]
  },
  {
   "cell_type": "code",
   "execution_count": 28,
   "metadata": {},
   "outputs": [
    {
     "name": "stdout",
     "output_type": "stream",
     "text": [
      "ANYINDEX       24\n",
      "COKECRACK     924\n",
      "MJGT12MO     1606\n",
      "COCGT12MO     515\n",
      "ANYGT12MO    2010\n",
      "WORKFORCE       4\n",
      "CACHAR          7\n",
      "CATYPE         79\n",
      "CRIMEHIST      74\n",
      "ANYSDRUG       76\n",
      "ANYATTACK      39\n",
      "ANYTHEFT       49\n",
      "NUMARREST     588\n",
      "HEALTH2        10\n",
      "SCHDSICK     2973\n",
      "SCHDSKIP       42\n",
      "DSTCHEER       66\n",
      "DSTNRVOS       96\n",
      "ADWRELES       16\n",
      "ADWRSMOR        4\n",
      "ADWRSTHK        8\n",
      "YOWRSATP       31\n",
      "NOMARR2        10\n",
      "RKIDSHH        15\n",
      "dtype: int64\n"
     ]
    }
   ],
   "source": [
    "print(invalid_counts)"
   ]
  },
  {
   "cell_type": "markdown",
   "metadata": {},
   "source": [
    "Przeanalizujmy jeszcze i wyczyśćmy kolumny dla których brakuje min. 500 pozycji"
   ]
  },
  {
   "cell_type": "code",
   "execution_count": 29,
   "metadata": {},
   "outputs": [
    {
     "name": "stdout",
     "output_type": "stream",
     "text": [
      "COKECRACK     924\n",
      "MJGT12MO     1606\n",
      "COCGT12MO     515\n",
      "ANYGT12MO    2010\n",
      "NUMARREST     588\n",
      "SCHDSICK     2973\n",
      "dtype: int64\n"
     ]
    }
   ],
   "source": [
    "print(invalid_counts[invalid_counts > 500])\n"
   ]
  },
  {
   "cell_type": "code",
   "execution_count": 30,
   "metadata": {},
   "outputs": [
    {
     "data": {
      "text/plain": [
       "Index(['COKECRACK', 'MJGT12MO', 'COCGT12MO', 'ANYGT12MO', 'NUMARREST',\n",
       "       'SCHDSICK'],\n",
       "      dtype='object')"
      ]
     },
     "execution_count": 30,
     "metadata": {},
     "output_type": "execute_result"
    }
   ],
   "source": [
    "remaining_columns = invalid_counts[invalid_counts > 500].index\n",
    "remaining_columns"
   ]
  },
  {
   "cell_type": "markdown",
   "metadata": {},
   "source": [
    "W przypadku zmiennych określających użycie narkotyków możemy założyć, że brak odpowiedzi oznacza, iż dana osoba brała dany narkotyk. Możemy to ustalić zakładając odwrotnie, że osoby które nie brały narkotyków chętniej zaznaczą że tego nie zrobiły."
   ]
  },
  {
   "cell_type": "code",
   "execution_count": 31,
   "metadata": {},
   "outputs": [
    {
     "data": {
      "text/plain": [
       "COKECRACK\n",
       "0    32871\n",
       "1     3634\n",
       "Name: count, dtype: int64"
      ]
     },
     "execution_count": 31,
     "metadata": {},
     "output_type": "execute_result"
    }
   ],
   "source": [
    "value_map = {\n",
    "    -1:1\n",
    "}\n",
    "main_df['COKECRACK'] = main_df['COKECRACK'].replace(value_map)\n",
    "main_df['COKECRACK'].value_counts()"
   ]
  },
  {
   "cell_type": "markdown",
   "metadata": {},
   "source": [
    "Zamieniamy wartości MJGT12MO na 1 tam gdzie wcześniej wystąpił brak odpowiedzi (-9), a w kolumnie MJANDCOKE jest 1."
   ]
  },
  {
   "cell_type": "code",
   "execution_count": 32,
   "metadata": {},
   "outputs": [
    {
     "name": "stdout",
     "output_type": "stream",
     "text": [
      "MJANDCOKE==1 i MJGT12MO==-9: 1606\n",
      "\n",
      "Rzędy:\n",
      "       MJANDCOKE  MJGT12MO\n",
      "7              1        -9\n",
      "32             1        -9\n",
      "102            1        -9\n",
      "124            1        -9\n",
      "149            1        -9\n",
      "...          ...       ...\n",
      "55382          1        -9\n",
      "55519          1        -9\n",
      "55528          1        -9\n",
      "55535          1        -9\n",
      "55560          1        -9\n",
      "\n",
      "[1606 rows x 2 columns]\n"
     ]
    }
   ],
   "source": [
    "mask = (main_df['MJANDCOKE'] == 1) & (main_df['MJGT12MO'] == -9)\n",
    "filtered_rows = main_df[mask]\n",
    "print(f'MJANDCOKE==1 i MJGT12MO==-9: {mask.sum()}')\n",
    "print(\"\\nRzędy:\")\n",
    "print(filtered_rows[['MJANDCOKE', 'MJGT12MO']])"
   ]
  },
  {
   "cell_type": "code",
   "execution_count": 33,
   "metadata": {},
   "outputs": [
    {
     "name": "stdout",
     "output_type": "stream",
     "text": [
      "MJANDCOKE==1 i MJGT12MO==-9: 0\n",
      "\n",
      "Rzędy:\n",
      "Empty DataFrame\n",
      "Columns: [MJANDCOKE, MJGT12MO]\n",
      "Index: []\n"
     ]
    }
   ],
   "source": [
    "main_df.loc[mask, 'MJGT12MO'] = 1\n",
    "mask = (main_df['MJANDCOKE'] == 1) & (main_df['MJGT12MO'] == -9)\n",
    "filtered_rows = main_df[mask]\n",
    "print(f'MJANDCOKE==1 i MJGT12MO==-9: {mask.sum()}')\n",
    "print(\"\\nRzędy:\")\n",
    "print(filtered_rows[['MJANDCOKE', 'MJGT12MO']])"
   ]
  },
  {
   "cell_type": "markdown",
   "metadata": {},
   "source": [
    "To samo zrobimy dla COCGT12MO."
   ]
  },
  {
   "cell_type": "code",
   "execution_count": 34,
   "metadata": {},
   "outputs": [
    {
     "name": "stdout",
     "output_type": "stream",
     "text": [
      "MJANDCOKE==1 i COCGT12MO==-9: 515\n",
      "\n",
      "Rzędy:\n",
      "       MJANDCOKE  COCGT12MO\n",
      "107            1         -9\n",
      "125            1         -9\n",
      "179            1         -9\n",
      "281            1         -9\n",
      "305            1         -9\n",
      "...          ...        ...\n",
      "55011          1         -9\n",
      "55038          1         -9\n",
      "55090          1         -9\n",
      "55133          1         -9\n",
      "55587          1         -9\n",
      "\n",
      "[515 rows x 2 columns]\n"
     ]
    }
   ],
   "source": [
    "mask = (main_df['MJANDCOKE'] == 1) & (main_df['COCGT12MO'] == -9)\n",
    "filtered_rows = main_df[mask]\n",
    "print(f'MJANDCOKE==1 i COCGT12MO==-9: {mask.sum()}')\n",
    "print(\"\\nRzędy:\")\n",
    "print(filtered_rows[['MJANDCOKE', 'COCGT12MO']])"
   ]
  },
  {
   "cell_type": "code",
   "execution_count": 35,
   "metadata": {},
   "outputs": [
    {
     "name": "stdout",
     "output_type": "stream",
     "text": [
      "MJANDCOKE==1 i COCGT12MO==-9: 0\n",
      "\n",
      "Rzędy:\n",
      "Empty DataFrame\n",
      "Columns: [MJANDCOKE, COCGT12MO]\n",
      "Index: []\n"
     ]
    }
   ],
   "source": [
    "main_df.loc[mask, 'COCGT12MO'] = 1\n",
    "mask = (main_df['MJANDCOKE'] == 1) & (main_df['COCGT12MO'] == -9)\n",
    "filtered_rows = main_df[mask]\n",
    "print(f'MJANDCOKE==1 i COCGT12MO==-9: {mask.sum()}')\n",
    "print(\"\\nRzędy:\")\n",
    "print(filtered_rows[['MJANDCOKE', 'COCGT12MO']])"
   ]
  },
  {
   "cell_type": "markdown",
   "metadata": {},
   "source": [
    "Oraz dla ANYGT12MO z tym że porównujemy z OTHERILLICIT."
   ]
  },
  {
   "cell_type": "code",
   "execution_count": 36,
   "metadata": {},
   "outputs": [
    {
     "name": "stdout",
     "output_type": "stream",
     "text": [
      "OTHERILLICIT==1 i ANYGT12MO==-9: 1093\n",
      "\n",
      "Rzędy:\n",
      "       OTHERILLICIT  ANYGT12MO\n",
      "21                1         -9\n",
      "86                1         -9\n",
      "116               1         -9\n",
      "192               1         -9\n",
      "203               1         -9\n",
      "...             ...        ...\n",
      "55198             1         -9\n",
      "55307             1         -9\n",
      "55327             1         -9\n",
      "55420             1         -9\n",
      "55560             1         -9\n",
      "\n",
      "[1093 rows x 2 columns]\n"
     ]
    }
   ],
   "source": [
    "mask = (main_df['OTHERILLICIT'] == 1) & (main_df['ANYGT12MO'] == -9)\n",
    "filtered_rows = main_df[mask]\n",
    "print(f'OTHERILLICIT==1 i ANYGT12MO==-9: {mask.sum()}')\n",
    "print(\"\\nRzędy:\")\n",
    "print(filtered_rows[['OTHERILLICIT', 'ANYGT12MO']])"
   ]
  },
  {
   "cell_type": "code",
   "execution_count": 37,
   "metadata": {},
   "outputs": [
    {
     "name": "stdout",
     "output_type": "stream",
     "text": [
      "OTHERILLICIT==1 i ANYGT12MO==-9: 0\n",
      "\n",
      "Rzędy:\n",
      "Empty DataFrame\n",
      "Columns: [OTHERILLICIT, ANYGT12MO]\n",
      "Index: []\n"
     ]
    }
   ],
   "source": [
    "main_df.loc[mask, 'ANYGT12MO'] = 1\n",
    "mask = (main_df['OTHERILLICIT'] == 1) & (main_df['ANYGT12MO'] == -9)\n",
    "filtered_rows = main_df[mask]\n",
    "print(f'OTHERILLICIT==1 i ANYGT12MO==-9: {mask.sum()}')\n",
    "print(\"\\nRzędy:\")\n",
    "print(filtered_rows[['OTHERILLICIT', 'ANYGT12MO']])"
   ]
  },
  {
   "cell_type": "markdown",
   "metadata": {},
   "source": [
    "W przypadku NUMARREST ciężko jest określić ile razy dana osoba mogła być aresztowana, dlatego wyrzucimy rzędy z brakującymi wartościami."
   ]
  },
  {
   "cell_type": "code",
   "execution_count": 38,
   "metadata": {},
   "outputs": [
    {
     "name": "stdout",
     "output_type": "stream",
     "text": [
      "Usunięto 588 wierszy\n",
      "Pozostało 35917 wierszy\n"
     ]
    }
   ],
   "source": [
    "len_4 = len(main_df)\n",
    "main_df = main_df[main_df['NUMARREST'] != -9]\n",
    "len_5 = len(main_df)\n",
    "print(f'Usunięto {len_4 - len_5} wierszy')\n",
    "print(f'Pozostało {len_5} wierszy')\n"
   ]
  },
  {
   "cell_type": "markdown",
   "metadata": {},
   "source": [
    "SCHDSICK dotyczy jedynie młodzieży i nie jesteśmy w stanie dodać tej wartości dla dorosłych dlatego usuwamy kolumnę."
   ]
  },
  {
   "cell_type": "code",
   "execution_count": 39,
   "metadata": {},
   "outputs": [],
   "source": [
    "main_df = main_df.drop(columns='SCHDSICK')"
   ]
  },
  {
   "cell_type": "code",
   "execution_count": 40,
   "metadata": {},
   "outputs": [
    {
     "name": "stdout",
     "output_type": "stream",
     "text": [
      "Aktualna liczba danych: 35917\n"
     ]
    },
    {
     "name": "stdout",
     "output_type": "stream",
     "text": [
      "Najwyższa liczba nieprawidłowych wartości: 895 dla zmiennej ANYGT12MO\n",
      "Najniższa liczba nieprawidłowych wartości: 4 dla zmiennej WORKFORCE\n"
     ]
    }
   ],
   "source": [
    "len_6=main_df.shape[0]\n",
    "print(f'Aktualna liczba danych: {len_6}')\n",
    "invalid_counts = main_df[(main_df < 0) | ((main_df > 80) & (main_df < 99))].count()[lambda x: x > 0]\n",
    "print(f'Najwyższa liczba nieprawidłowych wartości: {invalid_counts.max()} dla zmiennej {invalid_counts.idxmax()}')\n",
    "print(f'Najniższa liczba nieprawidłowych wartości: {invalid_counts.min()} dla zmiennej {invalid_counts.idxmin()}')"
   ]
  },
  {
   "cell_type": "code",
   "execution_count": 41,
   "metadata": {},
   "outputs": [
    {
     "name": "stdout",
     "output_type": "stream",
     "text": [
      "ANYINDEX      23\n",
      "ANYGT12MO    895\n",
      "WORKFORCE      4\n",
      "CACHAR         7\n",
      "CATYPE        79\n",
      "ANYSDRUG      69\n",
      "ANYATTACK     36\n",
      "ANYTHEFT      44\n",
      "HEALTH2       10\n",
      "SCHDSKIP      41\n",
      "DSTCHEER      63\n",
      "DSTNRVOS      91\n",
      "ADWRELES      16\n",
      "ADWRSMOR       4\n",
      "ADWRSTHK       8\n",
      "YOWRSATP      30\n",
      "NOMARR2        9\n",
      "RKIDSHH       13\n",
      "dtype: int64\n"
     ]
    }
   ],
   "source": [
    "print(invalid_counts)"
   ]
  },
  {
   "cell_type": "markdown",
   "metadata": {},
   "source": [
    "#### Masowe czyszczenie"
   ]
  },
  {
   "cell_type": "markdown",
   "metadata": {},
   "source": [
    "Usuwamy rzędy lub kolumny danych gdzie pozostały dodatkowe brakujące wartości."
   ]
  },
  {
   "cell_type": "code",
   "execution_count": 42,
   "metadata": {},
   "outputs": [
    {
     "name": "stdout",
     "output_type": "stream",
     "text": [
      "Aktualna liczba danych: 35917\n",
      "Najwyższa liczba nieprawidłowych wartości: 91 dla zmiennej DSTNRVOS\n"
     ]
    }
   ],
   "source": [
    "len_7=main_df.shape[0]\n",
    "print(f'Aktualna liczba danych: {len_7}')\n",
    "main_df = main_df[main_df['ANYGT12MO'] != -9]\n",
    "invalid_counts = main_df[(main_df < 0) | ((main_df > 80) & (main_df < 99))].count()[lambda x: x > 0]\n",
    "max_invalid = invalid_counts.max()\n",
    "max_invalid_column = invalid_counts[invalid_counts == max_invalid].index[0]\n",
    "print(f'Najwyższa liczba nieprawidłowych wartości: {max_invalid} dla zmiennej {max_invalid_column}')"
   ]
  },
  {
   "cell_type": "code",
   "execution_count": 43,
   "metadata": {},
   "outputs": [
    {
     "name": "stdout",
     "output_type": "stream",
     "text": [
      "DSTNRVOS\n",
      "1       763\n",
      "2      1872\n",
      "3      4508\n",
      "4      6375\n",
      "5      4468\n",
      "85        1\n",
      "94       57\n",
      "97       33\n",
      "99    16945\n",
      "Name: count, dtype: int64\n"
     ]
    }
   ],
   "source": [
    "print(main_df['DSTNRVOS'].value_counts().sort_index())"
   ]
  },
  {
   "cell_type": "code",
   "execution_count": 44,
   "metadata": {},
   "outputs": [],
   "source": [
    "main_df = main_df.drop(columns='DSTNRVOS')"
   ]
  },
  {
   "cell_type": "code",
   "execution_count": 45,
   "metadata": {},
   "outputs": [
    {
     "name": "stdout",
     "output_type": "stream",
     "text": [
      "Najwyższa liczba nieprawidłowych wartości: 77 dla zmiennej CATYPE\n"
     ]
    }
   ],
   "source": [
    "invalid_counts = main_df[(main_df < 0) | ((main_df > 80) & (main_df < 99))].count()[lambda x: x > 0]\n",
    "max_invalid = invalid_counts.max()\n",
    "max_invalid_column = invalid_counts[invalid_counts == max_invalid].index[0]\n",
    "print(f'Najwyższa liczba nieprawidłowych wartości: {max_invalid} dla zmiennej {max_invalid_column}')"
   ]
  },
  {
   "cell_type": "code",
   "execution_count": 46,
   "metadata": {},
   "outputs": [
    {
     "name": "stdout",
     "output_type": "stream",
     "text": [
      "CATYPE\n",
      "-9       77\n",
      " 1    30440\n",
      " 2      795\n",
      " 3      499\n",
      " 4     1103\n",
      " 5     1974\n",
      " 6      134\n",
      "Name: count, dtype: int64\n"
     ]
    }
   ],
   "source": [
    "print(main_df['CATYPE'].value_counts().sort_index())"
   ]
  },
  {
   "cell_type": "code",
   "execution_count": 47,
   "metadata": {},
   "outputs": [
    {
     "name": "stdout",
     "output_type": "stream",
     "text": [
      "Najwyższa liczba nieprawidłowych wartości: 68 dla zmiennej ANYSDRUG\n"
     ]
    }
   ],
   "source": [
    "main_df = main_df[main_df['CATYPE'] != -9]\n",
    "invalid_counts = main_df[(main_df < 0) | ((main_df > 80) & (main_df < 99))].count()[lambda x: x > 0]\n",
    "max_invalid = invalid_counts.max()\n",
    "max_invalid_column = invalid_counts[invalid_counts == max_invalid].index[0]\n",
    "print(f'Najwyższa liczba nieprawidłowych wartości: {max_invalid} dla zmiennej {max_invalid_column}')"
   ]
  },
  {
   "cell_type": "code",
   "execution_count": 48,
   "metadata": {},
   "outputs": [
    {
     "name": "stdout",
     "output_type": "stream",
     "text": [
      "ANYSDRUG\n",
      "-1       68\n",
      " 0    33638\n",
      " 1     1239\n",
      "Name: count, dtype: int64\n"
     ]
    }
   ],
   "source": [
    "print(main_df['ANYSDRUG'].value_counts().sort_index())"
   ]
  },
  {
   "cell_type": "code",
   "execution_count": 49,
   "metadata": {},
   "outputs": [
    {
     "name": "stdout",
     "output_type": "stream",
     "text": [
      "Najwyższa liczba nieprawidłowych wartości: 57 dla zmiennej DSTCHEER\n"
     ]
    }
   ],
   "source": [
    "main_df = main_df[main_df['ANYSDRUG'] != -1]\n",
    "invalid_counts = main_df[(main_df < 0) | ((main_df > 80) & (main_df < 99))].count()[lambda x: x > 0]\n",
    "max_invalid = invalid_counts.max()\n",
    "max_invalid_column = invalid_counts[invalid_counts == max_invalid].index[0]\n",
    "print(f'Najwyższa liczba nieprawidłowych wartości: {max_invalid} dla zmiennej {max_invalid_column}')"
   ]
  },
  {
   "cell_type": "code",
   "execution_count": 50,
   "metadata": {},
   "outputs": [
    {
     "name": "stdout",
     "output_type": "stream",
     "text": [
      "DSTCHEER\n",
      "1       722\n",
      "2      1503\n",
      "3      2801\n",
      "4      4167\n",
      "5      8740\n",
      "94       37\n",
      "97       20\n",
      "99    16887\n",
      "Name: count, dtype: int64\n"
     ]
    }
   ],
   "source": [
    "print(main_df['DSTCHEER'].value_counts().sort_index())"
   ]
  },
  {
   "cell_type": "code",
   "execution_count": 51,
   "metadata": {},
   "outputs": [
    {
     "data": {
      "text/plain": [
       "DSTCHEER\n",
       "5    25684\n",
       "4     4167\n",
       "3     2801\n",
       "2     1503\n",
       "1      722\n",
       "Name: count, dtype: int64"
      ]
     },
     "execution_count": 51,
     "metadata": {},
     "output_type": "execute_result"
    }
   ],
   "source": [
    "value_map = {\n",
    "    94:5,\n",
    "    97:5,\n",
    "    99:5\n",
    "}\n",
    "main_df['DSTCHEER'] = main_df['DSTCHEER'].replace(value_map)\n",
    "main_df['DSTCHEER'].value_counts()"
   ]
  },
  {
   "cell_type": "code",
   "execution_count": 52,
   "metadata": {},
   "outputs": [
    {
     "name": "stdout",
     "output_type": "stream",
     "text": [
      "Najwyższa liczba nieprawidłowych wartości: 40 dla zmiennej SCHDSKIP\n"
     ]
    }
   ],
   "source": [
    "invalid_counts = main_df[(main_df < 0) | ((main_df > 80) & (main_df < 99))].count()[lambda x: x > 0]\n",
    "max_invalid = invalid_counts.max()\n",
    "max_invalid_column = invalid_counts[invalid_counts == max_invalid].index[0]\n",
    "print(f'Najwyższa liczba nieprawidłowych wartości: {max_invalid} dla zmiennej {max_invalid_column}')"
   ]
  },
  {
   "cell_type": "code",
   "execution_count": 53,
   "metadata": {},
   "outputs": [
    {
     "name": "stdout",
     "output_type": "stream",
     "text": [
      "SCHDSKIP\n",
      "0     14511\n",
      "1      1116\n",
      "2       683\n",
      "3       300\n",
      "4       164\n",
      "5       156\n",
      "6        48\n",
      "7        31\n",
      "8        22\n",
      "9         6\n",
      "10       42\n",
      "12        7\n",
      "13        3\n",
      "14        3\n",
      "15       11\n",
      "17        1\n",
      "20        9\n",
      "21        1\n",
      "25        3\n",
      "26        1\n",
      "29        1\n",
      "30        4\n",
      "94       20\n",
      "97        2\n",
      "98       18\n",
      "99    17714\n",
      "Name: count, dtype: int64\n"
     ]
    }
   ],
   "source": [
    "print(main_df['SCHDSKIP'].value_counts().sort_index())"
   ]
  },
  {
   "cell_type": "code",
   "execution_count": 54,
   "metadata": {},
   "outputs": [],
   "source": [
    "main_df = main_df.drop(columns='SCHDSKIP')"
   ]
  },
  {
   "cell_type": "code",
   "execution_count": 55,
   "metadata": {},
   "outputs": [
    {
     "name": "stdout",
     "output_type": "stream",
     "text": [
      "Najwyższa liczba nieprawidłowych wartości: 26 dla zmiennej YOWRSATP\n"
     ]
    }
   ],
   "source": [
    "invalid_counts = main_df[(main_df < 0) | ((main_df > 80) & (main_df < 99))].count()[lambda x: x > 0]\n",
    "max_invalid = invalid_counts.max()\n",
    "max_invalid_column = invalid_counts[invalid_counts == max_invalid].index[0]\n",
    "print(f'Najwyższa liczba nieprawidłowych wartości: {max_invalid} dla zmiennej {max_invalid_column}')"
   ]
  },
  {
   "cell_type": "code",
   "execution_count": 56,
   "metadata": {},
   "outputs": [
    {
     "name": "stdout",
     "output_type": "stream",
     "text": [
      "YOWRSATP\n",
      "1       502\n",
      "2       799\n",
      "94        1\n",
      "97        6\n",
      "98       19\n",
      "99    33550\n",
      "Name: count, dtype: int64\n"
     ]
    }
   ],
   "source": [
    "print(main_df['YOWRSATP'].value_counts().sort_index())"
   ]
  },
  {
   "cell_type": "code",
   "execution_count": 57,
   "metadata": {},
   "outputs": [
    {
     "data": {
      "text/plain": [
       "YOWRSATP\n",
       "2    34349\n",
       "1      528\n",
       "Name: count, dtype: int64"
      ]
     },
     "execution_count": 57,
     "metadata": {},
     "output_type": "execute_result"
    }
   ],
   "source": [
    "value_map = {\n",
    "    94:1,\n",
    "    97:1,\n",
    "    98:1,\n",
    "    99:2\n",
    "}\n",
    "main_df['YOWRSATP'] = main_df['YOWRSATP'].replace(value_map)\n",
    "main_df['YOWRSATP'].value_counts()"
   ]
  },
  {
   "cell_type": "code",
   "execution_count": 58,
   "metadata": {},
   "outputs": [
    {
     "name": "stdout",
     "output_type": "stream",
     "text": [
      "Najwyższa liczba nieprawidłowych wartości: 21 dla zmiennej ANYINDEX\n"
     ]
    }
   ],
   "source": [
    "invalid_counts = main_df[(main_df < 0) | ((main_df > 80) & (main_df < 99))].count()[lambda x: x > 0]\n",
    "max_invalid = invalid_counts.max()\n",
    "max_invalid_column = invalid_counts[invalid_counts == max_invalid].index[0]\n",
    "print(f'Najwyższa liczba nieprawidłowych wartości: {max_invalid} dla zmiennej {max_invalid_column}')"
   ]
  },
  {
   "cell_type": "code",
   "execution_count": 59,
   "metadata": {},
   "outputs": [
    {
     "name": "stdout",
     "output_type": "stream",
     "text": [
      "ANYINDEX\n",
      "-1.000000       21\n",
      " 0.142857    31752\n",
      " 0.166667     1010\n",
      " 0.285714      187\n",
      " 0.333333      753\n",
      " 0.428571      106\n",
      " 0.500000      392\n",
      " 0.571429      100\n",
      " 0.666667      224\n",
      " 0.714286       82\n",
      " 0.833333      119\n",
      " 0.857143       68\n",
      " 1.000000       63\n",
      "Name: count, dtype: int64\n"
     ]
    }
   ],
   "source": [
    "print(main_df['ANYINDEX'].value_counts().sort_index())"
   ]
  },
  {
   "cell_type": "code",
   "execution_count": 60,
   "metadata": {},
   "outputs": [
    {
     "name": "stdout",
     "output_type": "stream",
     "text": [
      "Najwyższa liczba nieprawidłowych wartości: 16 dla zmiennej ANYATTACK\n"
     ]
    }
   ],
   "source": [
    "main_df = main_df[main_df['ANYINDEX'] != -1.000000]\n",
    "invalid_counts = main_df[(main_df < 0) | ((main_df > 80) & (main_df < 99))].count()[lambda x: x > 0]\n",
    "max_invalid = invalid_counts.max()\n",
    "max_invalid_column = invalid_counts[invalid_counts == max_invalid].index[0]\n",
    "print(f'Najwyższa liczba nieprawidłowych wartości: {max_invalid} dla zmiennej {max_invalid_column}')"
   ]
  },
  {
   "cell_type": "code",
   "execution_count": 61,
   "metadata": {},
   "outputs": [
    {
     "name": "stdout",
     "output_type": "stream",
     "text": [
      "ANYATTACK\n",
      "-1       16\n",
      " 0    32946\n",
      " 1     1894\n",
      "Name: count, dtype: int64\n"
     ]
    }
   ],
   "source": [
    "print(main_df['ANYATTACK'].value_counts().sort_index())"
   ]
  },
  {
   "cell_type": "code",
   "execution_count": 62,
   "metadata": {},
   "outputs": [
    {
     "name": "stdout",
     "output_type": "stream",
     "text": [
      "Najwyższa liczba nieprawidłowych wartości: 15 dla zmiennej ADWRELES\n"
     ]
    }
   ],
   "source": [
    "main_df = main_df[main_df['ANYATTACK'] != -1]\n",
    "invalid_counts = main_df[(main_df < 0) | ((main_df > 80) & (main_df < 99))].count()[lambda x: x > 0]\n",
    "max_invalid = invalid_counts.max()\n",
    "max_invalid_column = invalid_counts[invalid_counts == max_invalid].index[0]\n",
    "print(f'Najwyższa liczba nieprawidłowych wartości: {max_invalid} dla zmiennej {max_invalid_column}')"
   ]
  },
  {
   "cell_type": "code",
   "execution_count": 63,
   "metadata": {},
   "outputs": [
    {
     "name": "stdout",
     "output_type": "stream",
     "text": [
      "ADWRELES\n",
      "1      2070\n",
      "2      1307\n",
      "94       15\n",
      "99    31448\n",
      "Name: count, dtype: int64\n"
     ]
    }
   ],
   "source": [
    "print(main_df['ADWRELES'].value_counts().sort_index())"
   ]
  },
  {
   "cell_type": "code",
   "execution_count": 64,
   "metadata": {},
   "outputs": [
    {
     "data": {
      "text/plain": [
       "ADWRELES\n",
       "2    32755\n",
       "1     2070\n",
       "Name: count, dtype: int64"
      ]
     },
     "execution_count": 64,
     "metadata": {},
     "output_type": "execute_result"
    }
   ],
   "source": [
    "main_df = main_df[main_df['ADWRELES'] != 94]\n",
    "value_map = {\n",
    "    99:2\n",
    "}\n",
    "main_df['ADWRELES'] = main_df['ADWRELES'].replace(value_map)\n",
    "main_df['ADWRELES'].value_counts()"
   ]
  },
  {
   "cell_type": "code",
   "execution_count": 65,
   "metadata": {},
   "outputs": [
    {
     "name": "stdout",
     "output_type": "stream",
     "text": [
      "Najwyższa liczba nieprawidłowych wartości: 13 dla zmiennej RKIDSHH\n"
     ]
    }
   ],
   "source": [
    "invalid_counts = main_df[(main_df < 0) | ((main_df > 80) & (main_df < 99))].count()[lambda x: x > 0]\n",
    "max_invalid = invalid_counts.max()\n",
    "max_invalid_column = invalid_counts[invalid_counts == max_invalid].index[0]\n",
    "print(f'Najwyższa liczba nieprawidłowych wartości: {max_invalid} dla zmiennej {max_invalid_column}')"
   ]
  },
  {
   "cell_type": "code",
   "execution_count": 66,
   "metadata": {},
   "outputs": [
    {
     "name": "stdout",
     "output_type": "stream",
     "text": [
      "RKIDSHH\n",
      "-1       13\n",
      " 0    28752\n",
      " 1     6060\n",
      "Name: count, dtype: int64\n"
     ]
    }
   ],
   "source": [
    "print(main_df['RKIDSHH'].value_counts().sort_index())"
   ]
  },
  {
   "cell_type": "code",
   "execution_count": 67,
   "metadata": {},
   "outputs": [],
   "source": [
    "main_df = main_df[main_df['RKIDSHH'] != -1]"
   ]
  },
  {
   "cell_type": "code",
   "execution_count": 68,
   "metadata": {},
   "outputs": [
    {
     "name": "stdout",
     "output_type": "stream",
     "text": [
      "Najwyższa liczba nieprawidłowych wartości: 12 dla zmiennej ANYTHEFT\n"
     ]
    }
   ],
   "source": [
    "invalid_counts = main_df[(main_df < 0) | ((main_df > 80) & (main_df < 99))].count()[lambda x: x > 0]\n",
    "max_invalid = invalid_counts.max()\n",
    "max_invalid_column = invalid_counts[invalid_counts == max_invalid].index[0]\n",
    "print(f'Najwyższa liczba nieprawidłowych wartości: {max_invalid} dla zmiennej {max_invalid_column}')"
   ]
  },
  {
   "cell_type": "code",
   "execution_count": 69,
   "metadata": {},
   "outputs": [
    {
     "name": "stdout",
     "output_type": "stream",
     "text": [
      "ANYTHEFT\n",
      "-1       12\n",
      " 0    33794\n",
      " 1     1006\n",
      "Name: count, dtype: int64\n"
     ]
    }
   ],
   "source": [
    "print(main_df['ANYTHEFT'].value_counts().sort_index())"
   ]
  },
  {
   "cell_type": "code",
   "execution_count": 70,
   "metadata": {},
   "outputs": [],
   "source": [
    "main_df = main_df[main_df['ANYTHEFT'] != -1]"
   ]
  },
  {
   "cell_type": "code",
   "execution_count": 71,
   "metadata": {},
   "outputs": [
    {
     "name": "stdout",
     "output_type": "stream",
     "text": [
      "Najwyższa liczba nieprawidłowych wartości: 10 dla zmiennej HEALTH2\n"
     ]
    }
   ],
   "source": [
    "invalid_counts = main_df[(main_df < 0) | ((main_df > 80) & (main_df < 99))].count()[lambda x: x > 0]\n",
    "max_invalid = invalid_counts.max()\n",
    "max_invalid_column = invalid_counts[invalid_counts == max_invalid].index[0]\n",
    "print(f'Najwyższa liczba nieprawidłowych wartości: {max_invalid} dla zmiennej {max_invalid_column}')"
   ]
  },
  {
   "cell_type": "code",
   "execution_count": 72,
   "metadata": {},
   "outputs": [
    {
     "name": "stdout",
     "output_type": "stream",
     "text": [
      "HEALTH2\n",
      "-9       10\n",
      " 1    10746\n",
      " 2    13937\n",
      " 3     7962\n",
      " 4     2145\n",
      "Name: count, dtype: int64\n"
     ]
    }
   ],
   "source": [
    "print(main_df['HEALTH2'].value_counts().sort_index())"
   ]
  },
  {
   "cell_type": "code",
   "execution_count": 73,
   "metadata": {},
   "outputs": [],
   "source": [
    "main_df = main_df[main_df['HEALTH2'] != -9]"
   ]
  },
  {
   "cell_type": "code",
   "execution_count": 74,
   "metadata": {},
   "outputs": [
    {
     "name": "stdout",
     "output_type": "stream",
     "text": [
      "Najwyższa liczba nieprawidłowych wartości: 8 dla zmiennej NOMARR2\n"
     ]
    }
   ],
   "source": [
    "invalid_counts = main_df[(main_df < 0) | ((main_df > 80) & (main_df < 99))].count()[lambda x: x > 0]\n",
    "max_invalid = invalid_counts.max()\n",
    "max_invalid_column = invalid_counts[invalid_counts == max_invalid].index[0]\n",
    "print(f'Najwyższa liczba nieprawidłowych wartości: {max_invalid} dla zmiennej {max_invalid_column}')"
   ]
  },
  {
   "cell_type": "code",
   "execution_count": 75,
   "metadata": {},
   "outputs": [
    {
     "name": "stdout",
     "output_type": "stream",
     "text": [
      "NOMARR2\n",
      "1      7269\n",
      "2      1843\n",
      "94        1\n",
      "97        7\n",
      "99    25670\n",
      "Name: count, dtype: int64\n"
     ]
    }
   ],
   "source": [
    "print(main_df['NOMARR2'].value_counts().sort_index())"
   ]
  },
  {
   "cell_type": "code",
   "execution_count": 76,
   "metadata": {},
   "outputs": [],
   "source": [
    "main_df = main_df[main_df['NOMARR2'] != 94]\n",
    "main_df = main_df[main_df['NOMARR2'] != 97]"
   ]
  },
  {
   "cell_type": "code",
   "execution_count": 77,
   "metadata": {},
   "outputs": [
    {
     "name": "stdout",
     "output_type": "stream",
     "text": [
      "Najwyższa liczba nieprawidłowych wartości: 7 dla zmiennej CACHAR\n"
     ]
    }
   ],
   "source": [
    "invalid_counts = main_df[(main_df < 0) | ((main_df > 80) & (main_df < 99))].count()[lambda x: x > 0]\n",
    "max_invalid = invalid_counts.max()\n",
    "max_invalid_column = invalid_counts[invalid_counts == max_invalid].index[0]\n",
    "print(f'Najwyższa liczba nieprawidłowych wartości: {max_invalid} dla zmiennej {max_invalid_column}')"
   ]
  },
  {
   "cell_type": "code",
   "execution_count": 78,
   "metadata": {},
   "outputs": [
    {
     "name": "stdout",
     "output_type": "stream",
     "text": [
      "CACHAR\n",
      "-9        7\n",
      " 1       55\n",
      " 2      612\n",
      " 3       93\n",
      " 4       88\n",
      " 5       54\n",
      " 6    26673\n",
      " 7     3725\n",
      " 8     1949\n",
      " 9     1526\n",
      "Name: count, dtype: int64\n"
     ]
    }
   ],
   "source": [
    "print(main_df['CACHAR'].value_counts().sort_index())"
   ]
  },
  {
   "cell_type": "code",
   "execution_count": 79,
   "metadata": {},
   "outputs": [],
   "source": [
    "main_df = main_df[main_df['CACHAR'] != -9]"
   ]
  },
  {
   "cell_type": "code",
   "execution_count": 80,
   "metadata": {},
   "outputs": [
    {
     "name": "stdout",
     "output_type": "stream",
     "text": [
      "Najwyższa liczba nieprawidłowych wartości: 7 dla zmiennej ADWRSTHK\n"
     ]
    }
   ],
   "source": [
    "invalid_counts = main_df[(main_df < 0) | ((main_df > 80) & (main_df < 99))].count()[lambda x: x > 0]\n",
    "max_invalid = invalid_counts.max()\n",
    "max_invalid_column = invalid_counts[invalid_counts == max_invalid].index[0]\n",
    "print(f'Najwyższa liczba nieprawidłowych wartości: {max_invalid} dla zmiennej {max_invalid_column}')"
   ]
  },
  {
   "cell_type": "code",
   "execution_count": 81,
   "metadata": {},
   "outputs": [
    {
     "name": "stdout",
     "output_type": "stream",
     "text": [
      "ADWRSTHK\n",
      "1      1300\n",
      "2      2065\n",
      "94        5\n",
      "97        2\n",
      "99    31403\n",
      "Name: count, dtype: int64\n"
     ]
    }
   ],
   "source": [
    "print(main_df['ADWRSTHK'].value_counts().sort_index())"
   ]
  },
  {
   "cell_type": "code",
   "execution_count": 82,
   "metadata": {},
   "outputs": [
    {
     "data": {
      "text/plain": [
       "ADWRSTHK\n",
       "2    33468\n",
       "1     1307\n",
       "Name: count, dtype: int64"
      ]
     },
     "execution_count": 82,
     "metadata": {},
     "output_type": "execute_result"
    }
   ],
   "source": [
    "value_map = {\n",
    "    94:1,\n",
    "    97:1,\n",
    "    99:2\n",
    "}\n",
    "main_df['ADWRSTHK'] = main_df['ADWRSTHK'].replace(value_map)\n",
    "main_df['ADWRSTHK'].value_counts()"
   ]
  },
  {
   "cell_type": "code",
   "execution_count": 83,
   "metadata": {},
   "outputs": [
    {
     "name": "stdout",
     "output_type": "stream",
     "text": [
      "Najwyższa liczba nieprawidłowych wartości: 2 dla zmiennej WORKFORCE\n"
     ]
    }
   ],
   "source": [
    "invalid_counts = main_df[(main_df < 0) | ((main_df > 80) & (main_df < 99))].count()[lambda x: x > 0]\n",
    "max_invalid = invalid_counts.max()\n",
    "max_invalid_column = invalid_counts[invalid_counts == max_invalid].index[0]\n",
    "print(f'Najwyższa liczba nieprawidłowych wartości: {max_invalid} dla zmiennej {max_invalid_column}')"
   ]
  },
  {
   "cell_type": "code",
   "execution_count": 84,
   "metadata": {},
   "outputs": [
    {
     "name": "stdout",
     "output_type": "stream",
     "text": [
      "WORKFORCE\n",
      "-1        2\n",
      " 0    19074\n",
      " 1    15699\n",
      "Name: count, dtype: int64\n"
     ]
    }
   ],
   "source": [
    "print(main_df['WORKFORCE'].value_counts().sort_index())"
   ]
  },
  {
   "cell_type": "code",
   "execution_count": 85,
   "metadata": {},
   "outputs": [],
   "source": [
    "main_df = main_df[main_df['WORKFORCE'] != -1]"
   ]
  },
  {
   "cell_type": "code",
   "execution_count": 86,
   "metadata": {},
   "outputs": [
    {
     "name": "stdout",
     "output_type": "stream",
     "text": [
      "Najwyższa liczba nieprawidłowych wartości: 2 dla zmiennej ADWRSMOR\n"
     ]
    }
   ],
   "source": [
    "invalid_counts = main_df[(main_df < 0) | ((main_df > 80) & (main_df < 99))].count()[lambda x: x > 0]\n",
    "max_invalid = invalid_counts.max()\n",
    "max_invalid_column = invalid_counts[invalid_counts == max_invalid].index[0]\n",
    "print(f'Najwyższa liczba nieprawidłowych wartości: {max_invalid} dla zmiennej {max_invalid_column}')"
   ]
  },
  {
   "cell_type": "code",
   "execution_count": 87,
   "metadata": {},
   "outputs": [
    {
     "name": "stdout",
     "output_type": "stream",
     "text": [
      "ADWRSMOR\n",
      "1       375\n",
      "2       238\n",
      "94        2\n",
      "99    34158\n",
      "Name: count, dtype: int64\n"
     ]
    }
   ],
   "source": [
    "print(main_df['ADWRSMOR'].value_counts().sort_index())"
   ]
  },
  {
   "cell_type": "code",
   "execution_count": 88,
   "metadata": {},
   "outputs": [],
   "source": [
    "main_df = main_df[main_df['ADWRSMOR'] != 94]"
   ]
  },
  {
   "cell_type": "code",
   "execution_count": 90,
   "metadata": {},
   "outputs": [
    {
     "name": "stdout",
     "output_type": "stream",
     "text": [
      "Brak nieprawidłowych wartości\n"
     ]
    }
   ],
   "source": [
    "try:\n",
    "    invalid_counts = main_df[(main_df < 0) | ((main_df > 80) & (main_df < 99))].count()[lambda x: x > 0]\n",
    "    max_invalid = invalid_counts.max()\n",
    "    max_invalid_column = invalid_counts[invalid_counts == max_invalid].index[0]\n",
    "    print(f'Najwyższa liczba nieprawidłowych wartości: {max_invalid} dla zmiennej {max_invalid_column}')\n",
    "except:\n",
    "    print('Brak nieprawidłowych wartości')"
   ]
  },
  {
   "cell_type": "markdown",
   "metadata": {},
   "source": [
    "#### Analiza wartości 99"
   ]
  },
  {
   "cell_type": "markdown",
   "metadata": {},
   "source": []
  }
 ],
 "metadata": {
  "kernelspec": {
   "display_name": ".venv",
   "language": "python",
   "name": "python3"
  },
  "language_info": {
   "codemirror_mode": {
    "name": "ipython",
    "version": 3
   },
   "file_extension": ".py",
   "mimetype": "text/x-python",
   "name": "python",
   "nbconvert_exporter": "python",
   "pygments_lexer": "ipython3",
   "version": "3.12.7"
  }
 },
 "nbformat": 4,
 "nbformat_minor": 2
}
